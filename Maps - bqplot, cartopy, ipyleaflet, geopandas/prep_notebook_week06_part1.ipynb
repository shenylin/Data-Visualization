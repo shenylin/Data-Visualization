{
 "cells": [
  {
   "cell_type": "markdown",
   "metadata": {},
   "source": [
    "# Heat Maps & Market Maps\n",
    "\n",
    "We'll build off our use of `bqplot` to make a dashboard with randomly sampled data last lecture to make interactive dashboards out of \"real\" data using the `UFO Dataset`.\n",
    "\n",
    "We'll also look at the `Market Map` marks in `bqplot` for another representation of mappable data in a dashboard."
   ]
  },
  {
   "cell_type": "markdown",
   "metadata": {},
   "source": [
    "Let's import our usual stuff:"
   ]
  },
  {
   "cell_type": "code",
   "execution_count": 1,
   "metadata": {},
   "outputs": [],
   "source": [
    "# import usual things\n",
    "import pandas as pd\n",
    "import bqplot\n",
    "import numpy as np\n",
    "import traitlets\n",
    "import ipywidgets\n",
    "import matplotlib.pyplot as plt\n",
    "####%matplotlib inline"
   ]
  },
  {
   "cell_type": "markdown",
   "metadata": {},
   "source": [
    "## Extra review from last time -- building up with 2D data in a histogram "
   ]
  },
  {
   "cell_type": "markdown",
   "metadata": {},
   "source": [
    "Lets start thinking about heatmaps with some random data:"
   ]
  },
  {
   "cell_type": "code",
   "execution_count": 2,
   "metadata": {},
   "outputs": [
    {
     "data": {
      "text/plain": [
       "array([[3.85939660e-01, 3.97321477e-01, 4.99557846e-01, 1.27110915e-01,\n",
       "        8.17062579e-01, 8.58447999e-01, 8.67885358e-06, 9.59343996e-01,\n",
       "        1.10030162e-01, 1.33154647e-02],\n",
       "       [8.89697500e-01, 1.00408473e-01, 5.14701911e-01, 9.31808396e-01,\n",
       "        3.80440566e-01, 1.67122019e-01, 8.94826004e-02, 2.55062006e-01,\n",
       "        1.14715538e-01, 3.28136228e-01],\n",
       "       [7.57511345e-01, 3.97414837e-01, 8.84440716e-01, 1.54466595e-01,\n",
       "        4.79254063e-01, 4.17728949e-01, 3.96742244e-01, 1.93776192e-01,\n",
       "        5.52344852e-01, 4.17012307e-01],\n",
       "       [7.19405853e-01, 5.04958079e-02, 3.35913977e-01, 5.68639369e-01,\n",
       "        8.78563905e-01, 7.29766600e-01, 7.17254190e-01, 1.05178102e-01,\n",
       "        7.37066679e-01, 7.81617992e-01],\n",
       "       [3.70890237e-01, 7.96446270e-01, 8.19329866e-01, 1.18139710e-01,\n",
       "        1.43600672e-01, 9.21205828e-01, 1.49481036e-01, 1.00448548e-02,\n",
       "        5.01274534e-01, 6.32683931e-01],\n",
       "       [8.25396000e-01, 6.41629186e-01, 8.25918553e-01, 6.83707565e-02,\n",
       "        5.43354609e-01, 3.54170235e-01, 6.58691840e-01, 4.04788943e-01,\n",
       "        3.20777886e-01, 2.82111542e-01],\n",
       "       [6.84486107e-01, 9.72308198e-01, 2.83190263e-01, 7.53234840e-02,\n",
       "        7.35780942e-01, 3.78181759e-02, 2.06201592e-01, 6.84246692e-01,\n",
       "        6.76215314e-01, 6.53766764e-02],\n",
       "       [6.70581111e-01, 3.77309690e-01, 6.35394588e-01, 6.44732575e-01,\n",
       "        4.18459562e-01, 4.78532303e-01, 7.56888230e-01, 4.94182916e-01,\n",
       "        5.36695996e-01, 1.16498390e-01],\n",
       "       [5.39400561e-01, 7.42908728e-01, 8.74135747e-02, 4.56287755e-01,\n",
       "        6.52088125e-02, 3.97288356e-01, 6.20207989e-01, 1.78211195e-01,\n",
       "        4.71085984e-01, 9.50330968e-01],\n",
       "       [2.54985294e-01, 1.27700527e-01, 7.21599867e-01, 7.42568208e-01,\n",
       "        2.83619502e-01, 1.94733073e-02, 8.69348310e-01, 8.66004698e-01,\n",
       "        1.88301694e-01, 7.73822033e-02]])"
      ]
     },
     "execution_count": 2,
     "metadata": {},
     "output_type": "execute_result"
    }
   ],
   "source": [
    "# 1. Data\n",
    "data = np.random.random((10, 10))\n",
    "data # your's may look different!"
   ]
  },
  {
   "cell_type": "code",
   "execution_count": 3,
   "metadata": {},
   "outputs": [
    {
     "data": {
      "text/plain": [
       "(10, 10)"
      ]
     },
     "execution_count": 3,
     "metadata": {},
     "output_type": "execute_result"
    }
   ],
   "source": [
    "data.shape"
   ]
  },
  {
   "cell_type": "markdown",
   "metadata": {},
   "source": [
    "So we just have a 10 x 10 array here.\n",
    "\n",
    "Lets start by generating a quick heat map with `bqplot`'s `GridHeatMap` marks function. We've been making plots with linear scales before, but now for a heatmap, we will want to make a color scale as well.  Let's start with just assigning a color scale, and going from there:"
   ]
  },
  {
   "cell_type": "code",
   "execution_count": 4,
   "metadata": {},
   "outputs": [],
   "source": [
    "bqplot.ColorScale?"
   ]
  },
  {
   "cell_type": "code",
   "execution_count": 5,
   "metadata": {},
   "outputs": [],
   "source": [
    "# 2. Scales -- in this case, just a color scale\n",
    "col_sc = bqplot.ColorScale() # use bqplot to define a color scale"
   ]
  },
  {
   "cell_type": "code",
   "execution_count": 6,
   "metadata": {},
   "outputs": [],
   "source": [
    "# 3. Axis -- skipping for now"
   ]
  },
  {
   "cell_type": "code",
   "execution_count": 7,
   "metadata": {},
   "outputs": [],
   "source": [
    "bqplot.GridHeatMap?"
   ]
  },
  {
   "cell_type": "code",
   "execution_count": 8,
   "metadata": {},
   "outputs": [],
   "source": [
    "# 4. Mark -- use colorscale to make make grid heatmap of our data:\n",
    "heat_map = bqplot.GridHeatMap(color = data, scales = {'color': col_sc})"
   ]
  },
  {
   "cell_type": "code",
   "execution_count": 9,
   "metadata": {},
   "outputs": [],
   "source": [
    "# 5. Skipping any interactions"
   ]
  },
  {
   "cell_type": "code",
   "execution_count": 10,
   "metadata": {},
   "outputs": [
    {
     "data": {
      "application/vnd.jupyter.widget-view+json": {
       "model_id": "c074ed62c2764d3a8c1255c8c4cd236a",
       "version_major": 2,
       "version_minor": 0
      },
      "text/plain": [
       "Figure(fig_margin={'top': 60, 'bottom': 60, 'left': 60, 'right': 60}, marks=[GridHeatMap(color=array([[3.85939…"
      ]
     },
     "metadata": {},
     "output_type": "display_data"
    }
   ],
   "source": [
    "# Finally: put it together as a figure\n",
    "fig = bqplot.Figure(marks = [heat_map])\n",
    "fig"
   ]
  },
  {
   "cell_type": "markdown",
   "metadata": {},
   "source": [
    "There are some things we probably want to do here.  One of them being able to change the color scale -- we spent all this time thinking about color, let's put those thoughts to good use!"
   ]
  },
  {
   "cell_type": "code",
   "execution_count": 11,
   "metadata": {},
   "outputs": [
    {
     "data": {
      "application/vnd.jupyter.widget-view+json": {
       "model_id": "fb9caa5006cc40cf97983bee3eaace19",
       "version_major": 2,
       "version_minor": 0
      },
      "text/plain": [
       "Figure(fig_margin={'top': 60, 'bottom': 60, 'left': 60, 'right': 60}, marks=[GridHeatMap(color=array([[3.85939…"
      ]
     },
     "metadata": {},
     "output_type": "display_data"
    }
   ],
   "source": [
    "# 1. Data -- same as above\n",
    "\n",
    "# 2. Scale -- color with new color scheme\n",
    "col_sc = bqplot.ColorScale(scheme = \"Greens\") # color scheme of greens\n",
    "\n",
    "# 3. skip Axis\n",
    "\n",
    "# 4. Marks -- use colorscale to make make heatmap of our data:\n",
    "heat_map = bqplot.GridHeatMap(color = data, scales = {'color': col_sc})\n",
    "\n",
    "# Figure\n",
    "fig = bqplot.Figure(marks = [heat_map])\n",
    "fig"
   ]
  },
  {
   "cell_type": "code",
   "execution_count": 12,
   "metadata": {},
   "outputs": [],
   "source": [
    "bqplot.ColorAxis?"
   ]
  },
  {
   "cell_type": "code",
   "execution_count": 13,
   "metadata": {},
   "outputs": [
    {
     "data": {
      "application/vnd.jupyter.widget-view+json": {
       "model_id": "46ff83b7880245df98ba41593479875e",
       "version_major": 2,
       "version_minor": 0
      },
      "text/plain": [
       "Figure(axes=[ColorAxis(orientation='vertical', scale=ColorScale(scheme='Greens'), side='right')], fig_margin={…"
      ]
     },
     "metadata": {},
     "output_type": "display_data"
    }
   ],
   "source": [
    "# 1. Data -- same\n",
    "\n",
    "# 2. Scales -- color\n",
    "col_sc = bqplot.ColorScale(scheme = \"Greens\")\n",
    "# lets plot some axes on our plot as well, in this case\n",
    "#  our axis will be a color bar, vertically on the right\n",
    "#  of our heatmap\n",
    "\n",
    "# 3. Axis (finally) -- here a \"color axis\" is just a colorbar\n",
    "c_ax = bqplot.ColorAxis(scale = col_sc, \n",
    "                        orientation = 'vertical', \n",
    "                        side = 'right') \n",
    "\n",
    "# 4. Marks -- put it all together and lets take a look!\n",
    "heat_map = bqplot.GridHeatMap(color = data, \n",
    "                              scales = {'color': col_sc})\n",
    "\n",
    "# 5. no interactions\n",
    "\n",
    "# generate fig!\n",
    "fig = bqplot.Figure(marks = [heat_map], axes = [c_ax])\n",
    "fig"
   ]
  },
  {
   "cell_type": "markdown",
   "metadata": {},
   "source": [
    "While our x/y bins don't mean anything in particular in this case - we are dealing with just a randomly binned 10x10 dataset after all - we none-the-less probably want to put at least the bin labels on there.  So let's make some x/y scales and some x/y axis (note I'm doing Scales/Axis a bit out of order here to group by kind of axis):"
   ]
  },
  {
   "cell_type": "code",
   "execution_count": 14,
   "metadata": {},
   "outputs": [],
   "source": [
    "x_sc = bqplot.OrdinalScale()\n",
    "y_sc = bqplot.OrdinalScale()\n",
    "\n",
    "x_ax = bqplot.Axis(scale = x_sc)\n",
    "y_ax = bqplot.Axis(scale = y_sc, \n",
    "                   orientation = 'vertical')"
   ]
  },
  {
   "cell_type": "markdown",
   "metadata": {},
   "source": [
    "Why did I choose ordinal scales?  Well again - the bins, while numbered, don't actually mean anything, so in a sense they are \"categorical\" bins, and our scales should reflect that fact!"
   ]
  },
  {
   "cell_type": "markdown",
   "metadata": {},
   "source": [
    "Color scale & color axis like before:"
   ]
  },
  {
   "cell_type": "code",
   "execution_count": 15,
   "metadata": {},
   "outputs": [],
   "source": [
    "col_sc = bqplot.ColorScale(scheme = \"Reds\")\n",
    "\n",
    "c_ax = bqplot.ColorAxis(scale = col_sc, \n",
    "                        orientation = 'vertical', \n",
    "                        side = 'right')"
   ]
  },
  {
   "cell_type": "markdown",
   "metadata": {},
   "source": [
    "Combine all these scales, axis and the data into a heat map mark using `bqplot.GridHeatMap`:"
   ]
  },
  {
   "cell_type": "code",
   "execution_count": 16,
   "metadata": {},
   "outputs": [],
   "source": [
    "# Marks -- lets now re-do our heat map & add in some interactivity:\n",
    "heat_map = bqplot.GridHeatMap(color = data,\n",
    "                              scales = {'color': col_sc,\n",
    "                                        'row': y_sc,\n",
    "                                        'column': x_sc})"
   ]
  },
  {
   "cell_type": "markdown",
   "metadata": {},
   "source": [
    "... put these marks and axes on a figure canvas and plot it!"
   ]
  },
  {
   "cell_type": "code",
   "execution_count": 17,
   "metadata": {},
   "outputs": [
    {
     "data": {
      "application/vnd.jupyter.widget-view+json": {
       "model_id": "daf852e9b66e4a518a36896b44524e83",
       "version_major": 2,
       "version_minor": 0
      },
      "text/plain": [
       "Figure(axes=[ColorAxis(orientation='vertical', scale=ColorScale(scheme='Reds'), side='right'), Axis(orientatio…"
      ]
     },
     "metadata": {},
     "output_type": "display_data"
    }
   ],
   "source": [
    "# stir and combine into 1 figure\n",
    "fig = bqplot.Figure(marks = [heat_map], \n",
    "                    axes = [c_ax, y_ax, x_ax])\n",
    "\n",
    "fig"
   ]
  },
  {
   "cell_type": "markdown",
   "metadata": {},
   "source": [
    "So, we are almost there -- we don't have any interactivity!  Let's get into it.  In this case, we can actually specify the interaction when we are constructing the `GridHeatMap` mark.  Let's do something when we click on each square.  We can do this with a `click-select` interaction.  "
   ]
  },
  {
   "cell_type": "code",
   "execution_count": 18,
   "metadata": {},
   "outputs": [
    {
     "data": {
      "application/vnd.jupyter.widget-view+json": {
       "model_id": "15ed323719264c48baf96b36f36417ca",
       "version_major": 2,
       "version_minor": 0
      },
      "text/plain": [
       "Figure(axes=[ColorAxis(orientation='vertical', scale=ColorScale(scheme='Greens'), side='right'), Axis(orientat…"
      ]
     },
     "metadata": {},
     "output_type": "display_data"
    }
   ],
   "source": [
    "# 1. Data -- same\n",
    "\n",
    "# 2. Scales -- recopy our scales and axis for posterity:\n",
    "col_sc = bqplot.ColorScale(scheme = \"Greens\")\n",
    "x_sc = bqplot.OrdinalScale()\n",
    "y_sc = bqplot.OrdinalScale()\n",
    "\n",
    "# 3. Axis -- create axis - for colors, x & y\n",
    "c_ax = bqplot.ColorAxis(scale = col_sc, \n",
    "                        orientation = 'vertical', \n",
    "                        side = 'right')\n",
    "x_ax = bqplot.Axis(scale = x_sc)\n",
    "y_ax = bqplot.Axis(scale = y_sc, \n",
    "                   orientation = 'vertical')\n",
    "\n",
    "# 4. Marks -- lets now re-do our heat map & add in some interactivity:\n",
    "heat_map = bqplot.GridHeatMap(color = data,\n",
    "                              scales = {'color': col_sc,\n",
    "                                        'row': y_sc,\n",
    "                                        'column': x_sc},\n",
    "                              interactions = {'click': 'select'}, # make interactive on click of each box\n",
    "                              anchor_style = {'fill':'magenta'}, # to make our selection blue\n",
    "                              selected_style = {'opacity': 1.0}, # make 100% opaque if box is selected\n",
    "                              unselected_style = {'opacity': 0.8}) # make a little see-through if not\n",
    "\n",
    "# 5. Note: I put interactions in my marks call here!\n",
    "\n",
    "# stir and combine into 1 figure\n",
    "fig = bqplot.Figure(marks = [heat_map], \n",
    "                    axes = [c_ax, y_ax, x_ax])\n",
    "\n",
    "fig"
   ]
  },
  {
   "cell_type": "markdown",
   "metadata": {},
   "source": [
    "Ok fine, but our selection isn't linked to anything! Lets check out what heat_map selected actually is before we decide to do something with it:"
   ]
  },
  {
   "cell_type": "code",
   "execution_count": 19,
   "metadata": {},
   "outputs": [],
   "source": [
    "heat_map.selected\n",
    "#  note if I select a different box & re-run this cell,\n",
    "#  I get out different values"
   ]
  },
  {
   "cell_type": "markdown",
   "metadata": {},
   "source": [
    "So the *trait* of the heat_map that gets updated when we select a box is the x/y indicies.\n",
    "\n",
    "Let's start simple: write a little function that links the data value to the selected & lets print this in a little ipywidgets label:"
   ]
  },
  {
   "cell_type": "code",
   "execution_count": 20,
   "metadata": {},
   "outputs": [],
   "source": [
    "mySelectedLabel = ipywidgets.Label()"
   ]
  },
  {
   "cell_type": "markdown",
   "metadata": {},
   "source": [
    "Let's now define what happens to this label when our heatmap is selected.  If we recall back to when we started learning about ipywidgets and traitlets, this will be a change in the `mySelectedLabel` widget's *value* when a *trait* of our `GridHeatMap` object changes.\n",
    "\n",
    "First, let's define this action, starting simple: just print out whatever is selected:"
   ]
  },
  {
   "cell_type": "code",
   "execution_count": 21,
   "metadata": {},
   "outputs": [],
   "source": [
    "def on_selected(change):\n",
    "    print(change)"
   ]
  },
  {
   "cell_type": "code",
   "execution_count": null,
   "metadata": {},
   "outputs": [],
   "source": []
  },
  {
   "cell_type": "markdown",
   "metadata": {},
   "source": [
    "Now, let's re-construct our heatmap and link this `on_selected` function to the *trait* of the selected heatmap:"
   ]
  },
  {
   "cell_type": "code",
   "execution_count": 22,
   "metadata": {},
   "outputs": [
    {
     "data": {
      "application/vnd.jupyter.widget-view+json": {
       "model_id": "2bdffa275a8749f0ae198053e823cbd0",
       "version_major": 2,
       "version_minor": 0
      },
      "text/plain": [
       "Figure(axes=[ColorAxis(orientation='vertical', scale=ColorScale(scheme='Reds'), side='right'), Axis(orientatio…"
      ]
     },
     "metadata": {},
     "output_type": "display_data"
    }
   ],
   "source": [
    "# 1. Data -- same\n",
    "\n",
    "# 2. Scales -- recopy our scales and axis for posterity:\n",
    "col_sc = bqplot.ColorScale(scheme = \"Reds\")\n",
    "x_sc = bqplot.OrdinalScale()\n",
    "y_sc = bqplot.OrdinalScale()\n",
    "\n",
    "# 3. Axis -- create axis - for colors, x & y\n",
    "c_ax = bqplot.ColorAxis(scale = col_sc, \n",
    "                        orientation = 'vertical', \n",
    "                        side = 'right')\n",
    "x_ax = bqplot.Axis(scale = x_sc)\n",
    "y_ax = bqplot.Axis(scale = y_sc, \n",
    "                   orientation = 'vertical')\n",
    "\n",
    "# 4. Marks -- lets now re-do our heat map & add in some interactivity:\n",
    "heat_map = bqplot.GridHeatMap(color = data,\n",
    "                              scales = {'color': col_sc,\n",
    "                                        'row': y_sc,\n",
    "                                        'column': x_sc},\n",
    "                              interactions = {'click': 'select'}, # make interactive on click of each box\n",
    "                              anchor_style = {'fill':'blue'}, # to make our selection blue\n",
    "                              selected_style = {'opacity': 1.0}, # make 100% opaque if box is selected\n",
    "                              unselected_style = {'opacity': 0.8}) # make a little see-through if not\n",
    "\n",
    "# 5. Note: I put interactions in my marks call here.  BUT now we want to actually DO something with our selection\n",
    "## THIS IS ALL WE HAVE ADDED!\n",
    "heat_map.observe(on_selected, 'selected')\n",
    "\n",
    "\n",
    "# stir and combine into 1 figure\n",
    "fig = bqplot.Figure(marks = [heat_map], \n",
    "                    axes = [c_ax, y_ax, x_ax])\n",
    "\n",
    "fig"
   ]
  },
  {
   "cell_type": "markdown",
   "metadata": {},
   "source": [
    "So, we can see that what gets printed out when we select is a dictionary -- this is like a \"change\" dictionary with an ipywidget that we played with last week and it has some familiar things in it like the `old` and `new` keys, the `owner` key, etc.  \n",
    "\n",
    "Check out the `selected=array...` in the above -- this is how we can grab the index of whatever grid we have selected.\n",
    "\n",
    "It also is storing a lot of information about our `GridHeatMap` plot!  \n",
    "\n",
    "Since the change \"owner\" is our heat_map marks, let's print these out so we can access the indicies.  Once we do this, we can then use these indicies to access the data in our plot.  \n",
    "\n",
    "One thing at a time though - let's just print out the selected indicies:"
   ]
  },
  {
   "cell_type": "code",
   "execution_count": 23,
   "metadata": {},
   "outputs": [
    {
     "data": {
      "application/vnd.jupyter.widget-view+json": {
       "model_id": "bbfa1df9e1b74b6da4ba6f0d5bbc15f1",
       "version_major": 2,
       "version_minor": 0
      },
      "text/plain": [
       "Figure(axes=[ColorAxis(orientation='vertical', scale=ColorScale(scheme='Reds'), side='right'), Axis(orientatio…"
      ]
     },
     "metadata": {},
     "output_type": "display_data"
    }
   ],
   "source": [
    "# 1. Data -- same\n",
    "\n",
    "# 2. Scales -- recopy our scales and axis for posterity:\n",
    "col_sc = bqplot.ColorScale(scheme = \"Reds\")\n",
    "x_sc = bqplot.OrdinalScale()\n",
    "y_sc = bqplot.OrdinalScale()\n",
    "\n",
    "# 3. Axis -- create axis - for colors, x & y\n",
    "c_ax = bqplot.ColorAxis(scale = col_sc, \n",
    "                        orientation = 'vertical', \n",
    "                        side = 'right')\n",
    "x_ax = bqplot.Axis(scale = x_sc)\n",
    "y_ax = bqplot.Axis(scale = y_sc, \n",
    "                   orientation = 'vertical')\n",
    "\n",
    "# 4. Marks -- lets now re-do our heat map & add in some interactivity:\n",
    "heat_map = bqplot.GridHeatMap(color = data,\n",
    "                              scales = {'color': col_sc,\n",
    "                                        'row': y_sc,\n",
    "                                        'column': x_sc},\n",
    "                              interactions = {'click': 'select'}, # make interactive on click of each box\n",
    "                              anchor_style = {'fill':'blue'}, # to make our selection blue\n",
    "                              selected_style = {'opacity': 1.0}, # make 100% opaque if box is selected\n",
    "                              unselected_style = {'opacity': 0.8}) # make a little see-through if not\n",
    "\n",
    "# 5. Note: I put interactions in my marks call here.  BUT now we want to actually DO something with our selection\n",
    "## THIS IS ALL WE HAVE ADDED!\n",
    "heat_map.observe(on_selected, 'selected')\n",
    "\n",
    "\n",
    "# stir and combine into 1 figure\n",
    "fig = bqplot.Figure(marks = [heat_map], \n",
    "                    axes = [c_ax, y_ax, x_ax])\n",
    "\n",
    "fig"
   ]
  },
  {
   "cell_type": "markdown",
   "metadata": {},
   "source": [
    "It turns out we can actually `SHIFT-select` and select a selection of boxes at one time.  Depending on your browser/OS you can also use `CMD` or `CTRL`-select to select individual boxes.  However, this is a little bit dependent on how your browser/trackpad/mouse is set up.\n",
    "\n",
    "(`CMD`-select doesn't work in notebooks on my Mac, but it does in jupyter-lab.  Go fig.)\n",
    "\n",
    "**DEMONSTRATE**\n",
    "\n",
    "Because of this we actual `selected` set of indicies we want to access can be more than just x/y indicies - it can be an array of indicies representing all of the `SHIFT-select`ed points.\n",
    "\n",
    "For the sake of simplicity, let's *only* do things when we select one point.  So we will *only* take out the first element of this selected array.  Let's print this with our `on_selected` function:"
   ]
  },
  {
   "cell_type": "code",
   "execution_count": 24,
   "metadata": {},
   "outputs": [],
   "source": [
    "def on_selected(change):\n",
    "    if len(change['owner'].selected) == 1: #only do things if I select a single cell\n",
    "        print(change['owner'].selected[0])\n",
    "    # else: don't update anything"
   ]
  },
  {
   "cell_type": "code",
   "execution_count": 25,
   "metadata": {},
   "outputs": [
    {
     "data": {
      "application/vnd.jupyter.widget-view+json": {
       "model_id": "51687e3955ac44bdb497196344e11ab6",
       "version_major": 2,
       "version_minor": 0
      },
      "text/plain": [
       "Figure(axes=[ColorAxis(orientation='vertical', scale=ColorScale(scheme='Greens'), side='right'), Axis(orientat…"
      ]
     },
     "metadata": {},
     "output_type": "display_data"
    }
   ],
   "source": [
    "#1. Data -- same\n",
    "\n",
    "# 2. Scales -- recopy our scales and axis for posterity:\n",
    "col_sc = bqplot.ColorScale(scheme = \"Greens\")\n",
    "x_sc = bqplot.OrdinalScale()\n",
    "y_sc = bqplot.OrdinalScale()\n",
    "\n",
    "# 3. Axis -- create axis - for colors, x & y\n",
    "c_ax = bqplot.ColorAxis(scale = col_sc, \n",
    "                        orientation = 'vertical', \n",
    "                        side = 'right')\n",
    "x_ax = bqplot.Axis(scale = x_sc)\n",
    "y_ax = bqplot.Axis(scale = y_sc, \n",
    "                   orientation = 'vertical')\n",
    "\n",
    "# 4. Marks -- lets now re-do our heat map & add in some interactivity:\n",
    "heat_map = bqplot.GridHeatMap(color = data,\n",
    "                              scales = {'color': col_sc,\n",
    "                                        'row': y_sc,\n",
    "                                        'column': x_sc},\n",
    "                              interactions = {'click': 'select'}, # make interactive on click of each box\n",
    "                              anchor_style = {'fill':'magenta'}, # to make our selection blue\n",
    "                              selected_style = {'opacity': 1.0}, # make 100% opaque if box is selected\n",
    "                              unselected_style = {'opacity': 0.8}) # make a little see-through if not\n",
    "\n",
    "# 5. Note: I put interactions in my marks call here.  BUT now we want to actually DO something with our selection\n",
    "## THIS IS ALL WE HAVE ADDED!\n",
    "heat_map.observe(on_selected, 'selected')\n",
    "\n",
    "\n",
    "# stir and combine into 1 figure\n",
    "fig = bqplot.Figure(marks = [heat_map], \n",
    "                    axes = [c_ax, y_ax, x_ax])\n",
    "\n",
    "fig"
   ]
  },
  {
   "cell_type": "markdown",
   "metadata": {},
   "source": [
    "Now you'll notice if I `SHIFT-select` I still only get the set of x/y indicies associated with the blue selected point.  Sweet.\n",
    "\n",
    "Now that we have these indicies in our plot, we can (finally) update our Label widget to print out what the data value is at this point:"
   ]
  },
  {
   "cell_type": "code",
   "execution_count": 26,
   "metadata": {},
   "outputs": [],
   "source": [
    "def on_selected(change):\n",
    "    if len(change['owner'].selected) == 1: #only 1 selected\n",
    "        i, j = change['owner'].selected[0] # grab the x/y coordinates\n",
    "        v = data[i,j] # grab data value\n",
    "        mySelectedLabel.value = 'Data Value = ' + str(v) # set our label"
   ]
  },
  {
   "cell_type": "markdown",
   "metadata": {},
   "source": [
    "Now we just have to make sure we show both of the figure and the label when we display:"
   ]
  },
  {
   "cell_type": "code",
   "execution_count": 27,
   "metadata": {},
   "outputs": [
    {
     "data": {
      "application/vnd.jupyter.widget-view+json": {
       "model_id": "26db405e8d524e26a74dbf87db749795",
       "version_major": 2,
       "version_minor": 0
      },
      "text/plain": [
       "VBox(children=(Label(value=''), Figure(axes=[ColorAxis(orientation='vertical', scale=ColorScale(scheme='reds')…"
      ]
     },
     "metadata": {},
     "output_type": "display_data"
    }
   ],
   "source": [
    "# 1. Data -- same\n",
    "\n",
    "# 2. Scales -- recopy our scales and axis for posterity:\n",
    "col_sc = bqplot.ColorScale(scheme = \"reds\")\n",
    "x_sc = bqplot.OrdinalScale()\n",
    "y_sc = bqplot.OrdinalScale()\n",
    "\n",
    "# 3. Axis -- create axis - for colors, x & y\n",
    "c_ax = bqplot.ColorAxis(scale = col_sc, \n",
    "                        orientation = 'vertical', \n",
    "                        side = 'right')\n",
    "x_ax = bqplot.Axis(scale = x_sc)\n",
    "y_ax = bqplot.Axis(scale = y_sc, \n",
    "                   orientation = 'vertical')\n",
    "\n",
    "# 4. Marks -- lets now re-do our heat map & add in some interactivity:\n",
    "heat_map = bqplot.GridHeatMap(color = data,\n",
    "                              scales = {'color': col_sc,\n",
    "                                        'row': y_sc,\n",
    "                                        'column': x_sc},\n",
    "                              interactions = {'click': 'select'}, # make interactive on click of each box\n",
    "                              anchor_style = {'fill':'blue'}, # to make our selection blue\n",
    "                              selected_style = {'opacity': 1.0}, # make 100% opaque if box is selected\n",
    "                              unselected_style = {'opacity': 0.8}) # make a little see-through if not\n",
    "\n",
    "# 5. Note: I put interactions in my marks call here.  BUT now we want to actually DO something with our selection\n",
    "## THIS IS ALL WE HAVE ADDED!\n",
    "heat_map.observe(on_selected, 'selected')\n",
    "\n",
    "\n",
    "# stir and combine into 1 figure\n",
    "fig = bqplot.Figure(marks = [heat_map], \n",
    "                    axes = [c_ax, y_ax, x_ax])\n",
    "\n",
    "\n",
    "# ADDED: putting widget and plot together\n",
    "myDashboard = ipywidgets.VBox([mySelectedLabel, fig]) # have label on top of fig\n",
    "myDashboard # show"
   ]
  },
  {
   "cell_type": "markdown",
   "metadata": {},
   "source": [
    "Hey neat!  So now when we do an action, in this case selecting, on one object (the heat map) we have updates *tied to* another object, in this case we are also updating our label widget's value.\n",
    "\n",
    "This is how we will build up dashboards that allow us to display different aspects of our data in linked views.\n",
    "\n",
    "Let's practice one of these linked views now by making a linked histogram of a 3D dataset instead of printing the value with a 2D dataset."
   ]
  },
  {
   "cell_type": "code",
   "execution_count": null,
   "metadata": {},
   "outputs": [],
   "source": []
  },
  {
   "cell_type": "markdown",
   "metadata": {},
   "source": [
    "## Multidimension (3D) data\n",
    "\n",
    "Last time we generated random data in 3D:"
   ]
  },
  {
   "cell_type": "markdown",
   "metadata": {},
   "source": [
    "We started by making a 3D dataset:"
   ]
  },
  {
   "cell_type": "code",
   "execution_count": 28,
   "metadata": {},
   "outputs": [],
   "source": [
    "data3d = np.random.random( (10,10, 20))"
   ]
  },
  {
   "cell_type": "code",
   "execution_count": 29,
   "metadata": {},
   "outputs": [
    {
     "data": {
      "text/plain": [
       "(10, 10, 20)"
      ]
     },
     "execution_count": 29,
     "metadata": {},
     "output_type": "execute_result"
    }
   ],
   "source": [
    "data3d.shape # x, y, z"
   ]
  },
  {
   "cell_type": "markdown",
   "metadata": {},
   "source": [
    "Recall we selected specfic x/y indices to plot.  For example if x=y=0:"
   ]
  },
  {
   "cell_type": "code",
   "execution_count": 30,
   "metadata": {},
   "outputs": [
    {
     "data": {
      "text/plain": [
       "array([0.58207825, 0.5792689 , 0.29789004, 0.78235965, 0.74627593,\n",
       "       0.28968332, 0.68688795, 0.32237109, 0.13007682, 0.17266191,\n",
       "       0.70111574, 0.70699366, 0.63291273, 0.0446647 , 0.51423325,\n",
       "       0.0389633 , 0.28838611, 0.88958536, 0.01416155, 0.60497292])"
      ]
     },
     "execution_count": 30,
     "metadata": {},
     "output_type": "execute_result"
    }
   ],
   "source": [
    "i,j=0,0\n",
    "data3d[i,j,:]"
   ]
  },
  {
   "cell_type": "code",
   "execution_count": 31,
   "metadata": {},
   "outputs": [
    {
     "data": {
      "text/plain": [
       "array([0.58207825, 0.5792689 , 0.29789004, 0.78235965, 0.74627593,\n",
       "       0.28968332, 0.68688795, 0.32237109, 0.13007682, 0.17266191,\n",
       "       0.70111574, 0.70699366, 0.63291273, 0.0446647 , 0.51423325,\n",
       "       0.0389633 , 0.28838611, 0.88958536, 0.01416155, 0.60497292])"
      ]
     },
     "execution_count": 31,
     "metadata": {},
     "output_type": "execute_result"
    }
   ],
   "source": [
    "data3d[0,0,:]"
   ]
  },
  {
   "cell_type": "code",
   "execution_count": 32,
   "metadata": {},
   "outputs": [
    {
     "data": {
      "text/plain": [
       "0.4512771581428664"
      ]
     },
     "execution_count": 32,
     "metadata": {},
     "output_type": "execute_result"
    }
   ],
   "source": [
    "data3d[0,0,:].mean()"
   ]
  },
  {
   "cell_type": "markdown",
   "metadata": {},
   "source": [
    "Now that we've decided how our label will look.  What about our heat map?  We know this is expecting 2d data as an input.  So, we'll do the same thing, we'll take a mean, but we'll do it over the whole array:"
   ]
  },
  {
   "cell_type": "code",
   "execution_count": 33,
   "metadata": {},
   "outputs": [
    {
     "data": {
      "text/plain": [
       "array([[0.45127716, 0.62573863, 0.50909483, 0.49092615, 0.5011184 ,\n",
       "        0.51511015, 0.59882023, 0.43061801, 0.50123863, 0.43156664],\n",
       "       [0.42382393, 0.63440408, 0.45584893, 0.40634455, 0.45147421,\n",
       "        0.53249177, 0.45896682, 0.51331908, 0.49307835, 0.52195129],\n",
       "       [0.56326846, 0.58617881, 0.47368345, 0.51293991, 0.44560138,\n",
       "        0.60043195, 0.49875334, 0.38230023, 0.54040971, 0.48101385],\n",
       "       [0.52002628, 0.41641504, 0.55010266, 0.52751384, 0.46239953,\n",
       "        0.46867628, 0.53682915, 0.44755085, 0.50813127, 0.5523064 ],\n",
       "       [0.4657831 , 0.52508002, 0.43474763, 0.62640199, 0.53991755,\n",
       "        0.43916912, 0.47139997, 0.65186241, 0.51879748, 0.57040209],\n",
       "       [0.46216566, 0.44218649, 0.48534566, 0.51598181, 0.47303949,\n",
       "        0.47857421, 0.51958923, 0.48413891, 0.51749782, 0.47319334],\n",
       "       [0.50792816, 0.59652867, 0.52524948, 0.5481783 , 0.55298592,\n",
       "        0.53533086, 0.51738575, 0.44595485, 0.4868514 , 0.61055092],\n",
       "       [0.62875374, 0.6297648 , 0.49005761, 0.48615173, 0.4850767 ,\n",
       "        0.51801416, 0.42480853, 0.43106426, 0.4614104 , 0.50012089],\n",
       "       [0.4866463 , 0.67326752, 0.41936426, 0.64639154, 0.45487644,\n",
       "        0.48226523, 0.43364104, 0.47289657, 0.59835897, 0.65095655],\n",
       "       [0.47362802, 0.52063113, 0.49175622, 0.45373602, 0.44190862,\n",
       "        0.43438261, 0.41981915, 0.51997315, 0.5322496 , 0.58360295]])"
      ]
     },
     "execution_count": 33,
     "metadata": {},
     "output_type": "execute_result"
    }
   ],
   "source": [
    "data3d.mean(axis=2)"
   ]
  },
  {
   "cell_type": "code",
   "execution_count": 34,
   "metadata": {},
   "outputs": [
    {
     "data": {
      "text/plain": [
       "(10, 10)"
      ]
     },
     "execution_count": 34,
     "metadata": {},
     "output_type": "execute_result"
    }
   ],
   "source": [
    "data3d.mean(axis=2).shape"
   ]
  },
  {
   "cell_type": "markdown",
   "metadata": {},
   "source": [
    "Let's build up our dashboard again, I'll copy-paste into Slack/zoom:"
   ]
  },
  {
   "cell_type": "code",
   "execution_count": 35,
   "metadata": {},
   "outputs": [],
   "source": [
    "mySelectedLabel = ipywidgets.Label() # start with our label"
   ]
  },
  {
   "cell_type": "markdown",
   "metadata": {},
   "source": [
    "So, all we need to to begin with is just add this sort of mean into our observation function:"
   ]
  },
  {
   "cell_type": "code",
   "execution_count": 36,
   "metadata": {},
   "outputs": [
    {
     "data": {
      "application/vnd.jupyter.widget-view+json": {
       "model_id": "b60ac990d4224d2e8ca1a247e7c14c5d",
       "version_major": 2,
       "version_minor": 0
      },
      "text/plain": [
       "VBox(children=(Label(value=''), Figure(axes=[ColorAxis(orientation='vertical', scale=ColorScale(scheme='Greens…"
      ]
     },
     "metadata": {},
     "output_type": "display_data"
    }
   ],
   "source": [
    "# first, just print out what is changing, what is selected\n",
    "# only support 1 selected grid\n",
    "\n",
    "def on_selected(change):\n",
    "    if len(change['owner'].selected) == 1: #only do things if I select a single cell\n",
    "        #print(change['owner'].selected[0])\n",
    "        i, j = change['owner'].selected[0]\n",
    "        v = data3d[i,j,:].mean() # CHANGE HERE\n",
    "        mySelectedLabel.value = 'Mean Data Value = ' + str(v)\n",
    "    \n",
    "# 1. Data -- now 3d\n",
    "\n",
    "# 2. Scale - color scale\n",
    "col_sc = bqplot.ColorScale(scheme=\"Greens\") \n",
    "# this is because the \"bins\" are just bins -- their order is NOT numerically important\n",
    "x_sc = bqplot.OrdinalScale()\n",
    "y_sc = bqplot.OrdinalScale()\n",
    "\n",
    "# 3. Axis -- for colors, the axis is a colorbar!\n",
    "ax_col = bqplot.ColorAxis(scale = col_sc, orientation='vertical', \n",
    "                          side='right') \n",
    "ax_x = bqplot.Axis(scale = x_sc) # same x/y ax we had before\n",
    "ax_y = bqplot.Axis(scale = y_sc, orientation='vertical')\n",
    "\n",
    "# 4. Mark -- heatmap -- CHANGE HERE\n",
    "heat_map = bqplot.GridHeatMap(color = data3d.mean(axis=2), \n",
    "                              scales = {'color':col_sc, \n",
    "                                        'row':y_sc, 'column':x_sc},\n",
    "                             interactions={'click':'select'},\n",
    "                             anchor_style={'fill':'magenta'},\n",
    "                             selected_style={'opacity':1.0},\n",
    "                             unselected_style={'opacity':0.8})\n",
    "\n",
    "# 5. Interactions -- going to be built into the GridHeatMap mark (how things *look* when selection happens)\n",
    "# BUT I'm going to define what happens when the interaction takes place (something is selected)\n",
    "heat_map.observe(on_selected, 'selected')\n",
    "\n",
    "# Finally, a figure!\n",
    "fig = bqplot.Figure(marks = [heat_map], axes=[ax_col, ax_x, ax_y]) # have to add this axis to my figure object!\n",
    "#fig\n",
    "\n",
    "# combine the widget & figure and display both at the same time!\n",
    "myDashboard = ipywidgets.VBox([mySelectedLabel, fig])\n",
    "myDashboard # show the dashboard"
   ]
  },
  {
   "cell_type": "markdown",
   "metadata": {},
   "source": [
    "Ok, so we have the first few components of our dashboard with our new 3D dataset.  Let's work on the histogram.  We'll put this to the right of our label+heatmap, but first things first, the histogram:"
   ]
  },
  {
   "cell_type": "code",
   "execution_count": 37,
   "metadata": {},
   "outputs": [
    {
     "data": {
      "text/plain": [
       "array([0.58207825, 0.5792689 , 0.29789004, 0.78235965, 0.74627593,\n",
       "       0.28968332, 0.68688795, 0.32237109, 0.13007682, 0.17266191,\n",
       "       0.70111574, 0.70699366, 0.63291273, 0.0446647 , 0.51423325,\n",
       "       0.0389633 , 0.28838611, 0.88958536, 0.01416155, 0.60497292])"
      ]
     },
     "execution_count": 37,
     "metadata": {},
     "output_type": "execute_result"
    }
   ],
   "source": [
    "# 1. Data -- what is the data for the histogram\n",
    "i, j = 0, 0 # just as an example\n",
    "data3d[i,j] # 20 elements"
   ]
  },
  {
   "cell_type": "markdown",
   "metadata": {},
   "source": [
    "This is the data that we want to feed into our histogram so that if we select on i,j with our heatmap it will show us the distribution of values along the 3rd dimension."
   ]
  },
  {
   "cell_type": "code",
   "execution_count": 38,
   "metadata": {},
   "outputs": [],
   "source": [
    "# 2. Scales -- linear for a histogram of numerical data\n",
    "x_sch = bqplot.LinearScale()\n",
    "y_sch = bqplot.LinearScale()"
   ]
  },
  {
   "cell_type": "code",
   "execution_count": 39,
   "metadata": {},
   "outputs": [],
   "source": [
    "# 3. Axis\n",
    "x_axh = bqplot.Axis(scale = x_sch, label = 'Value of 3rd axis')\n",
    "y_axh = bqplot.Axis(scale = y_sch, \n",
    "                    orientation = 'vertical', \n",
    "                    label='Frequency')"
   ]
  },
  {
   "cell_type": "markdown",
   "metadata": {},
   "source": [
    "Marks will be the bqplot.Hist mark for histograms:"
   ]
  },
  {
   "cell_type": "code",
   "execution_count": 40,
   "metadata": {},
   "outputs": [],
   "source": [
    "bqplot.Hist?"
   ]
  },
  {
   "cell_type": "code",
   "execution_count": 41,
   "metadata": {},
   "outputs": [],
   "source": [
    "hist = bqplot.Hist(sample = data3d[i,j,:], # note: we are \"hard coding\" the x/y indicies as i,j\n",
    "                   normalized = False, # normalized=False means we get counts in each bin\n",
    "                   scales = {'sample': x_sch, 'count': y_sch}, # sample is data values, count is frequency\n",
    "                   bins = 5) # number of bins"
   ]
  },
  {
   "cell_type": "markdown",
   "metadata": {},
   "source": [
    "Note here that we specified this plot in a different way than the `GridHeatMap` and `Scatter` -- each type of `bqplot` plot has different parameters associated with the type of plot we are using.  Let's combine this as a figure and take a look!"
   ]
  },
  {
   "cell_type": "code",
   "execution_count": 42,
   "metadata": {},
   "outputs": [
    {
     "data": {
      "application/vnd.jupyter.widget-view+json": {
       "model_id": "5320bc246c2747e19ec33e276978142a",
       "version_major": 2,
       "version_minor": 0
      },
      "text/plain": [
       "Figure(axes=[Axis(label='Value of 3rd axis', scale=LinearScale()), Axis(label='Frequency', orientation='vertic…"
      ]
     },
     "metadata": {},
     "output_type": "display_data"
    }
   ],
   "source": [
    "# put it all together in a histogram\n",
    "figh = bqplot.Figure(marks = [hist], axes = [x_axh, y_axh])\n",
    "figh # your's might look different because you have different random numbers!"
   ]
  },
  {
   "cell_type": "markdown",
   "metadata": {},
   "source": [
    "Let's pause here and think about how to link up our histogram i,j with our selections on the heatmap.  First, what values of the histogram can we update?  Let's check:"
   ]
  },
  {
   "cell_type": "code",
   "execution_count": 43,
   "metadata": {},
   "outputs": [
    {
     "data": {
      "text/plain": [
       "['_model_module',\n",
       " '_model_module_version',\n",
       " '_model_name',\n",
       " '_view_count',\n",
       " '_view_module',\n",
       " '_view_module_version',\n",
       " '_view_name',\n",
       " 'apply_clip',\n",
       " 'bins',\n",
       " 'colors',\n",
       " 'count',\n",
       " 'display_legend',\n",
       " 'enable_hover',\n",
       " 'interactions',\n",
       " 'labels',\n",
       " 'midpoints',\n",
       " 'normalized',\n",
       " 'opacities',\n",
       " 'preserve_domain',\n",
       " 'sample',\n",
       " 'scales',\n",
       " 'scales_metadata',\n",
       " 'selected',\n",
       " 'selected_style',\n",
       " 'stroke',\n",
       " 'tooltip',\n",
       " 'tooltip_location',\n",
       " 'tooltip_style',\n",
       " 'unselected_style',\n",
       " 'visible']"
      ]
     },
     "execution_count": 43,
     "metadata": {},
     "output_type": "execute_result"
    }
   ],
   "source": [
    "hist.keys"
   ]
  },
  {
   "cell_type": "code",
   "execution_count": 44,
   "metadata": {},
   "outputs": [
    {
     "data": {
      "text/plain": [
       "array([0.58207825, 0.5792689 , 0.29789004, 0.78235965, 0.74627593,\n",
       "       0.28968332, 0.68688795, 0.32237109, 0.13007682, 0.17266191,\n",
       "       0.70111574, 0.70699366, 0.63291273, 0.0446647 , 0.51423325,\n",
       "       0.0389633 , 0.28838611, 0.88958536, 0.01416155, 0.60497292])"
      ]
     },
     "execution_count": 44,
     "metadata": {},
     "output_type": "execute_result"
    }
   ],
   "source": [
    "hist.sample"
   ]
  },
  {
   "cell_type": "markdown",
   "metadata": {},
   "source": [
    "Hey!  Here is where our data values are stored!  Like with when we observe changes in our heat map and update the values of our ipywidget's value we want to also update this sample's data!  \n",
    "\n",
    "Let's update our `on_selected` function to reflect this:"
   ]
  },
  {
   "cell_type": "code",
   "execution_count": 45,
   "metadata": {},
   "outputs": [],
   "source": [
    "def on_selected(change):\n",
    "    if len(change['owner'].selected) == 1: #only 1 selected\n",
    "        i, j = change['owner'].selected[0] # grab the x/y coordinates\n",
    "        v = data3d[i,j].mean() # grab data value at x/y index and mean along z\n",
    "        mySelectedLabel.value = 'Data Sum = ' + str(v) # set our label\n",
    "        # NOW ALSO: update our histogram\n",
    "        hist.sample = data3d[i,j,:]"
   ]
  },
  {
   "cell_type": "markdown",
   "metadata": {},
   "source": [
    "We don't have to go through the exersise of rebuilding our heatmap and histogram in general, but let's just do it for the sake of completeness and not accidentally re-linking thinks we shouldn't:"
   ]
  },
  {
   "cell_type": "markdown",
   "metadata": {},
   "source": [
    "#1 heatmap:"
   ]
  },
  {
   "cell_type": "code",
   "execution_count": 46,
   "metadata": {},
   "outputs": [],
   "source": [
    "# (1) Scales: x/y, colors\n",
    "col_sc = bqplot.ColorScale(scheme = \"Reds\")\n",
    "x_sc = bqplot.OrdinalScale()\n",
    "y_sc = bqplot.OrdinalScale()\n",
    "\n",
    "# (2) Axis: x/y, colors\n",
    "c_ax = bqplot.ColorAxis(scale = col_sc, \n",
    "                        orientation = 'vertical', \n",
    "                        side = 'right')\n",
    "x_ax = bqplot.Axis(scale = x_sc)\n",
    "y_ax = bqplot.Axis(scale = y_sc, \n",
    "                   orientation = 'vertical')\n",
    "\n",
    "# (3) Marks: heatmap\n",
    "heat_map = bqplot.GridHeatMap(color = data3d.mean(axis=2),\n",
    "                              scales = {'color': col_sc,\n",
    "                                        'row': y_sc,\n",
    "                                        'column': x_sc},\n",
    "                              interactions = {'click': 'select'}, # make interactive on click of each box\n",
    "                              anchor_style = {'fill':'blue'}, # to make our selection blue\n",
    "                              selected_style = {'opacity': 1.0}, # make 100% opaque if box is selected\n",
    "                              unselected_style = {'opacity': 0.8}) # make a little see-through if not\n",
    "\n",
    "# (4) Link selection on heatmap to other things\n",
    "heat_map.observe(on_selected, 'selected')\n",
    "\n",
    "# (5) Paint heatmap canvas, don't display yet:\n",
    "fig_heatmap = bqplot.Figure(marks = [heat_map], axes = [c_ax, y_ax, x_ax])"
   ]
  },
  {
   "cell_type": "markdown",
   "metadata": {},
   "source": [
    "#2 histogram:"
   ]
  },
  {
   "cell_type": "code",
   "execution_count": 47,
   "metadata": {},
   "outputs": [],
   "source": [
    "# (1) scales: x/y, linear\n",
    "x_sch = bqplot.LinearScale() # range of z-axis data\n",
    "y_sch = bqplot.LinearScale() # frequency of z-axis data in bins\n",
    "\n",
    "# (2) axis: x/y\n",
    "x_axh = bqplot.Axis(scale = x_sch, label = 'Value of 3rd axis')\n",
    "y_axh = bqplot.Axis(scale = y_sch, \n",
    "                    orientation = 'vertical', \n",
    "                    label='Frequency')\n",
    "\n",
    "# (3) Marks: histogram - start with just 0,0 in i/j -- can do other place holders\n",
    "hist = bqplot.Hist(sample = data3d[0,0,:],\n",
    "                   normalized = False, # normalized=False means we get counts in each bin\n",
    "                   scales = {'sample': x_sch, 'count': y_sch}, # sample is data values, count is frequency\n",
    "                   bins = 5) # number of bins\n",
    "\n",
    "# (4) NO LINKING ON HISTOGRAM SIDE\n",
    "\n",
    "# (5) Paint histogram canvas, don't display yet\n",
    "fig_hist = bqplot.Figure(marks = [hist], axes = [x_axh, y_axh])"
   ]
  },
  {
   "cell_type": "markdown",
   "metadata": {},
   "source": [
    "Create dashboard layout and display:"
   ]
  },
  {
   "cell_type": "code",
   "execution_count": 48,
   "metadata": {},
   "outputs": [
    {
     "data": {
      "application/vnd.jupyter.widget-view+json": {
       "model_id": "fdc1633c9aa045c9b1a963ebc16216ab",
       "version_major": 2,
       "version_minor": 0
      },
      "text/plain": [
       "VBox(children=(Label(value=''), HBox(children=(Figure(axes=[ColorAxis(orientation='vertical', scale=ColorScale…"
      ]
     },
     "metadata": {},
     "output_type": "display_data"
    }
   ],
   "source": [
    "# side by side figures\n",
    "figures = ipywidgets.HBox([fig_heatmap, fig_hist])\n",
    "\n",
    "# label on top\n",
    "myDashboard = ipywidgets.VBox([mySelectedLabel, figures])\n",
    "myDashboard"
   ]
  },
  {
   "cell_type": "markdown",
   "metadata": {},
   "source": [
    "Ok close, but its all smooshed!  We can play with the layout of our plots before we display.  To do this we use some more CSS-like styling options, in particular, `layout`:"
   ]
  },
  {
   "cell_type": "code",
   "execution_count": 49,
   "metadata": {},
   "outputs": [],
   "source": [
    "figures = ipywidgets.HBox([fig_heatmap, fig_hist])"
   ]
  },
  {
   "cell_type": "code",
   "execution_count": 50,
   "metadata": {},
   "outputs": [
    {
     "data": {
      "application/vnd.jupyter.widget-view+json": {
       "model_id": "50b08adb2abf4ecb9e10c6b968a8057a",
       "version_major": 2,
       "version_minor": 0
      },
      "text/plain": [
       "VBox(children=(Label(value=''), HBox(children=(Figure(axes=[ColorAxis(orientation='vertical', scale=ColorScale…"
      ]
     },
     "metadata": {},
     "output_type": "display_data"
    }
   ],
   "source": [
    "# mess with figure layout:\n",
    "fig_heatmap.layout.min_width = '500px' # feel free to change for your screen\n",
    "fig_hist.layout.min_width = '500px'\n",
    "\n",
    "# side by side figures\n",
    "figures = ipywidgets.HBox([fig_heatmap, fig_hist])\n",
    "\n",
    "# label on top\n",
    "myDashboard = ipywidgets.VBox([mySelectedLabel, figures])\n",
    "myDashboard"
   ]
  },
  {
   "cell_type": "markdown",
   "metadata": {},
   "source": [
    "Note that update was \"back-reactive\" in that it changed the figure layout above as well!  Super sweet!"
   ]
  },
  {
   "cell_type": "markdown",
   "metadata": {},
   "source": [
    "#### Further complications: linking in different directions\n",
    "\n",
    "We can also apply some other links to further enhance our dashboard.  One that we've messed with before is allowing the user to select the number of bins of a histogram.\n",
    "\n",
    "There are a few ways to do this, but one \"easier\" way is to just link the histogram \"bins\" with the value of a bins-slider.  \n",
    "\n",
    "If we recall: `bins` was another key that was listed in hist:"
   ]
  },
  {
   "cell_type": "code",
   "execution_count": 51,
   "metadata": {},
   "outputs": [
    {
     "data": {
      "text/plain": [
       "['_model_module',\n",
       " '_model_module_version',\n",
       " '_model_name',\n",
       " '_view_count',\n",
       " '_view_module',\n",
       " '_view_module_version',\n",
       " '_view_name',\n",
       " 'apply_clip',\n",
       " 'bins',\n",
       " 'colors',\n",
       " 'count',\n",
       " 'display_legend',\n",
       " 'enable_hover',\n",
       " 'interactions',\n",
       " 'labels',\n",
       " 'midpoints',\n",
       " 'normalized',\n",
       " 'opacities',\n",
       " 'preserve_domain',\n",
       " 'sample',\n",
       " 'scales',\n",
       " 'scales_metadata',\n",
       " 'selected',\n",
       " 'selected_style',\n",
       " 'stroke',\n",
       " 'tooltip',\n",
       " 'tooltip_location',\n",
       " 'tooltip_style',\n",
       " 'unselected_style',\n",
       " 'visible']"
      ]
     },
     "execution_count": 51,
     "metadata": {},
     "output_type": "execute_result"
    }
   ],
   "source": [
    "hist.keys"
   ]
  },
  {
   "cell_type": "code",
   "execution_count": 52,
   "metadata": {},
   "outputs": [],
   "source": [
    "hist.bins = 5 # this changes the bins of our histogram above in a back-reactive way -- traitlets magic!"
   ]
  },
  {
   "cell_type": "markdown",
   "metadata": {},
   "source": [
    "Let's add a little integer slider to allow our user to select the number of bins for the histogram:"
   ]
  },
  {
   "cell_type": "code",
   "execution_count": 53,
   "metadata": {},
   "outputs": [],
   "source": [
    "bins_slider = ipywidgets.IntSlider(value=5, min=1, max=data3d.shape[2]) # don't make more bins than data points!"
   ]
  },
  {
   "cell_type": "markdown",
   "metadata": {},
   "source": [
    "A reminder of what this looks like:"
   ]
  },
  {
   "cell_type": "code",
   "execution_count": 54,
   "metadata": {},
   "outputs": [
    {
     "data": {
      "application/vnd.jupyter.widget-view+json": {
       "model_id": "64763d68d1814a28afa719be74abf7d1",
       "version_major": 2,
       "version_minor": 0
      },
      "text/plain": [
       "IntSlider(value=5, max=20, min=1)"
      ]
     },
     "metadata": {},
     "output_type": "display_data"
    }
   ],
   "source": [
    "bins_slider"
   ]
  },
  {
   "cell_type": "markdown",
   "metadata": {},
   "source": [
    "We can use `link` or `jslink` to link the value of this slider to our histogram's number of bins:"
   ]
  },
  {
   "cell_type": "code",
   "execution_count": 55,
   "metadata": {},
   "outputs": [
    {
     "data": {
      "text/plain": [
       "Link(source=(IntSlider(value=5, max=20, min=1), 'value'), target=(Hist(bins=5, colors=['steelblue'], interacti…"
      ]
     },
     "metadata": {},
     "output_type": "display_data"
    }
   ],
   "source": [
    "ipywidgets.jslink((bins_slider, 'value'), (hist, 'bins'))"
   ]
  },
  {
   "cell_type": "markdown",
   "metadata": {},
   "source": [
    "While this change is \"backreactive\", let's redo our figure layout so we can see everything a bit better:"
   ]
  },
  {
   "cell_type": "code",
   "execution_count": 56,
   "metadata": {},
   "outputs": [
    {
     "data": {
      "application/vnd.jupyter.widget-view+json": {
       "model_id": "426069fb7d6644e5b62257674eb50720",
       "version_major": 2,
       "version_minor": 0
      },
      "text/plain": [
       "VBox(children=(HBox(children=(Label(value=''), IntSlider(value=5, max=20, min=1))), HBox(children=(Figure(axes…"
      ]
     },
     "metadata": {},
     "output_type": "display_data"
    }
   ],
   "source": [
    "# mess with figure layout:\n",
    "fig_heatmap.layout.min_width = '500px' # feel free to change for your screen\n",
    "fig_hist.layout.min_width = '500px'\n",
    "\n",
    "# side by side figures\n",
    "figures = ipywidgets.HBox([fig_heatmap, fig_hist])\n",
    "\n",
    "# label on top to the left, bins slider to the right\n",
    "controls = ipywidgets.HBox([mySelectedLabel, bins_slider])\n",
    "\n",
    "# combined\n",
    "myDashboard = ipywidgets.VBox([controls, figures])\n",
    "myDashboard"
   ]
  },
  {
   "cell_type": "markdown",
   "metadata": {},
   "source": [
    "## Dashboarding with \"real\" data using the UFO dataset"
   ]
  },
  {
   "cell_type": "markdown",
   "metadata": {},
   "source": [
    "Let's read in the UFO dataset:"
   ]
  },
  {
   "cell_type": "code",
   "execution_count": 57,
   "metadata": {},
   "outputs": [],
   "source": [
    "data_url = 'https://raw.githubusercontent.com/UIUC-iSchool-DataViz/is445_bcubcg_fall2022/main/data/ufo-scrubbed-geocoded-time-standardized-00.csv'\n",
    "ufos = pd.read_csv(data_url,\n",
    "                  names = [\"date\", \"city\", \"state\", \"country\",\n",
    "                          \"shape\", \"duration_seconds\", \"duration\",\n",
    "                          \"comment\", \"report_date\", \n",
    "                           \"latitude\", \"longitude\"],\n",
    "                  parse_dates = [\"date\", \"report_date\"])"
   ]
  },
  {
   "cell_type": "code",
   "execution_count": 58,
   "metadata": {},
   "outputs": [
    {
     "data": {
      "text/html": [
       "<div>\n",
       "<style scoped>\n",
       "    .dataframe tbody tr th:only-of-type {\n",
       "        vertical-align: middle;\n",
       "    }\n",
       "\n",
       "    .dataframe tbody tr th {\n",
       "        vertical-align: top;\n",
       "    }\n",
       "\n",
       "    .dataframe thead th {\n",
       "        text-align: right;\n",
       "    }\n",
       "</style>\n",
       "<table border=\"1\" class=\"dataframe\">\n",
       "  <thead>\n",
       "    <tr style=\"text-align: right;\">\n",
       "      <th></th>\n",
       "      <th>date</th>\n",
       "      <th>city</th>\n",
       "      <th>state</th>\n",
       "      <th>country</th>\n",
       "      <th>shape</th>\n",
       "      <th>duration_seconds</th>\n",
       "      <th>duration</th>\n",
       "      <th>comment</th>\n",
       "      <th>report_date</th>\n",
       "      <th>latitude</th>\n",
       "      <th>longitude</th>\n",
       "    </tr>\n",
       "  </thead>\n",
       "  <tbody>\n",
       "    <tr>\n",
       "      <th>0</th>\n",
       "      <td>1949-10-10 20:30:00</td>\n",
       "      <td>san marcos</td>\n",
       "      <td>tx</td>\n",
       "      <td>us</td>\n",
       "      <td>cylinder</td>\n",
       "      <td>2700.0</td>\n",
       "      <td>45 minutes</td>\n",
       "      <td>This event took place in early fall around 194...</td>\n",
       "      <td>2004-04-27</td>\n",
       "      <td>29.883056</td>\n",
       "      <td>-97.941111</td>\n",
       "    </tr>\n",
       "    <tr>\n",
       "      <th>1</th>\n",
       "      <td>1949-10-10 21:00:00</td>\n",
       "      <td>lackland afb</td>\n",
       "      <td>tx</td>\n",
       "      <td>NaN</td>\n",
       "      <td>light</td>\n",
       "      <td>7200.0</td>\n",
       "      <td>1-2 hrs</td>\n",
       "      <td>1949 Lackland AFB&amp;#44 TX.  Lights racing acros...</td>\n",
       "      <td>2005-12-16</td>\n",
       "      <td>29.384210</td>\n",
       "      <td>-98.581082</td>\n",
       "    </tr>\n",
       "    <tr>\n",
       "      <th>2</th>\n",
       "      <td>1955-10-10 17:00:00</td>\n",
       "      <td>chester (uk/england)</td>\n",
       "      <td>NaN</td>\n",
       "      <td>gb</td>\n",
       "      <td>circle</td>\n",
       "      <td>20.0</td>\n",
       "      <td>20 seconds</td>\n",
       "      <td>Green/Orange circular disc over Chester&amp;#44 En...</td>\n",
       "      <td>2008-01-21</td>\n",
       "      <td>53.200000</td>\n",
       "      <td>-2.916667</td>\n",
       "    </tr>\n",
       "    <tr>\n",
       "      <th>3</th>\n",
       "      <td>1956-10-10 21:00:00</td>\n",
       "      <td>edna</td>\n",
       "      <td>tx</td>\n",
       "      <td>us</td>\n",
       "      <td>circle</td>\n",
       "      <td>20.0</td>\n",
       "      <td>1/2 hour</td>\n",
       "      <td>My older brother and twin sister were leaving ...</td>\n",
       "      <td>2004-01-17</td>\n",
       "      <td>28.978333</td>\n",
       "      <td>-96.645833</td>\n",
       "    </tr>\n",
       "    <tr>\n",
       "      <th>4</th>\n",
       "      <td>1960-10-10 20:00:00</td>\n",
       "      <td>kaneohe</td>\n",
       "      <td>hi</td>\n",
       "      <td>us</td>\n",
       "      <td>light</td>\n",
       "      <td>900.0</td>\n",
       "      <td>15 minutes</td>\n",
       "      <td>AS a Marine 1st Lt. flying an FJ4B fighter/att...</td>\n",
       "      <td>2004-01-22</td>\n",
       "      <td>21.418056</td>\n",
       "      <td>-157.803611</td>\n",
       "    </tr>\n",
       "  </tbody>\n",
       "</table>\n",
       "</div>"
      ],
      "text/plain": [
       "                 date                  city state country     shape  \\\n",
       "0 1949-10-10 20:30:00            san marcos    tx      us  cylinder   \n",
       "1 1949-10-10 21:00:00          lackland afb    tx     NaN     light   \n",
       "2 1955-10-10 17:00:00  chester (uk/england)   NaN      gb    circle   \n",
       "3 1956-10-10 21:00:00                  edna    tx      us    circle   \n",
       "4 1960-10-10 20:00:00               kaneohe    hi      us     light   \n",
       "\n",
       "   duration_seconds    duration  \\\n",
       "0            2700.0  45 minutes   \n",
       "1            7200.0     1-2 hrs   \n",
       "2              20.0  20 seconds   \n",
       "3              20.0    1/2 hour   \n",
       "4             900.0  15 minutes   \n",
       "\n",
       "                                             comment report_date   latitude  \\\n",
       "0  This event took place in early fall around 194...  2004-04-27  29.883056   \n",
       "1  1949 Lackland AFB&#44 TX.  Lights racing acros...  2005-12-16  29.384210   \n",
       "2  Green/Orange circular disc over Chester&#44 En...  2008-01-21  53.200000   \n",
       "3  My older brother and twin sister were leaving ...  2004-01-17  28.978333   \n",
       "4  AS a Marine 1st Lt. flying an FJ4B fighter/att...  2004-01-22  21.418056   \n",
       "\n",
       "    longitude  \n",
       "0  -97.941111  \n",
       "1  -98.581082  \n",
       "2   -2.916667  \n",
       "3  -96.645833  \n",
       "4 -157.803611  "
      ]
     },
     "execution_count": 58,
     "metadata": {},
     "output_type": "execute_result"
    }
   ],
   "source": [
    "ufos.head()"
   ]
  },
  {
   "cell_type": "markdown",
   "metadata": {},
   "source": [
    "### Aside: downsampling\n",
    "\n",
    "We have covered downsampling before, but we will repeat it here in case folks have slower computers and don't want to use the full dataset while in class.\n",
    "\n",
    "We can remind ourselves of how many entries are in this dataset:"
   ]
  },
  {
   "cell_type": "code",
   "execution_count": 59,
   "metadata": {},
   "outputs": [
    {
     "data": {
      "text/plain": [
       "80332"
      ]
     },
     "execution_count": 59,
     "metadata": {},
     "output_type": "execute_result"
    }
   ],
   "source": [
    "len(ufos)"
   ]
  },
  {
   "cell_type": "markdown",
   "metadata": {},
   "source": [
    "80,000 entries is a lot!  So, to speed up our interactivity, we can randomly sample this dataset for plotting purposes.  Lets down sample to 1000 samples:"
   ]
  },
  {
   "cell_type": "code",
   "execution_count": 60,
   "metadata": {},
   "outputs": [
    {
     "data": {
      "text/plain": [
       "array([49312, 68116, 13691,  1605, 36159, 75828, 59991,  7582,  1288,\n",
       "       15812, 50272, 63448,  5700, 65259, 52084, 52871, 27624, 35727,\n",
       "       61391, 73264,  1601,  8821, 49431, 66616, 24323, 64961, 15829,\n",
       "       15851, 61238, 20970, 33135, 73210,  7274, 39959, 28770, 31709,\n",
       "       47144, 35377, 11378, 19361, 13205, 23490,  3304, 26948, 36379,\n",
       "       34537,  3025, 17252, 75207, 57788, 78888,  6298, 52370, 14990,\n",
       "       48496, 61108, 67449, 60002, 35920, 52387, 46486, 44027, 53493,\n",
       "       48776, 66513,  6437,  9402, 53444, 62637, 21297,  6935,  8247,\n",
       "       56296, 48923,  9314, 56752,  1930, 67507, 55654, 41682, 18368,\n",
       "       36124, 50217, 30075, 23629, 46737, 30973, 41213, 39970, 72799,\n",
       "       65155, 15575,   523, 17010, 74864, 59854, 13917, 75150, 33642,\n",
       "       59491, 42162, 11665, 49334, 64681, 15341, 60399, 64113, 17227,\n",
       "       17671, 45150, 14487, 52417, 58227, 48524, 20281, 62552,  8659,\n",
       "       28965, 39678, 55257, 32187, 64345, 77040, 63976, 21660, 25441,\n",
       "       21226, 65662, 56479, 31881, 60013,  2222, 79611, 71764, 67328,\n",
       "       18061, 38063,  7200, 53894, 12624, 48167,   376, 24517, 19481,\n",
       "       55524,  4343, 45441, 18502, 59638,  5963, 28207, 27114, 65491,\n",
       "       39295, 79484,  5680, 57278, 52729, 61571, 68727, 42041, 16071,\n",
       "       37435,  4220,  2156, 76238, 10029, 54196, 32144, 10980, 58661,\n",
       "       41116, 63923, 43038, 35555, 15201,  1180, 37698, 31388, 30874,\n",
       "       10062, 15495, 35222, 10276,  9559, 66760, 51985, 74782, 28452,\n",
       "       34647,  4930, 45300, 36557, 42345, 43031, 36571, 38151, 61906,\n",
       "       58095, 76161, 64410, 67164, 26231, 54657, 13561, 47869, 15425,\n",
       "       63174, 36688, 69919, 22595, 18775, 25694, 20110, 55733,  6033,\n",
       "       45139, 16678, 41221,  2375, 42765, 61444, 63934, 78508, 62186,\n",
       "       43852, 75450, 72692, 25939, 73276, 34964, 78276, 66923, 36177,\n",
       "       68173, 52546,  2517, 51897, 21117, 43042, 72490, 61867, 22115,\n",
       "       63985, 31442, 56132, 25792, 70368, 38179,  2611, 51381, 62129,\n",
       "       37115, 12726, 55966, 71073, 42306, 64884, 44725, 17369, 77171,\n",
       "       12843, 54600, 64792, 50213, 65345, 29292, 52784, 68957, 32147,\n",
       "       54622,   155, 71704, 56931, 63061, 63889, 21286, 43613, 36129,\n",
       "       53589, 16734, 68204, 24794, 36776, 17500,  6765, 29536,  3164,\n",
       "       22798, 18157, 47422, 47205, 63739, 71622, 41983, 64412, 41546,\n",
       "       44489, 79520, 39817, 46961, 61674, 49653, 39847, 24146, 74983,\n",
       "       24998,  1844, 53655, 39327, 50071, 13180,  8186, 57868, 55665,\n",
       "       71318, 66154, 42395, 21313, 56569, 69585,  9999, 59459, 36851,\n",
       "        5165, 11570, 55259,  4765, 23139, 70643, 22381, 23742, 65323,\n",
       "       70986, 20816, 69896, 49778, 70593, 30640,  5812,  3635,   282,\n",
       "       59389, 14973, 19384, 20749, 73808, 68799, 31457, 46873, 60219,\n",
       "       19660, 31439, 13740, 75226, 45350, 31771, 74823, 46240,   497,\n",
       "       46136, 10903, 12841, 18250, 80121, 46949, 49424, 73119, 44391,\n",
       "       35098, 15357, 45895, 52789, 63198, 79548, 23321, 50502, 52667,\n",
       "       58191, 16664, 62410, 19399, 34342, 60780, 27399, 69762, 65881,\n",
       "       25061, 80233, 74334, 57264, 28595, 18338,  8829, 50732, 66786,\n",
       "       72929, 17218,  8602, 74791, 18435, 47723, 15518, 44095, 20128,\n",
       "       69120, 11166, 17921,  7359, 21210, 74360, 21273, 33477, 41042,\n",
       "       23001, 76015, 25985,  3176, 11931, 69516, 23897, 26368, 76215,\n",
       "       43341, 57621, 44929,  1192, 57791, 25738, 54842, 39714, 44462,\n",
       "       14736, 53471, 14071, 42769, 35369, 28851, 63676, 54225, 60850,\n",
       "        8893, 18304, 68770, 14476, 63961, 58841, 71097, 61059, 16814,\n",
       "       72256, 62038, 27423, 68377, 69995, 71823, 51706, 55735, 56554,\n",
       "       18980, 62068, 75804, 11672, 37754, 58523, 30490, 40535, 23165,\n",
       "       16088, 33516, 42574, 26990, 37546,  6721, 57160, 51394, 29141,\n",
       "        1712, 70821, 76948, 63092, 25787, 66303, 60080, 33539, 69743,\n",
       "       71352,  3565, 35540, 60486,  2670, 63484, 77687, 34656, 19981,\n",
       "       59348,  2753,  3005, 77115, 16721, 71650, 66419, 30329,  4655,\n",
       "        8305, 47560, 32544, 43223,  6512,  5236, 70526, 24897, 76382,\n",
       "        5316, 61849, 72575, 55445, 38054, 76178,  2145, 60835,  6143,\n",
       "       21060, 17964, 61719, 61548, 67410,  5861,  5372,  8127, 32506,\n",
       "       56853, 79497, 16804, 60338, 52514, 18126,  1967, 76617, 75878,\n",
       "       42674, 26169, 11585, 55774, 10501, 24401, 80146, 30712, 64450,\n",
       "       20482, 30873,  6867, 18742, 25868, 57220, 70822, 59002, 21389,\n",
       "       31741, 75588, 75043, 19007, 34112,   141, 26718, 61051, 31065,\n",
       "       69928,  4968, 39799, 22081, 23116, 62829, 55621,  5885,  9188,\n",
       "         599,  4614, 41209, 54336, 18817, 50991,  8332, 47481,   983,\n",
       "       48103, 63576, 65005, 11499, 29828, 60929, 76059, 55459,  1818,\n",
       "       43511, 52541, 51891, 11924, 71188, 32478, 15048, 58597, 36994,\n",
       "       12084, 72770, 55885, 52961, 32333, 34375, 64901, 64449, 11621,\n",
       "        8412, 19130, 47861, 78498, 60322, 42381, 29912, 56285, 28227,\n",
       "       75320, 45416, 34946, 36419, 74320, 22703, 58774, 18715, 61350,\n",
       "       51166,  7115, 45234, 32652, 49903, 22009, 29854, 38234, 13212,\n",
       "       12982, 11874, 59503, 61483, 28305, 11276, 30295,  3328,  8168,\n",
       "       38083, 45411, 12333, 21181, 57469, 13614, 20475, 72413, 17167,\n",
       "       63331, 40008, 22385, 22821, 16296,  5769, 18921, 69508, 30729,\n",
       "       63138, 69924, 52658, 46510, 30796, 36813, 60756, 53691, 62106,\n",
       "        8620, 52271, 33612, 28268, 69034,  9736, 64361,  1577, 13949,\n",
       "       36661, 75051, 73649, 33255,  8456, 78070, 19110, 34606, 22530,\n",
       "       74516, 29938, 18161, 42784, 10066, 67418, 44798, 11770, 74737,\n",
       "       27436, 75816,  9859,   791,  6088, 60375, 75632, 36687, 66838,\n",
       "       32533, 76421, 64106, 27433, 27526,  9600, 44809, 36598, 35544,\n",
       "        1879, 48437, 28793,  3741, 46092, 14895, 41460, 61129, 73595,\n",
       "       58204, 65779, 21339, 71542,  8690, 63063,  5182, 63803, 45866,\n",
       "        7139, 32449, 52287, 76548, 12208, 66565, 52958, 55867, 23029,\n",
       "       20794, 13157, 39937, 60275, 61983, 16617, 67885, 25259, 37164,\n",
       "       27150, 34601, 41663, 43251, 73169, 43516,  6422, 78909,  5997,\n",
       "        3175, 62063, 71226, 68858, 78084, 57289, 52638,  8654, 57675,\n",
       "       26172, 61536, 52428, 55938, 10321, 61257, 26171, 12528, 49209,\n",
       "        6404, 76819, 54927, 55170, 47943, 66379, 11973, 23787, 75638,\n",
       "        2950, 22154, 64340, 25164, 69458,  8858, 61881,  4852, 79473,\n",
       "       16109,  9624, 40989, 16410, 44291, 53334, 38236, 50262, 79734,\n",
       "       35844, 10609, 37218,  6749, 27509, 36562, 15325, 76702, 29094,\n",
       "       79309, 34307, 39165, 17836, 49992, 68025, 18380, 47012, 25639,\n",
       "       62853, 44837, 66028,  9809, 22916, 63966, 48631, 18990, 35089,\n",
       "       64894, 25196, 17127, 27134, 56004, 55531, 12545, 41756, 73110,\n",
       "       57638, 28396, 37931, 74185, 47974, 78154, 75046, 40297, 55181,\n",
       "       55871, 14603, 14423, 55426, 78765, 65296, 26456,  9370, 11482,\n",
       "        2014, 44452, 40410, 17524, 55478, 62606, 25409, 61471, 25921,\n",
       "       12482, 72829, 62217, 10546, 28926, 11441, 40622,   969, 74095,\n",
       "       41531, 53443, 67893, 36272,  5144,  1803, 70436,   159, 38262,\n",
       "       34124, 36717, 49747, 56466, 75494, 34175,   182, 15132,  4893,\n",
       "       73667, 65792, 25464, 37008,  2497, 62907, 78768, 47788, 19580,\n",
       "       58874, 66467, 51271, 20571, 18938, 24714, 39861, 79808, 40461,\n",
       "       24817, 14311, 13262, 29270, 35115, 75708, 77235, 20623, 34467,\n",
       "       38562, 50696, 28427, 59743, 38013, 67445, 44822, 65477, 42082,\n",
       "       22783, 53689, 69094,  3325, 76232, 12278, 78867, 51818, 51447,\n",
       "       48156, 22856, 45575, 14567, 12041, 36170, 62633, 65105,  7171,\n",
       "       76073, 36176, 73250, 27724,  5322, 79117, 34675, 73464, 79432,\n",
       "       59932, 26466, 37816, 55380, 72731, 26904, 79844, 26492, 15010,\n",
       "        7128, 15967, 80022, 55664, 36596, 44250, 16834, 21335, 72348,\n",
       "       49520, 46115, 30252, 36622,  8514, 36627, 49616, 39210,  6513,\n",
       "       27851, 77217,  9214, 53074, 79024,  9563, 33876, 38448, 67047,\n",
       "       21593])"
      ]
     },
     "execution_count": 60,
     "metadata": {},
     "output_type": "execute_result"
    }
   ],
   "source": [
    "nsamples = 1000\n",
    "#nsamples = 5000 # if you want a larger sample\n",
    "downSampleMask = np.random.choice(range(len(ufos)-1), \n",
    "                                  nsamples, replace=False)\n",
    "downSampleMask\n",
    "# so, downsample mask is now a list of random indicies for \n",
    "#  the UFO dataset.  Your's will not be the same because we have not set a seed."
   ]
  },
  {
   "cell_type": "markdown",
   "metadata": {},
   "source": [
    "Let's create a subset of our data with the `.loc` function:"
   ]
  },
  {
   "cell_type": "code",
   "execution_count": 61,
   "metadata": {},
   "outputs": [
    {
     "data": {
      "text/plain": [
       "1000"
      ]
     },
     "execution_count": 61,
     "metadata": {},
     "output_type": "execute_result"
    }
   ],
   "source": [
    "ufosDS = ufos.loc[downSampleMask]\n",
    "len(ufosDS)\n",
    "# so much shorter"
   ]
  },
  {
   "cell_type": "markdown",
   "metadata": {},
   "source": [
    "We can also see that this is saved as a dataframe:"
   ]
  },
  {
   "cell_type": "code",
   "execution_count": 62,
   "metadata": {},
   "outputs": [
    {
     "data": {
      "text/html": [
       "<div>\n",
       "<style scoped>\n",
       "    .dataframe tbody tr th:only-of-type {\n",
       "        vertical-align: middle;\n",
       "    }\n",
       "\n",
       "    .dataframe tbody tr th {\n",
       "        vertical-align: top;\n",
       "    }\n",
       "\n",
       "    .dataframe thead th {\n",
       "        text-align: right;\n",
       "    }\n",
       "</style>\n",
       "<table border=\"1\" class=\"dataframe\">\n",
       "  <thead>\n",
       "    <tr style=\"text-align: right;\">\n",
       "      <th></th>\n",
       "      <th>date</th>\n",
       "      <th>city</th>\n",
       "      <th>state</th>\n",
       "      <th>country</th>\n",
       "      <th>shape</th>\n",
       "      <th>duration_seconds</th>\n",
       "      <th>duration</th>\n",
       "      <th>comment</th>\n",
       "      <th>report_date</th>\n",
       "      <th>latitude</th>\n",
       "      <th>longitude</th>\n",
       "    </tr>\n",
       "  </thead>\n",
       "  <tbody>\n",
       "    <tr>\n",
       "      <th>49312</th>\n",
       "      <td>2005-06-15 22:30:00</td>\n",
       "      <td>louisville</td>\n",
       "      <td>ky</td>\n",
       "      <td>us</td>\n",
       "      <td>light</td>\n",
       "      <td>10.0</td>\n",
       "      <td>10 seconds</td>\n",
       "      <td>3 friends watched by a bluish light that moved...</td>\n",
       "      <td>2006-10-30</td>\n",
       "      <td>38.254167</td>\n",
       "      <td>-85.759444</td>\n",
       "    </tr>\n",
       "    <tr>\n",
       "      <th>68116</th>\n",
       "      <td>2007-08-20 22:05:00</td>\n",
       "      <td>edmond</td>\n",
       "      <td>ok</td>\n",
       "      <td>us</td>\n",
       "      <td>sphere</td>\n",
       "      <td>120.0</td>\n",
       "      <td>2 min.</td>\n",
       "      <td>Two bright star looking objects moving at unbe...</td>\n",
       "      <td>2007-10-08</td>\n",
       "      <td>35.652778</td>\n",
       "      <td>-97.477778</td>\n",
       "    </tr>\n",
       "    <tr>\n",
       "      <th>13691</th>\n",
       "      <td>2011-11-29 03:35:00</td>\n",
       "      <td>marquette</td>\n",
       "      <td>mi</td>\n",
       "      <td>us</td>\n",
       "      <td>light</td>\n",
       "      <td>240.0</td>\n",
       "      <td>4 min</td>\n",
       "      <td>Light object in sky dims then moves away towar...</td>\n",
       "      <td>2011-12-12</td>\n",
       "      <td>46.543611</td>\n",
       "      <td>-87.395278</td>\n",
       "    </tr>\n",
       "    <tr>\n",
       "      <th>1605</th>\n",
       "      <td>2007-10-14 21:25:00</td>\n",
       "      <td>surprise</td>\n",
       "      <td>az</td>\n",
       "      <td>us</td>\n",
       "      <td>other</td>\n",
       "      <td>1.5</td>\n",
       "      <td>1.5 seconds</td>\n",
       "      <td>Streak in sky changes direction</td>\n",
       "      <td>2007-11-28</td>\n",
       "      <td>33.630556</td>\n",
       "      <td>-112.332500</td>\n",
       "    </tr>\n",
       "    <tr>\n",
       "      <th>36159</th>\n",
       "      <td>2007-04-01 21:36:00</td>\n",
       "      <td>greensboro</td>\n",
       "      <td>pa</td>\n",
       "      <td>us</td>\n",
       "      <td>oval</td>\n",
       "      <td>300.0</td>\n",
       "      <td>1/4 hour</td>\n",
       "      <td>Object was moving s.w to n.e. rounded in front...</td>\n",
       "      <td>2007-04-27</td>\n",
       "      <td>39.791111</td>\n",
       "      <td>-79.913056</td>\n",
       "    </tr>\n",
       "    <tr>\n",
       "      <th>...</th>\n",
       "      <td>...</td>\n",
       "      <td>...</td>\n",
       "      <td>...</td>\n",
       "      <td>...</td>\n",
       "      <td>...</td>\n",
       "      <td>...</td>\n",
       "      <td>...</td>\n",
       "      <td>...</td>\n",
       "      <td>...</td>\n",
       "      <td>...</td>\n",
       "      <td>...</td>\n",
       "    </tr>\n",
       "    <tr>\n",
       "      <th>9563</th>\n",
       "      <td>2007-11-15 06:13:00</td>\n",
       "      <td>richmond hill</td>\n",
       "      <td>ga</td>\n",
       "      <td>us</td>\n",
       "      <td>changing</td>\n",
       "      <td>180.0</td>\n",
       "      <td>3 minutes</td>\n",
       "      <td>Very Bright object in morning sky.  ((NUFORC N...</td>\n",
       "      <td>2007-11-28</td>\n",
       "      <td>31.938056</td>\n",
       "      <td>-81.303611</td>\n",
       "    </tr>\n",
       "    <tr>\n",
       "      <th>33876</th>\n",
       "      <td>2004-03-28 20:00:00</td>\n",
       "      <td>martinez</td>\n",
       "      <td>ca</td>\n",
       "      <td>us</td>\n",
       "      <td>fireball</td>\n",
       "      <td>420.0</td>\n",
       "      <td>5-7 minutes</td>\n",
       "      <td>Fireballs performing amazing feats.</td>\n",
       "      <td>2004-04-09</td>\n",
       "      <td>38.019444</td>\n",
       "      <td>-122.133056</td>\n",
       "    </tr>\n",
       "    <tr>\n",
       "      <th>38448</th>\n",
       "      <td>2001-04-22 06:33:00</td>\n",
       "      <td>fairhaven</td>\n",
       "      <td>ma</td>\n",
       "      <td>us</td>\n",
       "      <td>sphere</td>\n",
       "      <td>300.0</td>\n",
       "      <td>5 minutes</td>\n",
       "      <td>Unknown brilliant spheres baffles Massachusset...</td>\n",
       "      <td>2002-07-26</td>\n",
       "      <td>41.637500</td>\n",
       "      <td>-70.904167</td>\n",
       "    </tr>\n",
       "    <tr>\n",
       "      <th>67047</th>\n",
       "      <td>2011-08-16 01:00:00</td>\n",
       "      <td>raytown</td>\n",
       "      <td>mo</td>\n",
       "      <td>us</td>\n",
       "      <td>triangle</td>\n",
       "      <td>900.0</td>\n",
       "      <td>10-15 min</td>\n",
       "      <td>Very bright color changing triangular shaped o...</td>\n",
       "      <td>2011-08-21</td>\n",
       "      <td>39.008611</td>\n",
       "      <td>-94.463333</td>\n",
       "    </tr>\n",
       "    <tr>\n",
       "      <th>21593</th>\n",
       "      <td>2010-12-31 06:10:00</td>\n",
       "      <td>carmel</td>\n",
       "      <td>ca</td>\n",
       "      <td>NaN</td>\n",
       "      <td>light</td>\n",
       "      <td>60.0</td>\n",
       "      <td>1 min.</td>\n",
       "      <td>Unidentified &amp;quot;dual&amp;quot; satellite</td>\n",
       "      <td>2011-01-05</td>\n",
       "      <td>36.555239</td>\n",
       "      <td>-121.923288</td>\n",
       "    </tr>\n",
       "  </tbody>\n",
       "</table>\n",
       "<p>1000 rows × 11 columns</p>\n",
       "</div>"
      ],
      "text/plain": [
       "                     date           city state country     shape  \\\n",
       "49312 2005-06-15 22:30:00     louisville    ky      us     light   \n",
       "68116 2007-08-20 22:05:00         edmond    ok      us    sphere   \n",
       "13691 2011-11-29 03:35:00      marquette    mi      us     light   \n",
       "1605  2007-10-14 21:25:00       surprise    az      us     other   \n",
       "36159 2007-04-01 21:36:00     greensboro    pa      us      oval   \n",
       "...                   ...            ...   ...     ...       ...   \n",
       "9563  2007-11-15 06:13:00  richmond hill    ga      us  changing   \n",
       "33876 2004-03-28 20:00:00       martinez    ca      us  fireball   \n",
       "38448 2001-04-22 06:33:00      fairhaven    ma      us    sphere   \n",
       "67047 2011-08-16 01:00:00        raytown    mo      us  triangle   \n",
       "21593 2010-12-31 06:10:00         carmel    ca     NaN     light   \n",
       "\n",
       "       duration_seconds     duration  \\\n",
       "49312              10.0   10 seconds   \n",
       "68116             120.0       2 min.   \n",
       "13691             240.0        4 min   \n",
       "1605                1.5  1.5 seconds   \n",
       "36159             300.0     1/4 hour   \n",
       "...                 ...          ...   \n",
       "9563              180.0    3 minutes   \n",
       "33876             420.0  5-7 minutes   \n",
       "38448             300.0    5 minutes   \n",
       "67047             900.0    10-15 min   \n",
       "21593              60.0       1 min.   \n",
       "\n",
       "                                                 comment report_date  \\\n",
       "49312  3 friends watched by a bluish light that moved...  2006-10-30   \n",
       "68116  Two bright star looking objects moving at unbe...  2007-10-08   \n",
       "13691  Light object in sky dims then moves away towar...  2011-12-12   \n",
       "1605                     Streak in sky changes direction  2007-11-28   \n",
       "36159  Object was moving s.w to n.e. rounded in front...  2007-04-27   \n",
       "...                                                  ...         ...   \n",
       "9563   Very Bright object in morning sky.  ((NUFORC N...  2007-11-28   \n",
       "33876                Fireballs performing amazing feats.  2004-04-09   \n",
       "38448  Unknown brilliant spheres baffles Massachusset...  2002-07-26   \n",
       "67047  Very bright color changing triangular shaped o...  2011-08-21   \n",
       "21593            Unidentified &quot;dual&quot; satellite  2011-01-05   \n",
       "\n",
       "        latitude   longitude  \n",
       "49312  38.254167  -85.759444  \n",
       "68116  35.652778  -97.477778  \n",
       "13691  46.543611  -87.395278  \n",
       "1605   33.630556 -112.332500  \n",
       "36159  39.791111  -79.913056  \n",
       "...          ...         ...  \n",
       "9563   31.938056  -81.303611  \n",
       "33876  38.019444 -122.133056  \n",
       "38448  41.637500  -70.904167  \n",
       "67047  39.008611  -94.463333  \n",
       "21593  36.555239 -121.923288  \n",
       "\n",
       "[1000 rows x 11 columns]"
      ]
     },
     "execution_count": 62,
     "metadata": {},
     "output_type": "execute_result"
    }
   ],
   "source": [
    "ufosDS #DS=down sample"
   ]
  },
  {
   "cell_type": "markdown",
   "metadata": {},
   "source": [
    "Lets make a super quick scatter plot to remind ourselves what this looks like:"
   ]
  },
  {
   "cell_type": "code",
   "execution_count": 63,
   "metadata": {},
   "outputs": [
    {
     "data": {
      "application/vnd.jupyter.widget-view+json": {
       "model_id": "12c94546e74543bbb628a74f5ab5c7e6",
       "version_major": 2,
       "version_minor": 0
      },
      "text/plain": [
       "Figure(axes=[Axis(label='Longitude', scale=LinearScale()), Axis(label='Latitude', orientation='vertical', scal…"
      ]
     },
     "metadata": {},
     "output_type": "display_data"
    }
   ],
   "source": [
    "# Set up x/y scales\n",
    "x_sc = bqplot.LinearScale()\n",
    "y_sc = bqplot.LinearScale()\n",
    "\n",
    "# Set p axis\n",
    "x_ax = bqplot.Axis(scale = x_sc, label='Longitude')\n",
    "y_ax = bqplot.Axis(scale = y_sc, \n",
    "                   orientation = 'vertical', \n",
    "                   label='Latitude')\n",
    "\n",
    "#(1) set up marks\n",
    "scatters = bqplot.Scatter(x = ufosDS['longitude'],\n",
    "                          y = ufosDS['latitude'],\n",
    "                          scales = {'x': x_sc, 'y': y_sc})\n",
    "\n",
    "# all together now\n",
    "fig = bqplot.Figure(marks = [scatters], axes = [x_ax, y_ax]) \n",
    "fig"
   ]
  },
  {
   "cell_type": "markdown",
   "metadata": {},
   "source": [
    "Note I haven't added in colors or interactions.  Let's at least add some colors in:"
   ]
  },
  {
   "cell_type": "code",
   "execution_count": 64,
   "metadata": {},
   "outputs": [
    {
     "data": {
      "application/vnd.jupyter.widget-view+json": {
       "model_id": "ce4b111e82a04a0d9650649f929c7dfa",
       "version_major": 2,
       "version_minor": 0
      },
      "text/plain": [
       "Figure(axes=[Axis(label='Longitude', scale=LinearScale()), Axis(label='Latitude', orientation='vertical', scal…"
      ]
     },
     "metadata": {},
     "output_type": "display_data"
    }
   ],
   "source": [
    "# lets make a super quick scatter plot to remind ourselves what this looks like:\n",
    "x_sc = bqplot.LinearScale()\n",
    "y_sc = bqplot.LinearScale()\n",
    "col_sc = bqplot.ColorScale()\n",
    "\n",
    "x_ax = bqplot.Axis(scale = x_sc, label='Longitude')\n",
    "y_ax = bqplot.Axis(scale = y_sc, \n",
    "                   orientation = 'vertical', \n",
    "                   label='Latitude')\n",
    "\n",
    "\n",
    "# Let's add in a color scale\n",
    "c_sc = bqplot.ColorScale() # color scale\n",
    "# color axes:\n",
    "c_ax = bqplot.ColorAxis(scale = c_sc, label='Duration in sec', \n",
    "                        orientation = 'vertical', side = 'right')\n",
    "\n",
    "# now replot:\n",
    "scatters = bqplot.Scatter(x = ufosDS['longitude'],\n",
    "                          y = ufosDS['latitude'],\n",
    "                          color=ufosDS['duration_seconds'],\n",
    "                          scales = {'x': x_sc, 'y': y_sc, 'color':c_sc})\n",
    "\n",
    "\n",
    "fig = bqplot.Figure(marks = [scatters], axes = [x_ax, y_ax, c_ax]) \n",
    "fig"
   ]
  },
  {
   "cell_type": "markdown",
   "metadata": {},
   "source": [
    "You'll note that this is a pretty muted color map.  This is because we are coloring by duration, and if you recall there is a *huge* range in durations:"
   ]
  },
  {
   "cell_type": "code",
   "execution_count": 65,
   "metadata": {},
   "outputs": [
    {
     "data": {
      "text/plain": [
       "(0.5, 219300.0)"
      ]
     },
     "execution_count": 65,
     "metadata": {},
     "output_type": "execute_result"
    }
   ],
   "source": [
    "ufosDS['duration_seconds'].min(), ufosDS['duration_seconds'].max()"
   ]
  },
  {
   "cell_type": "markdown",
   "metadata": {},
   "source": [
    "To account for this, let's take the log-base-10 of the duration when we plot.  We should make sure we specify this on our color axis (color bar) label:"
   ]
  },
  {
   "cell_type": "code",
   "execution_count": 66,
   "metadata": {},
   "outputs": [
    {
     "data": {
      "application/vnd.jupyter.widget-view+json": {
       "model_id": "7e7f1e00c3d64eb7b195be5743fcd8e7",
       "version_major": 2,
       "version_minor": 0
      },
      "text/plain": [
       "Figure(axes=[Axis(label='Longitude', scale=LinearScale()), Axis(label='Latitude', orientation='vertical', scal…"
      ]
     },
     "metadata": {},
     "output_type": "display_data"
    }
   ],
   "source": [
    "# lets make a super quick scatter plot to remind ourselves what this looks like:\n",
    "x_sc = bqplot.LinearScale()\n",
    "y_sc = bqplot.LinearScale()\n",
    "\n",
    "x_ax = bqplot.Axis(scale = x_sc, label='Longitude')\n",
    "y_ax = bqplot.Axis(scale = y_sc, \n",
    "                   orientation = 'vertical', \n",
    "                   label='Latitude')\n",
    "\n",
    "\n",
    "# (2) recall we can also color by things like duration\n",
    "c_sc = bqplot.ColorScale() # color scale\n",
    "\n",
    "# updated color axis with log scaling\n",
    "c_ax = bqplot.ColorAxis(scale = c_sc, label='log10(sec)', \n",
    "                        orientation = 'vertical', side = 'right')\n",
    "scatters = bqplot.Scatter(x = ufosDS['longitude'],\n",
    "                          y = ufosDS['latitude'],\n",
    "                          color=np.log10(ufosDS['duration_seconds']), # here we take log, base 10\n",
    "                          scales = {'x': x_sc, 'y': y_sc, 'color':c_sc})\n",
    "\n",
    "fig = bqplot.Figure(marks = [scatters], axes = [x_ax, y_ax, c_ax]) \n",
    "fig"
   ]
  },
  {
   "cell_type": "markdown",
   "metadata": {},
   "source": [
    "## Heatmap Dashboard with our UFO dataset.\n",
    "\n",
    "Now we are going to use our heatmap idea to plot this data again. Note this will shmear out a lot of the nice map stuff we see above since we will be binning in lat/long. Don't worry!  We'll talk about making maps in the 2nd part of class. \n",
    "\n",
    "What should we color by?  Lets do by duration again.\n",
    "\n",
    "To get this to work with our heatmap, we're going to have to do some rebinning. Right now, our data is all in 1 long list we need to rebin things in a 2d histogram where the x axis is longitude & y is latitude.\n",
    "\n",
    "There are a few ways to do this, we'll use numpy to do our binning and use this as input into `bqplot.GridHeatMap`.  Before that, we can get a sense of what we think things will look like using matplotlib's `hist2d`.  We'll use the siting duration as *weights* into our histogram - so bins that have several long sitings will be counted as significant as well as bins that have multiple short sitings.\n",
    "\n",
    "We'll skip down to the code to do the histogramming, but here is an aside with more details if you'd like to look at it:\n",
    "\n",
    "### ASIDE"
   ]
  },
  {
   "cell_type": "code",
   "execution_count": 67,
   "metadata": {},
   "outputs": [
    {
     "data": {
      "image/png": "[encoded data removed]",
      "text/plain": [
       "<Figure size 640x480 with 2 Axes>"
      ]
     },
     "metadata": {},
     "output_type": "display_data"
    }
   ],
   "source": [
    "plt.hist2d(ufos['longitude'], ufos['latitude'], \n",
    "           weights=ufos['duration_seconds'], bins=20, cmap='RdPu')\n",
    "cb = plt.colorbar()\n",
    "cb.set_label('counts in bin')"
   ]
  },
  {
   "cell_type": "code",
   "execution_count": 68,
   "metadata": {},
   "outputs": [
    {
     "data": {
      "text/plain": [
       "0        2700.0\n",
       "1        7200.0\n",
       "2          20.0\n",
       "3          20.0\n",
       "4         900.0\n",
       "          ...  \n",
       "80327     600.0\n",
       "80328    1200.0\n",
       "80329    1200.0\n",
       "80330       5.0\n",
       "80331    1020.0\n",
       "Name: duration_seconds, Length: 80332, dtype: float64"
      ]
     },
     "execution_count": 68,
     "metadata": {},
     "output_type": "execute_result"
    }
   ],
   "source": [
    "ufos['duration_seconds']"
   ]
  },
  {
   "cell_type": "markdown",
   "metadata": {},
   "source": [
    "Note that here I am using the whole UFO dataset again, since we are rebinning anyway.  Feel free to use `ufoDS` if it works better on your computer."
   ]
  },
  {
   "cell_type": "markdown",
   "metadata": {},
   "source": [
    "Again, we know that the duration should be log scaled, and we can do that with the `SymLogNorm` color scale in matplotlib if we want:"
   ]
  },
  {
   "cell_type": "code",
   "execution_count": 69,
   "metadata": {},
   "outputs": [
    {
     "name": "stderr",
     "output_type": "stream",
     "text": [
      "/var/folders/qt/_0bv3pr14c97mcyg8fc554bm0000gn/T/ipykernel_965/1037044519.py:3: MatplotlibDeprecationWarning: default base may change from np.e to 10.  To suppress this warning specify the base keyword argument.\n",
      "  bins=20, cmap='RdPu', norm = mpl_colors.SymLogNorm(10)) # ignorning the warning (10 -> e)\n"
     ]
    },
    {
     "data": {
      "image/png": "[encoded data removed]",
      "text/plain": [
       "<Figure size 640x480 with 2 Axes>"
      ]
     },
     "metadata": {},
     "output_type": "display_data"
    }
   ],
   "source": [
    "import matplotlib.colors as mpl_colors\n",
    "plt.hist2d(ufos['longitude'], ufos['latitude'], weights=ufos['duration_seconds'], \n",
    "           bins=20, cmap='RdPu', norm = mpl_colors.SymLogNorm(10)) # ignorning the warning (10 -> e)\n",
    "cb = plt.colorbar()\n",
    "cb.set_label('counts in bin')"
   ]
  },
  {
   "cell_type": "markdown",
   "metadata": {},
   "source": [
    "Now this is starting to look a bit more like our scatter plot, but we can more easily make out areas of long duration (like in the US).  Ok, we want to incorporate interactivity, so let's use the `bqplot` engine + our ideas of the heatmap marks that we used last time to create our own clickable map.\n",
    "\n",
    "Let's use `numpy`'s 2d histogram function to do that for us:"
   ]
  },
  {
   "cell_type": "code",
   "execution_count": 70,
   "metadata": {
    "scrolled": true
   },
   "outputs": [
    {
     "data": {
      "text/plain": [
       "array([[0.00000000e+00, 0.00000000e+00, 0.00000000e+00, 0.00000000e+00,\n",
       "        0.00000000e+00, 0.00000000e+00, 0.00000000e+00, 0.00000000e+00,\n",
       "        1.80000000e+03, 0.00000000e+00, 0.00000000e+00, 0.00000000e+00,\n",
       "        0.00000000e+00, 4.70640000e+04, 0.00000000e+00, 0.00000000e+00,\n",
       "        0.00000000e+00, 1.20300000e+03, 7.37100000e+03, 3.70000000e+03],\n",
       "       [0.00000000e+00, 0.00000000e+00, 0.00000000e+00, 0.00000000e+00,\n",
       "        0.00000000e+00, 0.00000000e+00, 0.00000000e+00, 0.00000000e+00,\n",
       "        1.50000000e+01, 0.00000000e+00, 0.00000000e+00, 0.00000000e+00,\n",
       "        0.00000000e+00, 6.75425400e+06, 0.00000000e+00, 0.00000000e+00,\n",
       "        0.00000000e+00, 0.00000000e+00, 9.63978000e+05, 5.10500000e+03],\n",
       "       [2.00000000e+00, 0.00000000e+00, 0.00000000e+00, 0.00000000e+00,\n",
       "        0.00000000e+00, 0.00000000e+00, 0.00000000e+00, 0.00000000e+00,\n",
       "        0.00000000e+00, 8.78160000e+04, 0.00000000e+00, 0.00000000e+00,\n",
       "        0.00000000e+00, 0.00000000e+00, 0.00000000e+00, 4.74493000e+05,\n",
       "        1.28508831e+06, 4.91300000e+05, 9.89250000e+04, 2.26200000e+04],\n",
       "       [0.00000000e+00, 0.00000000e+00, 0.00000000e+00, 0.00000000e+00,\n",
       "        0.00000000e+00, 0.00000000e+00, 0.00000000e+00, 1.00000000e+00,\n",
       "        0.00000000e+00, 0.00000000e+00, 0.00000000e+00, 0.00000000e+00,\n",
       "        0.00000000e+00, 6.35797000e+05, 2.87622208e+07, 3.54044364e+07,\n",
       "        6.28236612e+07, 1.00635500e+06, 5.77100000e+03, 0.00000000e+00],\n",
       "       [0.00000000e+00, 0.00000000e+00, 0.00000000e+00, 0.00000000e+00,\n",
       "        0.00000000e+00, 0.00000000e+00, 0.00000000e+00, 0.00000000e+00,\n",
       "        0.00000000e+00, 0.00000000e+00, 3.00000000e+01, 0.00000000e+00,\n",
       "        3.60830000e+04, 3.59955000e+05, 1.88657418e+07, 9.50278891e+07,\n",
       "        6.11220969e+06, 7.07408000e+05, 6.45000000e+02, 0.00000000e+00],\n",
       "       [0.00000000e+00, 0.00000000e+00, 0.00000000e+00, 0.00000000e+00,\n",
       "        0.00000000e+00, 6.00000000e+01, 1.77155100e+04, 0.00000000e+00,\n",
       "        4.22200000e+03, 6.31242000e+06, 4.30800000e+03, 3.72908800e+04,\n",
       "        1.21576500e+06, 5.15448200e+05, 6.78530713e+07, 7.27040887e+07,\n",
       "        1.53348520e+08, 2.02530000e+04, 3.00000000e+01, 4.50000000e+01],\n",
       "       [0.00000000e+00, 0.00000000e+00, 0.00000000e+00, 0.00000000e+00,\n",
       "        0.00000000e+00, 3.70000000e+02, 9.12210000e+04, 1.26450000e+04,\n",
       "        3.18560000e+04, 0.00000000e+00, 2.42000000e+03, 7.77000000e+03,\n",
       "        5.10860000e+04, 6.33667000e+05, 7.40500000e+03, 1.88000000e+03,\n",
       "        8.92232000e+05, 3.73700000e+03, 0.00000000e+00, 0.00000000e+00],\n",
       "       [0.00000000e+00, 0.00000000e+00, 0.00000000e+00, 0.00000000e+00,\n",
       "        0.00000000e+00, 0.00000000e+00, 1.05000000e+03, 7.48120000e+04,\n",
       "        4.16230000e+04, 1.98900000e+04, 4.20000000e+02, 0.00000000e+00,\n",
       "        0.00000000e+00, 0.00000000e+00, 0.00000000e+00, 1.83000000e+03,\n",
       "        0.00000000e+00, 0.00000000e+00, 3.00000000e+02, 0.00000000e+00],\n",
       "       [0.00000000e+00, 0.00000000e+00, 0.00000000e+00, 0.00000000e+00,\n",
       "        0.00000000e+00, 0.00000000e+00, 0.00000000e+00, 0.00000000e+00,\n",
       "        2.78630000e+04, 0.00000000e+00, 0.00000000e+00, 0.00000000e+00,\n",
       "        3.96000000e+03, 0.00000000e+00, 1.20000000e+02, 9.30000000e+01,\n",
       "        0.00000000e+00, 0.00000000e+00, 7.89300000e+03, 6.00000000e+03],\n",
       "       [0.00000000e+00, 0.00000000e+00, 0.00000000e+00, 0.00000000e+00,\n",
       "        0.00000000e+00, 0.00000000e+00, 0.00000000e+00, 0.00000000e+00,\n",
       "        9.00000000e+02, 0.00000000e+00, 0.00000000e+00, 5.00000000e+00,\n",
       "        0.00000000e+00, 0.00000000e+00, 1.02010000e+04, 5.61210000e+04,\n",
       "        5.47800000e+03, 1.26257935e+08, 3.18400000e+04, 0.00000000e+00],\n",
       "       [0.00000000e+00, 0.00000000e+00, 0.00000000e+00, 0.00000000e+00,\n",
       "        0.00000000e+00, 0.00000000e+00, 1.09010000e+04, 1.56000000e+03,\n",
       "        0.00000000e+00, 0.00000000e+00, 6.00000000e+01, 6.27000000e+03,\n",
       "        0.00000000e+00, 0.00000000e+00, 1.80000000e+02, 7.47150000e+04,\n",
       "        9.65608500e+06, 2.93482580e+06, 4.12235000e+04, 2.16800000e+03],\n",
       "       [0.00000000e+00, 0.00000000e+00, 0.00000000e+00, 0.00000000e+00,\n",
       "        0.00000000e+00, 0.00000000e+00, 4.79700000e+04, 2.72000000e+04,\n",
       "        7.28000000e+03, 0.00000000e+00, 4.20000000e+02, 0.00000000e+00,\n",
       "        0.00000000e+00, 3.72000000e+03, 7.04730000e+04, 2.69006700e+06,\n",
       "        5.97460000e+04, 2.63280000e+04, 7.25901000e+03, 4.80000000e+02],\n",
       "       [0.00000000e+00, 0.00000000e+00, 0.00000000e+00, 0.00000000e+00,\n",
       "        0.00000000e+00, 0.00000000e+00, 0.00000000e+00, 0.00000000e+00,\n",
       "        0.00000000e+00, 4.00000000e+00, 1.26693000e+04, 2.74500000e+03,\n",
       "        1.20000000e+02, 1.49500000e+03, 6.19925000e+05, 6.34558600e+06,\n",
       "        3.35000000e+02, 4.65000000e+02, 0.00000000e+00, 0.00000000e+00],\n",
       "       [0.00000000e+00, 0.00000000e+00, 0.00000000e+00, 0.00000000e+00,\n",
       "        0.00000000e+00, 0.00000000e+00, 0.00000000e+00, 0.00000000e+00,\n",
       "        1.11500000e+03, 0.00000000e+00, 0.00000000e+00, 0.00000000e+00,\n",
       "        0.00000000e+00, 9.06200000e+03, 6.12000000e+03, 1.23500000e+04,\n",
       "        1.83300000e+03, 1.20000000e+03, 0.00000000e+00, 0.00000000e+00],\n",
       "       [0.00000000e+00, 0.00000000e+00, 0.00000000e+00, 0.00000000e+00,\n",
       "        0.00000000e+00, 0.00000000e+00, 6.06500000e+03, 0.00000000e+00,\n",
       "        0.00000000e+00, 0.00000000e+00, 9.00000000e+01, 2.46850000e+04,\n",
       "        6.24540000e+04, 4.09906000e+05, 2.72113200e+06, 1.80000000e+02,\n",
       "        1.05000000e+04, 1.00000000e+01, 0.00000000e+00, 0.00000000e+00],\n",
       "       [0.00000000e+00, 0.00000000e+00, 0.00000000e+00, 0.00000000e+00,\n",
       "        0.00000000e+00, 0.00000000e+00, 0.00000000e+00, 0.00000000e+00,\n",
       "        0.00000000e+00, 8.55000000e+02, 5.68070000e+04, 3.29310000e+04,\n",
       "        3.43550000e+04, 7.74800000e+03, 2.46500000e+03, 1.20000000e+03,\n",
       "        1.80000000e+02, 0.00000000e+00, 0.00000000e+00, 0.00000000e+00],\n",
       "       [0.00000000e+00, 0.00000000e+00, 0.00000000e+00, 0.00000000e+00,\n",
       "        0.00000000e+00, 0.00000000e+00, 7.82235000e+04, 1.41000000e+03,\n",
       "        0.00000000e+00, 2.62000000e+02, 1.59050000e+04, 5.27311300e+06,\n",
       "        5.70430000e+04, 1.50990000e+04, 1.42420000e+04, 2.18490000e+04,\n",
       "        2.54000000e+02, 0.00000000e+00, 0.00000000e+00, 0.00000000e+00],\n",
       "       [0.00000000e+00, 0.00000000e+00, 0.00000000e+00, 0.00000000e+00,\n",
       "        0.00000000e+00, 4.02105000e+03, 3.74460000e+04, 1.27389600e+06,\n",
       "        3.00000000e+01, 1.36700000e+03, 0.00000000e+00, 7.32000000e+03,\n",
       "        0.00000000e+00, 4.20000000e+02, 5.29100000e+03, 2.79550000e+04,\n",
       "        1.22000000e+02, 0.00000000e+00, 0.00000000e+00, 0.00000000e+00],\n",
       "       [0.00000000e+00, 0.00000000e+00, 0.00000000e+00, 0.00000000e+00,\n",
       "        0.00000000e+00, 8.65800000e+04, 5.28249450e+05, 3.87328000e+05,\n",
       "        1.93230000e+04, 1.08000000e+04, 3.00000000e+00, 0.00000000e+00,\n",
       "        9.00000000e+02, 0.00000000e+00, 0.00000000e+00, 0.00000000e+00,\n",
       "        0.00000000e+00, 6.00000000e+01, 0.00000000e+00, 0.00000000e+00],\n",
       "       [0.00000000e+00, 0.00000000e+00, 0.00000000e+00, 0.00000000e+00,\n",
       "        7.20010000e+01, 8.43470000e+04, 2.18700000e+04, 0.00000000e+00,\n",
       "        3.61000000e+03, 0.00000000e+00, 0.00000000e+00, 0.00000000e+00,\n",
       "        0.00000000e+00, 0.00000000e+00, 0.00000000e+00, 0.00000000e+00,\n",
       "        0.00000000e+00, 0.00000000e+00, 0.00000000e+00, 0.00000000e+00]])"
      ]
     },
     "execution_count": 70,
     "metadata": {},
     "output_type": "execute_result"
    }
   ],
   "source": [
    "# ***START WITH 10 EACH**\n",
    "nlong = 20 \n",
    "nlat = 20\n",
    "\n",
    "#(1)\n",
    "hist2d, long_edges, lat_edges = np.histogram2d(ufos['longitude'], \n",
    "                                               ufos['latitude'], \n",
    "                                               weights=ufos['duration_seconds'], \n",
    "                                              bins=[nlong,nlat])\n",
    "\n",
    "# this returns the TOTAL duration of ufo events in each bin\n",
    "# Let's take a quick look at this data\n",
    "hist2d"
   ]
  },
  {
   "cell_type": "code",
   "execution_count": 71,
   "metadata": {},
   "outputs": [
    {
     "data": {
      "text/plain": [
       "(153348519.88, 0.0)"
      ]
     },
     "execution_count": 71,
     "metadata": {},
     "output_type": "execute_result"
    }
   ],
   "source": [
    "hist2d.max(), hist2d.min() # a pretty big range!"
   ]
  },
  {
   "cell_type": "markdown",
   "metadata": {},
   "source": [
    "Let's take a quick look at this with `imshow` in `matplotlib`:"
   ]
  },
  {
   "cell_type": "code",
   "execution_count": 72,
   "metadata": {},
   "outputs": [
    {
     "name": "stderr",
     "output_type": "stream",
     "text": [
      "/var/folders/qt/_0bv3pr14c97mcyg8fc554bm0000gn/T/ipykernel_965/4008812176.py:1: MatplotlibDeprecationWarning: default base may change from np.e to 10.  To suppress this warning specify the base keyword argument.\n",
      "  plt.imshow(hist2d, cmap='RdPu', norm = mpl_colors.SymLogNorm(10))\n"
     ]
    },
    {
     "data": {
      "text/plain": [
       "<matplotlib.image.AxesImage at 0x7f98cbacd100>"
      ]
     },
     "execution_count": 72,
     "metadata": {},
     "output_type": "execute_result"
    },
    {
     "data": {
      "image/png": "[encoded data removed]",
      "text/plain": [
       "<Figure size 640x480 with 1 Axes>"
      ]
     },
     "metadata": {},
     "output_type": "display_data"
    }
   ],
   "source": [
    "plt.imshow(hist2d, cmap='RdPu', norm = mpl_colors.SymLogNorm(10))"
   ]
  },
  {
   "cell_type": "markdown",
   "metadata": {},
   "source": [
    "Note that the x/y labels are just the bin indicies.  But even so, we can see that this is rotated to what we want to acutally plot!  \n",
    "\n",
    "Different methods of histogramming will give you different shaped outputs.  Worse still, depending on what viz engine you're using, it expects different orientations of the data going in!  My suggestion is to experiement and make sure you're data is in the correct orientation by plotting it a few times.\n",
    "\n",
    "For `bqplot`, we actually want our orientation to be *upsidedown* which we can get by taking the transpose of `hist2d`:"
   ]
  },
  {
   "cell_type": "code",
   "execution_count": 73,
   "metadata": {},
   "outputs": [
    {
     "name": "stderr",
     "output_type": "stream",
     "text": [
      "/var/folders/qt/_0bv3pr14c97mcyg8fc554bm0000gn/T/ipykernel_965/2115753836.py:1: MatplotlibDeprecationWarning: default base may change from np.e to 10.  To suppress this warning specify the base keyword argument.\n",
      "  plt.imshow(hist2d.T, cmap='RdPu', norm = mpl_colors.SymLogNorm(10))\n"
     ]
    },
    {
     "data": {
      "text/plain": [
       "<matplotlib.image.AxesImage at 0x7f98cbcade50>"
      ]
     },
     "execution_count": 73,
     "metadata": {},
     "output_type": "execute_result"
    },
    {
     "data": {
      "image/png": "[encoded data removed]",
      "text/plain": [
       "<Figure size 640x480 with 1 Axes>"
      ]
     },
     "metadata": {},
     "output_type": "display_data"
    }
   ],
   "source": [
    "plt.imshow(hist2d.T, cmap='RdPu', norm = mpl_colors.SymLogNorm(10))"
   ]
  },
  {
   "cell_type": "markdown",
   "metadata": {},
   "source": [
    "Ok, let's make our histogramming more complex.  \n",
    "\n",
    "As an aside: we want to treat the histogram as a probability instead of a total weighted count:"
   ]
  },
  {
   "cell_type": "code",
   "execution_count": 74,
   "metadata": {},
   "outputs": [
    {
     "data": {
      "text/plain": [
       "(0.0015329854771788194, 0.0)"
      ]
     },
     "execution_count": 74,
     "metadata": {},
     "output_type": "execute_result"
    }
   ],
   "source": [
    "hist2d, long_edges, lat_edges = np.histogram2d(ufos['longitude'], \n",
    "                                               ufos['latitude'], \n",
    "                                               weights=ufos['duration_seconds'],\n",
    "                                              density=True, \n",
    "                                              bins = [nlong,nlat])\n",
    "hist2d.max(), hist2d.min()"
   ]
  },
  {
   "cell_type": "markdown",
   "metadata": {},
   "source": [
    "What are the shapes of the different outputs here?"
   ]
  },
  {
   "cell_type": "code",
   "execution_count": 75,
   "metadata": {},
   "outputs": [
    {
     "data": {
      "text/plain": [
       "((20, 20), (21,), (21,))"
      ]
     },
     "execution_count": 75,
     "metadata": {},
     "output_type": "execute_result"
    }
   ],
   "source": [
    "hist2d.shape, long_edges.shape, lat_edges.shape"
   ]
  },
  {
   "cell_type": "markdown",
   "metadata": {},
   "source": [
    "Note that the long/lat edges have 1 more count than the histogram size.  This is because they are indeed edges.  To get bin centers, which is what we want to do for plotting we can do:"
   ]
  },
  {
   "cell_type": "code",
   "execution_count": 76,
   "metadata": {},
   "outputs": [
    {
     "data": {
      "text/plain": [
       "array([-167.78055671, -150.02555893, -132.27056115, -114.51556337,\n",
       "        -96.76056559,  -79.00556781,  -61.25057003,  -43.49557225,\n",
       "        -25.74057447,   -7.98557669,    9.76942109,   27.52441887,\n",
       "         45.27941665,   63.03441443,   80.78941221,   98.54440999,\n",
       "        116.29940777,  134.05440555,  151.80940333,  169.56440111])"
      ]
     },
     "execution_count": 76,
     "metadata": {},
     "output_type": "execute_result"
    }
   ],
   "source": [
    "long_centers = (long_edges[:-1] + long_edges[1:]) / 2\n",
    "long_centers"
   ]
  },
  {
   "cell_type": "code",
   "execution_count": 77,
   "metadata": {},
   "outputs": [
    {
     "data": {
      "text/plain": [
       "array([-78.9736832, -71.1955456, -63.417408 , -55.6392704, -47.8611328,\n",
       "       -40.0829952, -32.3048576, -24.52672  , -16.7485824,  -8.9704448,\n",
       "        -1.1923072,   6.5858304,  14.363968 ,  22.1421056,  29.9202432,\n",
       "        37.6983808,  45.4765184,  53.254656 ,  61.0327936,  68.8109312])"
      ]
     },
     "execution_count": 77,
     "metadata": {},
     "output_type": "execute_result"
    }
   ],
   "source": [
    "lat_centers = (lat_edges[:-1] + lat_edges[1:]) / 2\n",
    "lat_centers"
   ]
  },
  {
   "cell_type": "markdown",
   "metadata": {},
   "source": [
    "We might want to control where our bins are, we can do this by specifying bin edges ourselves:"
   ]
  },
  {
   "cell_type": "code",
   "execution_count": 78,
   "metadata": {},
   "outputs": [
    {
     "name": "stdout",
     "output_type": "stream",
     "text": [
      "[-150. -135. -120. -105.  -90.  -75.  -60.  -45.  -30.  -15.    0.   15.\n",
      "   30.   45.   60.   75.   90.  105.  120.  135.  150.] (21,)\n",
      "[-40.  -34.5 -29.  -23.5 -18.  -12.5  -7.   -1.5   4.    9.5  15.   20.5\n",
      "  26.   31.5  37.   42.5  48.   53.5  59.   64.5  70. ] (21,)\n"
     ]
    }
   ],
   "source": [
    "long_bins = np.linspace(-150, 150, nlong+1)\n",
    "lat_bins = np.linspace(-40, 70, nlat+1)\n",
    "print(long_bins, long_bins.shape)\n",
    "print(lat_bins, lat_bins.shape)"
   ]
  },
  {
   "cell_type": "markdown",
   "metadata": {},
   "source": [
    "Let's take these bins as our inputs and regenerate our histogram:"
   ]
  },
  {
   "cell_type": "code",
   "execution_count": 79,
   "metadata": {},
   "outputs": [],
   "source": [
    "hist2d, long_edges, lat_edges = np.histogram2d(ufos['longitude'], \n",
    "                                               ufos['latitude'], \n",
    "                                               weights=ufos['duration_seconds'],\n",
    "                                              bins = [long_bins,lat_bins])"
   ]
  },
  {
   "cell_type": "markdown",
   "metadata": {},
   "source": [
    "And grab our centers of lat and long for plotting as well (note: if you're like 30% with inline programming, that is totally fine!):"
   ]
  },
  {
   "cell_type": "code",
   "execution_count": 80,
   "metadata": {},
   "outputs": [],
   "source": [
    "long_centers = (long_edges[:-1] + long_edges[1:]) / 2\n",
    "lat_centers = (lat_edges[:-1] + lat_edges[1:]) / 2"
   ]
  },
  {
   "cell_type": "markdown",
   "metadata": {},
   "source": [
    "We know that we want to input this into `bqplot`'s grid heatmap, so we need to take the transpose:"
   ]
  },
  {
   "cell_type": "code",
   "execution_count": 81,
   "metadata": {},
   "outputs": [],
   "source": [
    "hist2d = hist2d.T"
   ]
  },
  {
   "cell_type": "markdown",
   "metadata": {},
   "source": [
    "What is the range of values in our plot?"
   ]
  },
  {
   "cell_type": "code",
   "execution_count": 82,
   "metadata": {},
   "outputs": [
    {
     "data": {
      "text/plain": [
       "(0.0, 125056847.51, 1.0)"
      ]
     },
     "execution_count": 82,
     "metadata": {},
     "output_type": "execute_result"
    }
   ],
   "source": [
    "hist2d.min(), hist2d.max(), hist2d[hist2d>0].min() # this is the *total duration* of sitings in a bin"
   ]
  },
  {
   "cell_type": "markdown",
   "metadata": {},
   "source": [
    "We still have a big range in count values because we weighted by the non-log duration above.  So we'll instead take the log of our output histogram.\n",
    "\n",
    "For aesthetic value, we want to have areas where there are no counts (like the ocean) show up as zero.  We can do that by a little trick -- setting the 0 values to `NaN`.  We will then take the log for color scaling:"
   ]
  },
  {
   "cell_type": "code",
   "execution_count": 83,
   "metadata": {},
   "outputs": [
    {
     "name": "stderr",
     "output_type": "stream",
     "text": [
      "/var/folders/qt/_0bv3pr14c97mcyg8fc554bm0000gn/T/ipykernel_965/1257440567.py:1: RuntimeWarning: divide by zero encountered in log10\n",
      "  np.log10(hist2d).min()\n"
     ]
    },
    {
     "data": {
      "text/plain": [
       "-inf"
      ]
     },
     "execution_count": 83,
     "metadata": {},
     "output_type": "execute_result"
    }
   ],
   "source": [
    "np.log10(hist2d).min()"
   ]
  },
  {
   "cell_type": "markdown",
   "metadata": {},
   "source": [
    "The above gives us an error which can mess up our color maps.  So we'll be tricky:"
   ]
  },
  {
   "cell_type": "code",
   "execution_count": 84,
   "metadata": {},
   "outputs": [],
   "source": [
    "hist2d[hist2d <= 0] = np.nan # set zeros to NaNs\n",
    "# then take log\n",
    "hist2d = np.log10(hist2d)\n",
    "#hist2d[0:10]"
   ]
  },
  {
   "cell_type": "markdown",
   "metadata": {},
   "source": [
    "### END ASIDE\n",
    "\n",
    "In the interest of time, we won't be doing the binning in class, but here is a function that will do this for us:"
   ]
  },
  {
   "cell_type": "code",
   "execution_count": 134,
   "metadata": {},
   "outputs": [],
   "source": [
    "def generate_histogram_from_lat_long(ufos, nlong=20, nlat=20, longmin=-150, longmax=150,\n",
    "                                     latmin=-40, latmax=70,\n",
    "                                     takeLog=True):\n",
    "    long_bins = np.linspace(longmin, longmax, nlong+1)\n",
    "    lat_bins = np.linspace(latmin, latmax, nlat+1)\n",
    "    hist2d, long_edges, lat_edges = np.histogram2d(ufos['longitude'], \n",
    "                                                   ufos['latitude'], \n",
    "                                                   weights=ufos['duration_seconds'],\n",
    "                                                  bins = [long_bins,lat_bins])\n",
    "    hist2d = hist2d.T\n",
    "    if takeLog:\n",
    "        hist2d[hist2d <= 0] = np.nan # set zeros to NaNs\n",
    "        # then take log\n",
    "        hist2d = np.log10(hist2d)\n",
    "    long_centers = (long_edges[:-1] + long_edges[1:]) / 2\n",
    "    lat_centers = (lat_edges[:-1] + lat_edges[1:]) / 2\n",
    "    return hist2d, long_centers, lat_centers, long_edges, lat_edges"
   ]
  },
  {
   "cell_type": "markdown",
   "metadata": {},
   "source": [
    "Now we'll just use this!"
   ]
  },
  {
   "cell_type": "code",
   "execution_count": 86,
   "metadata": {},
   "outputs": [],
   "source": [
    "# data\n",
    "hist2d, long_centers, lat_centers, long_edges, lat_edges = generate_histogram_from_lat_long(ufos)"
   ]
  },
  {
   "cell_type": "markdown",
   "metadata": {},
   "source": [
    "Now that we have all that fancy binning out of the way, lets proceed as normal:"
   ]
  },
  {
   "cell_type": "code",
   "execution_count": 87,
   "metadata": {},
   "outputs": [
    {
     "data": {
      "application/vnd.jupyter.widget-view+json": {
       "model_id": "60773f4fffba4786a1e09422b74fe38c",
       "version_major": 2,
       "version_minor": 0
      },
      "text/plain": [
       "Figure(axes=[ColorAxis(orientation='vertical', scale=ColorScale(max=8.09710747658943, min=0.0, scheme='RdPu'),…"
      ]
     },
     "metadata": {},
     "output_type": "display_data"
    }
   ],
   "source": [
    "# (1) add scales - colors, x & y\n",
    "col_sc = bqplot.ColorScale(scheme=\"RdPu\", \n",
    "                           min=np.nanmin(hist2d), \n",
    "                           max=np.nanmax(hist2d))\n",
    "x_sc = bqplot.LinearScale()\n",
    "y_sc = bqplot.LinearScale()\n",
    "\n",
    "# (2) create axis - for colors, x & y\n",
    "c_ax = bqplot.ColorAxis(scale = col_sc, \n",
    "                        orientation = 'vertical', \n",
    "                        side = 'right')\n",
    "\n",
    "x_ax = bqplot.Axis(scale = x_sc, label='Longitude')\n",
    "y_ax = bqplot.Axis(scale = y_sc, \n",
    "                   orientation = 'vertical', \n",
    "                   label = 'Latitude')\n",
    "\n",
    "# (3) Marks\n",
    "heat_map = bqplot.GridHeatMap(color = hist2d,\n",
    "                              row = lat_centers, \n",
    "                              column = long_centers,\n",
    "                              scales = {'color': col_sc,\n",
    "                                        'row': y_sc,\n",
    "                                        'column': x_sc},\n",
    "                              interactions = {'click': 'select'},\n",
    "                              anchor_style = {'fill':'blue'}, \n",
    "                              selected_style = {'opacity': 1.0},\n",
    "                              unselected_style = {'opacity': 1.0})\n",
    "\n",
    "# (4) interactivity - none yet\n",
    "\n",
    "# (5) put it all together in a figure\n",
    "fig = bqplot.Figure(marks = [heat_map], axes = [c_ax, y_ax, x_ax])\n",
    "fig"
   ]
  },
  {
   "cell_type": "markdown",
   "metadata": {},
   "source": [
    "Let's start building up our dashboard like before.  One easy thing we can do is add a label:"
   ]
  },
  {
   "cell_type": "code",
   "execution_count": 88,
   "metadata": {},
   "outputs": [
    {
     "data": {
      "application/vnd.jupyter.widget-view+json": {
       "model_id": "dde972da203c4f248cd89cb3727f2aab",
       "version_major": 2,
       "version_minor": 0
      },
      "text/plain": [
       "VBox(children=(Label(value=''), Figure(axes=[ColorAxis(orientation='vertical', scale=ColorScale(max=8.09710747…"
      ]
     },
     "metadata": {},
     "output_type": "display_data"
    }
   ],
   "source": [
    "myLabel = ipywidgets.Label()\n",
    "def on_selected(change):\n",
    "    if len(change['owner'].selected) == 1: # only selecting one bin at a time\n",
    "        i,j = change['owner'].selected[0]\n",
    "        \n",
    "        \n",
    "\n",
    "# (1) add scales - colors, x & y\n",
    "col_sc = bqplot.ColorScale(scheme=\"RdPu\", \n",
    "                           min=np.nanmin(hist2d), \n",
    "                           max=np.nanmax(hist2d))\n",
    "x_sc = bqplot.LinearScale()\n",
    "y_sc = bqplot.LinearScale()\n",
    "\n",
    "# (2) create axis - for colors, x & y\n",
    "c_ax = bqplot.ColorAxis(scale = col_sc, \n",
    "                        orientation = 'vertical', \n",
    "                        side = 'right')\n",
    "\n",
    "x_ax = bqplot.Axis(scale = x_sc, label='Longitude')\n",
    "y_ax = bqplot.Axis(scale = y_sc, \n",
    "                   orientation = 'vertical', \n",
    "                   label = 'Latitude')\n",
    "\n",
    "# (3) Marks\n",
    "heat_map = bqplot.GridHeatMap(color = hist2d,\n",
    "                              row = lat_centers, \n",
    "                              column = long_centers,\n",
    "                              scales = {'color': col_sc,\n",
    "                                        'row': y_sc,\n",
    "                                        'column': x_sc},\n",
    "                              interactions = {'click': 'select'},\n",
    "                              anchor_style = {'fill':'blue'}, \n",
    "                              selected_style = {'opacity': 1.0},\n",
    "                              unselected_style = {'opacity': 1.0})\n",
    "\n",
    "# (4) interactivity - label\n",
    "mySelectedLabel = ipywidgets.Label()\n",
    "def get_data_value(change):\n",
    "    if len(change['owner'].selected) == 1: #only 1 selected\n",
    "        i,j = change['owner'].selected[0]\n",
    "        v = hist2d[i,j] # grab data value\n",
    "        mySelectedLabel.value = 'Total duration in log(sec) = ' + str(v) # set our label\n",
    "    \n",
    "# make sure we check out     \n",
    "heat_map.observe(get_data_value, 'selected')\n",
    "\n",
    "\n",
    "# (5) put it all together in a figure\n",
    "fig = bqplot.Figure(marks = [heat_map], axes = [c_ax, y_ax, x_ax])\n",
    "myDashboard = ipywidgets.VBox([mySelectedLabel,fig])\n",
    "myDashboard"
   ]
  },
  {
   "cell_type": "markdown",
   "metadata": {},
   "source": [
    "Let's also include information about the duration as a function of date in a particular bin on another plot -- a scatter plot this time.  Let's first start by making this plot alone before putting it into our dashboard."
   ]
  },
  {
   "cell_type": "code",
   "execution_count": 89,
   "metadata": {},
   "outputs": [],
   "source": [
    "import datetime as dt # we'll use this to format our dates all fancy like"
   ]
  },
  {
   "cell_type": "markdown",
   "metadata": {},
   "source": [
    "Now let's make our scales.  We'll start with a new `bqplot` scale called `DateScale`:"
   ]
  },
  {
   "cell_type": "code",
   "execution_count": 90,
   "metadata": {},
   "outputs": [],
   "source": [
    "# 1. data for scatter plot already there\n",
    "\n",
    "# 2. scales\n",
    "x_scl = bqplot.DateScale(min=dt.datetime(1950,1,1),max=dt.datetime(2020,1,1)) # note: for dates on x-axis\n",
    "y_scl = bqplot.LogScale()"
   ]
  },
  {
   "cell_type": "markdown",
   "metadata": {},
   "source": [
    "Let's plot the duration on a log scale since we know that's probably what will look best based on the range of durations:"
   ]
  },
  {
   "cell_type": "markdown",
   "metadata": {},
   "source": [
    "Our axis:"
   ]
  },
  {
   "cell_type": "code",
   "execution_count": 91,
   "metadata": {},
   "outputs": [],
   "source": [
    "# 3. axis\n",
    "x_ax = bqplot.Axis(label='Date', scale=x_scl)\n",
    "y_ax = bqplot.Axis(label='Duration in Sec', scale=y_scl, \n",
    "                    orientation='vertical', side='left')"
   ]
  },
  {
   "cell_type": "markdown",
   "metadata": {},
   "source": [
    "our marks, in this case a scatter plot\n",
    "\n",
    "Thinking ahead, we know that we want to select a 2d bin from our heatmap to then draw scatters for our scatter plot.  Let's write things in this way:"
   ]
  },
  {
   "cell_type": "code",
   "execution_count": 92,
   "metadata": {},
   "outputs": [],
   "source": [
    "# picking an x/y bin -- this is one I know has a lot of data!\n",
    "i,j = 19,0 "
   ]
  },
  {
   "cell_type": "markdown",
   "metadata": {},
   "source": [
    "Let's specify the range of longs & lats for this selection of x/y bin:"
   ]
  },
  {
   "cell_type": "code",
   "execution_count": 93,
   "metadata": {},
   "outputs": [],
   "source": [
    "longs = [long_edges[j], long_edges[j+1]] # min/max longitude\n",
    "lats = [lat_edges[i],lat_edges[i+1]] # min/max latitude"
   ]
  },
  {
   "cell_type": "code",
   "execution_count": 94,
   "metadata": {},
   "outputs": [],
   "source": [
    "long_min = long_edges[j]\n",
    "long_max = long_edges[j+1]"
   ]
  },
  {
   "cell_type": "code",
   "execution_count": 95,
   "metadata": {},
   "outputs": [
    {
     "data": {
      "text/plain": [
       "(-150.0, -135.0)"
      ]
     },
     "execution_count": 95,
     "metadata": {},
     "output_type": "execute_result"
    }
   ],
   "source": [
    "long_min, long_max"
   ]
  },
  {
   "cell_type": "code",
   "execution_count": 96,
   "metadata": {},
   "outputs": [],
   "source": [
    "lat_min = lat_edges[i]\n",
    "lat_max = lat_edges[i+1]"
   ]
  },
  {
   "cell_type": "code",
   "execution_count": 97,
   "metadata": {},
   "outputs": [
    {
     "data": {
      "text/plain": [
       "(64.5, 70.0)"
      ]
     },
     "execution_count": 97,
     "metadata": {},
     "output_type": "execute_result"
    }
   ],
   "source": [
    "lat_min, lat_max"
   ]
  },
  {
   "cell_type": "markdown",
   "metadata": {},
   "source": [
    "Let's *mask* out a subset of the UFO dataset with *only* these ranges of longitude and latitude:"
   ]
  },
  {
   "cell_type": "code",
   "execution_count": 98,
   "metadata": {},
   "outputs": [
    {
     "data": {
      "text/plain": [
       "([64.5, 70.0],\n",
       " [-150.0, -135.0],\n",
       " 327      64.837778\n",
       " 2845     64.837778\n",
       " 3620     64.837778\n",
       " 4602     64.751111\n",
       " 6011     64.837778\n",
       "            ...    \n",
       " 77347    64.751111\n",
       " 77497    64.837778\n",
       " 78571    64.837778\n",
       " 79029    64.837778\n",
       " 79470    64.837778\n",
       " Name: latitude, Length: 74, dtype: float64)"
      ]
     },
     "execution_count": 98,
     "metadata": {},
     "output_type": "execute_result"
    }
   ],
   "source": [
    "region_mask = ( (ufos['latitude'] >= lats[0]) & (ufos['latitude']<=lats[1]) &\\\n",
    "                (ufos['longitude'] >= longs[0]) & (ufos['longitude']<=longs[1]) )\n",
    "\n",
    "# we can see this selects for the upper right point of our heatmap\n",
    "lats, longs, ufos['latitude'][region_mask]"
   ]
  },
  {
   "cell_type": "code",
   "execution_count": 99,
   "metadata": {},
   "outputs": [
    {
     "data": {
      "text/plain": [
       "327      64.837778\n",
       "2845     64.837778\n",
       "3620     64.837778\n",
       "4602     64.751111\n",
       "6011     64.837778\n",
       "           ...    \n",
       "77347    64.751111\n",
       "77497    64.837778\n",
       "78571    64.837778\n",
       "79029    64.837778\n",
       "79470    64.837778\n",
       "Name: latitude, Length: 74, dtype: float64"
      ]
     },
     "execution_count": 99,
     "metadata": {},
     "output_type": "execute_result"
    }
   ],
   "source": [
    "ufos['latitude'][region_mask]"
   ]
  },
  {
   "cell_type": "markdown",
   "metadata": {},
   "source": [
    "We won't add any interactivity to this plot -- the interactivity will be drawn from our heatmap, so all that is left to do is add in marks:"
   ]
  },
  {
   "cell_type": "markdown",
   "metadata": {},
   "source": [
    "Marks"
   ]
  },
  {
   "cell_type": "code",
   "execution_count": 100,
   "metadata": {},
   "outputs": [],
   "source": [
    "# lets plot the durations as a function of year there\n",
    "duration_scatt = bqplot.Scatter(x = ufos['date'][region_mask],\n",
    "                               y = ufos['duration_seconds'][region_mask], \n",
    "                              scales={'x':x_scl, 'y':y_scl})"
   ]
  },
  {
   "cell_type": "markdown",
   "metadata": {},
   "source": [
    "#5: Put it all together and take a look!"
   ]
  },
  {
   "cell_type": "code",
   "execution_count": 101,
   "metadata": {
    "scrolled": true
   },
   "outputs": [
    {
     "data": {
      "application/vnd.jupyter.widget-view+json": {
       "model_id": "eb4acac52ebd434c83396c6a10b58f1e",
       "version_major": 2,
       "version_minor": 0
      },
      "text/plain": [
       "Figure(axes=[Axis(label='Date', scale=DateScale(max=datetime.datetime(2020, 1, 1, 0, 0), min=datetime.datetime…"
      ]
     },
     "metadata": {},
     "output_type": "display_data"
    }
   ],
   "source": [
    "fig_dur = bqplot.Figure(marks = [duration_scatt], axes = [x_ax, y_ax])\n",
    "fig_dur"
   ]
  },
  {
   "cell_type": "code",
   "execution_count": 102,
   "metadata": {},
   "outputs": [
    {
     "data": {
      "application/vnd.jupyter.widget-view+json": {
       "model_id": "0c300e03d4d54416b1c28af028ff37f1",
       "version_major": 2,
       "version_minor": 0
      },
      "text/plain": [
       "VBox(children=(Label(value=''), HBox(children=(Figure(axes=[ColorAxis(orientation='vertical', scale=ColorScale…"
      ]
     },
     "metadata": {},
     "output_type": "display_data"
    }
   ],
   "source": [
    "myLabel = ipywidgets.Label()\n",
    "def on_selected(change):\n",
    "    if len(change['owner'].selected) == 1: # only selecting one bin at a time\n",
    "        i,j = change['owner'].selected[0]\n",
    "        v = hist2d[i,j]\n",
    "        myLabel.value = 'Total duration in log10(sec)='+str(v)\n",
    "        # couple of steps to update the scatter plot\n",
    "        long_min = long_edges[j]\n",
    "        long_max = long_edges[j+1]\n",
    "        lat_min = lat_edges[i]\n",
    "        lat_max = lat_edges[i+1]\n",
    "        region_mask = ( (ufos['latitude']>=lat_min) & (ufos['latitude']<=lat_max) & \\\n",
    "              (ufos['longitude']>=long_min) & (ufos['longitude']<=long_max) )\n",
    "        \n",
    "\n",
    "# 2. scales\n",
    "col_sc = bqplot.ColorScale(scheme='RdPu', min=np.nanmin(hist2d), max=np.nanmax(hist2d))\n",
    "x_sc = bqplot.LinearScale()\n",
    "y_sc = bqplot.LinearScale()\n",
    "\n",
    "# 3. axis\n",
    "col_ax = bqplot.ColorAxis(scale=col_sc, orientation='vertical', side='right')\n",
    "x_ax = bqplot.Axis(scale=x_sc, label='Longitude')\n",
    "y_ax = bqplot.Axis(scale=y_sc, label='Latitude', orientation='vertical')\n",
    "\n",
    "# 4. marks\n",
    "heat_map = bqplot.GridHeatMap(color=hist2d, \n",
    "                             row=lat_centers, column=long_centers,\n",
    "                             scales={'color':col_sc, 'row':y_sc, 'column':x_sc},\n",
    "                             interactions = {'click':'select'},\n",
    "                             selected_style={'fill':'blue'})\n",
    "\n",
    "# 5. interactivity -- skip for now!\n",
    "heat_map.observe(on_selected,'selected')\n",
    "\n",
    "fig = bqplot.Figure(marks=[heat_map], axes=[col_ax, x_ax, y_ax])\n",
    "#fig\n",
    "#myDashboard = ipywidgets.VBox([myLabel,fig])\n",
    "fig.layout.min_width='500px'\n",
    "fig_dur.layout.min_width='500px'\n",
    "figures = ipywidgets.HBox([fig,fig_dur])\n",
    "myDashboard = ipywidgets.VBox([myLabel,figures])\n",
    "myDashboard"
   ]
  },
  {
   "cell_type": "markdown",
   "metadata": {},
   "source": [
    "### Scatter plot + label driven by heatmap dashboard\n",
    "\n",
    "Let's put together our heatmap + label + scatter plot as a dashboard.  I'll recopy what we had before into some cells we can put together:"
   ]
  },
  {
   "cell_type": "code",
   "execution_count": 103,
   "metadata": {},
   "outputs": [],
   "source": [
    "# (I) CREATE LABEL\n",
    "mySelectedLabel = ipywidgets.Label()"
   ]
  },
  {
   "cell_type": "code",
   "execution_count": 104,
   "metadata": {},
   "outputs": [],
   "source": [
    "# (II) HEAT MAP\n",
    "\n",
    "# (1) add scales - colors, x & y\n",
    "col_sc = bqplot.ColorScale(scheme=\"RdPu\", \n",
    "                           min=np.nanmin(hist2d), \n",
    "                           max=np.nanmax(hist2d))\n",
    "x_sc = bqplot.LinearScale()\n",
    "y_sc = bqplot.LinearScale()\n",
    "\n",
    "# (2) create axis - for colors, x & y\n",
    "c_ax = bqplot.ColorAxis(scale = col_sc, \n",
    "                        orientation = 'vertical', \n",
    "                        side = 'right')\n",
    "\n",
    "x_ax = bqplot.Axis(scale = x_sc, label='Longitude')\n",
    "y_ax = bqplot.Axis(scale = y_sc, \n",
    "                   orientation = 'vertical', \n",
    "                   label = 'Latitude')\n",
    "\n",
    "# (3) Marks\n",
    "heat_map = bqplot.GridHeatMap(color = hist2d,\n",
    "                              row = lat_centers, \n",
    "                              column = long_centers,\n",
    "                              scales = {'color': col_sc,\n",
    "                                        'row': y_sc,\n",
    "                                        'column': x_sc},\n",
    "                              interactions = {'click': 'select'},\n",
    "                              anchor_style = {'fill':'blue'}, \n",
    "                              selected_style = {'opacity': 1.0},\n",
    "                              unselected_style = {'opacity': 1.0})\n",
    "\n",
    "# skipping 4 & 5 for now"
   ]
  },
  {
   "cell_type": "code",
   "execution_count": 105,
   "metadata": {},
   "outputs": [],
   "source": [
    "# (III) SCATTER PLOT\n",
    "\n",
    "# (1) scales\n",
    "x_scl = bqplot.DateScale(min=dt.datetime(1950,1,1),max=dt.datetime(2020,1,1)) # note: for dates on x-axis\n",
    "y_scl = bqplot.LogScale()\n",
    "\n",
    "# (2) Axis\n",
    "ax_xcl = bqplot.Axis(label='Date', scale=x_scl)\n",
    "ax_ycl = bqplot.Axis(label='Duration in Sec', scale=y_scl, \n",
    "                    orientation='vertical', side='left')\n",
    "\n",
    "# (3) Marks\n",
    "# NOTE: we'll start with some default value selected\n",
    "i,j = 19,0 # picking an x/y bin -- this is one I know has a lot of data!\n",
    "longs = [long_edges[j], long_edges[j+1]] # min/max longitude\n",
    "lats = [lat_edges[i],lat_edges[i+1]] # min/max latitude\n",
    "# lets plot the durations as a function of year there\n",
    "duration_scatt = bqplot.Scatter(x = ufos['date'][region_mask],\n",
    "                               y = ufos['duration_seconds'][region_mask], \n",
    "                              scales={'x':x_scl, 'y':y_scl})\n",
    "\n",
    "# skipping 4 & 5 for now"
   ]
  },
  {
   "cell_type": "code",
   "execution_count": 106,
   "metadata": {},
   "outputs": [],
   "source": [
    "# (IV) LINKING TOGETHER DASHBOARD WITH INTERACTIVITY\n",
    "\n",
    "def get_data_value(change):\n",
    "    if len(change['owner'].selected) == 1: #only 1 selected\n",
    "        i,j = change['owner'].selected[0]\n",
    "        v = hist2d[i,j] # grab data value\n",
    "        mySelectedLabel.value = 'Total duration in log(sec) = ' + str(v) # set our label\n",
    "        # now: for the scatter plot -- THIS PART IS NEW\n",
    "        longs = [long_edges[j], long_edges[j+1]]\n",
    "        lats = [lat_edges[i],lat_edges[i+1]]\n",
    "        region_mask = ( (ufos['latitude'] >= lats[0]) & (ufos['latitude']<=lats[1]) &\\\n",
    "                    (ufos['longitude'] >= longs[0]) & (ufos['longitude']<=longs[1]) )\n",
    "        duration_scatt.x = ufos['date'][region_mask]\n",
    "        duration_scatt.y = ufos['duration_seconds'][region_mask]\n",
    "\n",
    "heat_map.observe(get_data_value, 'selected')"
   ]
  },
  {
   "cell_type": "code",
   "execution_count": 107,
   "metadata": {},
   "outputs": [],
   "source": [
    "# (5) create figures\n",
    "fig_heatmap = bqplot.Figure(marks = [heat_map], axes = [c_ax, y_ax, x_ax])\n",
    "fig_dur = bqplot.Figure(marks = [duration_scatt], axes = [ax_xcl, ax_ycl])"
   ]
  },
  {
   "cell_type": "code",
   "execution_count": 108,
   "metadata": {},
   "outputs": [
    {
     "data": {
      "application/vnd.jupyter.widget-view+json": {
       "model_id": "147c3307fe0642c79f832cfaca5e7483",
       "version_major": 2,
       "version_minor": 0
      },
      "text/plain": [
       "VBox(children=(Label(value=''), HBox(children=(Figure(axes=[ColorAxis(orientation='vertical', scale=ColorScale…"
      ]
     },
     "metadata": {},
     "output_type": "display_data"
    }
   ],
   "source": [
    "# since we know from last time we wanna make our figs a bit bigger:\n",
    "fig_heatmap.layout.min_width='500px'\n",
    "fig_dur.layout.min_width='500px'\n",
    "\n",
    "myDashboard = ipywidgets.VBox([mySelectedLabel, ipywidgets.HBox([fig_heatmap,fig_dur])])\n",
    "myDashboard"
   ]
  },
  {
   "cell_type": "markdown",
   "metadata": {},
   "source": [
    "Note that when I select a deep purple place, my scatter plot is very laggy, this makes me think we should do this with a histogram/bar type plot.  So let's try that below, by augmenting our creation of our dashboard:"
   ]
  },
  {
   "cell_type": "code",
   "execution_count": 109,
   "metadata": {},
   "outputs": [],
   "source": [
    "# Below hasn't changed:\n",
    "\n",
    "# (I) CREATE LABEL\n",
    "mySelectedLabel = ipywidgets.Label()\n",
    "\n",
    "# (II) HEAT MAP\n",
    "\n",
    "# (1) add scales - colors, x & y\n",
    "col_sc = bqplot.ColorScale(scheme=\"RdPu\", \n",
    "                           min=np.nanmin(hist2d), \n",
    "                           max=np.nanmax(hist2d))\n",
    "x_sc = bqplot.LinearScale()\n",
    "y_sc = bqplot.LinearScale()\n",
    "\n",
    "# (2) create axis - for colors, x & y\n",
    "c_ax = bqplot.ColorAxis(scale = col_sc, \n",
    "                        orientation = 'vertical', \n",
    "                        side = 'right')\n",
    "\n",
    "x_ax = bqplot.Axis(scale = x_sc, label='Longitude')\n",
    "y_ax = bqplot.Axis(scale = y_sc, \n",
    "                   orientation = 'vertical', \n",
    "                   label = 'Latitude')\n",
    "\n",
    "# (3) Marks\n",
    "heat_map = bqplot.GridHeatMap(color = hist2d,\n",
    "                              row = lat_centers, \n",
    "                              column = long_centers,\n",
    "                              scales = {'color': col_sc,\n",
    "                                        'row': y_sc,\n",
    "                                        'column': x_sc},\n",
    "                              interactions = {'click': 'select'},\n",
    "                              anchor_style = {'fill':'blue'}, \n",
    "                              selected_style = {'opacity': 1.0},\n",
    "                              unselected_style = {'opacity': 1.0})\n",
    "\n",
    "# skipping 4 & 5 for now"
   ]
  },
  {
   "cell_type": "markdown",
   "metadata": {},
   "source": [
    "Let's use a `Bar` mark from `bqplot` to plot duration as a function of time:"
   ]
  },
  {
   "cell_type": "code",
   "execution_count": 133,
   "metadata": {},
   "outputs": [],
   "source": [
    "# (II) BAR PLOT\n",
    "\n",
    "# (1-2) scales & ax in usual way\n",
    "x_scl = bqplot.LinearScale() # note we are back to linears\n",
    "y_scl = bqplot.LinearScale()\n",
    "\n",
    "\n",
    "ax_xcl = bqplot.Axis(label='Date', scale=x_scl)\n",
    "ax_ycl = bqplot.Axis(label='Total duration in Sec', scale=y_scl, \n",
    "                    orientation='vertical', side='left')\n",
    "\n",
    "# create the data mask for each binned region like we did before:\n",
    "i,j = 19,0\n",
    "longs = [long_edges[j], long_edges[j+1]]\n",
    "lats = [lat_edges[i],lat_edges[i+1]]\n",
    "region_mask = ( (ufos['latitude'] >= lats[0]) & (ufos['latitude']<=lats[1]) &\\\n",
    "                (ufos['longitude'] >= longs[0]) & (ufos['longitude']<=longs[1]) )\n",
    "\n",
    "plt.show()"
   ]
  },
  {
   "cell_type": "markdown",
   "metadata": {},
   "source": [
    "Here, we'll use `numpy`'s histogram function (this time in 1D) to grab all of the *years* overwhich the durations occur.  We'll do a count of UFO sitings per binned year, weighted by the duration of sitings:"
   ]
  },
  {
   "cell_type": "code",
   "execution_count": 111,
   "metadata": {},
   "outputs": [
    {
     "data": {
      "text/plain": [
       "0       1949-10-10 20:30:00\n",
       "1       1949-10-10 21:00:00\n",
       "2       1955-10-10 17:00:00\n",
       "3       1956-10-10 21:00:00\n",
       "4       1960-10-10 20:00:00\n",
       "                ...        \n",
       "80327   2013-09-09 21:15:00\n",
       "80328   2013-09-09 22:00:00\n",
       "80329   2013-09-09 22:00:00\n",
       "80330   2013-09-09 22:20:00\n",
       "80331   2013-09-09 23:00:00\n",
       "Name: date, Length: 80332, dtype: datetime64[ns]"
      ]
     },
     "execution_count": 111,
     "metadata": {},
     "output_type": "execute_result"
    }
   ],
   "source": [
    "ufos['date']"
   ]
  },
  {
   "cell_type": "markdown",
   "metadata": {},
   "source": [
    "For nice formatting purposes, let's create a column that just has years:"
   ]
  },
  {
   "cell_type": "code",
   "execution_count": 112,
   "metadata": {},
   "outputs": [
    {
     "data": {
      "text/plain": [
       "0        1949\n",
       "1        1949\n",
       "2        1955\n",
       "3        1956\n",
       "4        1960\n",
       "         ... \n",
       "80327    2013\n",
       "80328    2013\n",
       "80329    2013\n",
       "80330    2013\n",
       "80331    2013\n",
       "Name: year, Length: 80332, dtype: int64"
      ]
     },
     "execution_count": 112,
     "metadata": {},
     "output_type": "execute_result"
    }
   ],
   "source": [
    "ufos['year'] = ufos['date'].dt.year\n",
    "ufos['year']"
   ]
  },
  {
   "cell_type": "code",
   "execution_count": 113,
   "metadata": {},
   "outputs": [],
   "source": [
    "# Histogram, weight by duration, 10 bins in years:\n",
    "dur, dur_edges = np.histogram(ufos['year'][region_mask],\n",
    "                              weights=ufos['duration_seconds'][region_mask],\n",
    "                              bins=10)"
   ]
  },
  {
   "cell_type": "markdown",
   "metadata": {},
   "source": [
    "Get bin centers:"
   ]
  },
  {
   "cell_type": "code",
   "execution_count": 114,
   "metadata": {},
   "outputs": [],
   "source": [
    "dur_centers = (dur_edges[:-1] + dur_edges[1:]) / 2  # fancy way to get bin centers for our histogram"
   ]
  },
  {
   "cell_type": "code",
   "execution_count": 115,
   "metadata": {},
   "outputs": [
    {
     "data": {
      "text/plain": [
       "array([1952.2, 1958.6, 1965. , 1971.4, 1977.8, 1984.2, 1990.6, 1997. ,\n",
       "       2003.4, 2009.8])"
      ]
     },
     "execution_count": 115,
     "metadata": {},
     "output_type": "execute_result"
    }
   ],
   "source": [
    "dur_centers"
   ]
  },
  {
   "cell_type": "markdown",
   "metadata": {},
   "source": [
    "Finally, create the marks for the bar-plot:"
   ]
  },
  {
   "cell_type": "code",
   "execution_count": 116,
   "metadata": {},
   "outputs": [],
   "source": [
    "duration_hist = bqplot.Bars(x=dur_centers, y=dur, \n",
    "                          scales={'x':x_scl, 'y':y_scl})"
   ]
  },
  {
   "cell_type": "markdown",
   "metadata": {},
   "source": [
    "#4: Now we can finally add some interactivity.  We have to be careful to not try to plot bars when there is no data in our selection."
   ]
  },
  {
   "cell_type": "code",
   "execution_count": 117,
   "metadata": {},
   "outputs": [],
   "source": [
    "def get_data_value(change):\n",
    "    if len(change['owner'].selected) == 1: #only 1 selected\n",
    "        i,j = change['owner'].selected[0]\n",
    "        v = hist2d[i,j] # grab data value\n",
    "        mySelectedLabel.value = 'Total duration in log(sec) = ' + str(v) # set our label\n",
    "        # Histogram:\n",
    "        longs = [long_edges[j], long_edges[j+1]]\n",
    "        lats = [lat_edges[i],lat_edges[i+1]]\n",
    "        region_mask = ( (ufos['latitude'] >= lats[0]) & (ufos['latitude']<=lats[1]) &\\\n",
    "                    (ufos['longitude'] >= longs[0]) & (ufos['longitude']<=longs[1]) )\n",
    "        if len(ufos['year'][region_mask]) > 0: # make sure point exist so no histogram errors!\n",
    "            dur, dur_edges = np.histogram(ufos['year'][region_mask],\n",
    "                                          weights=ufos['duration_seconds'][region_mask],\n",
    "                                          bins=10)\n",
    "            dur_centers = (dur_edges[:-1] + dur_edges[1:]) / 2\n",
    "            duration_hist.x = dur_centers\n",
    "            duration_hist.y = dur\n",
    "\n",
    "# make sure we connect to heatmap     \n",
    "heat_map.observe(get_data_value, 'selected')"
   ]
  },
  {
   "cell_type": "markdown",
   "metadata": {},
   "source": [
    "#5: Put the figures together:"
   ]
  },
  {
   "cell_type": "code",
   "execution_count": 118,
   "metadata": {},
   "outputs": [],
   "source": [
    "fig_heatmap = bqplot.Figure(marks = [heat_map], axes = [c_ax, y_ax, x_ax])\n",
    "fig_dur = bqplot.Figure(marks = [duration_hist], axes = [ax_xcl, ax_ycl])"
   ]
  },
  {
   "cell_type": "code",
   "execution_count": 130,
   "metadata": {},
   "outputs": [
    {
     "data": {
      "application/vnd.jupyter.widget-view+json": {
       "model_id": "56761e5cb23d46a0a84c5b51185a7b7b",
       "version_major": 2,
       "version_minor": 0
      },
      "text/plain": [
       "Figure(axes=[Axis(label='Date', scale=LinearScale(), side='bottom'), Axis(label='Total duration in Sec', orien…"
      ]
     },
     "metadata": {},
     "output_type": "display_data"
    }
   ],
   "source": [
    "fig_dur"
   ]
  },
  {
   "cell_type": "code",
   "execution_count": 119,
   "metadata": {
    "scrolled": true
   },
   "outputs": [
    {
     "data": {
      "application/vnd.jupyter.widget-view+json": {
       "model_id": "8739fb53005f4728b5e04afe6e3e6667",
       "version_major": 2,
       "version_minor": 0
      },
      "text/plain": [
       "VBox(children=(Label(value=''), HBox(children=(Figure(axes=[ColorAxis(orientation='vertical', scale=ColorScale…"
      ]
     },
     "metadata": {},
     "output_type": "display_data"
    }
   ],
   "source": [
    "fig_heatmap.layout.min_width = '500px'\n",
    "fig_dur.layout.min_width = '500px'\n",
    "\n",
    "plots = ipywidgets.HBox([fig_heatmap,fig_dur])\n",
    "myDashboard = ipywidgets.VBox([mySelectedLabel, plots])\n",
    "myDashboard"
   ]
  },
  {
   "cell_type": "code",
   "execution_count": 135,
   "metadata": {},
   "outputs": [
    {
     "data": {
      "application/vnd.jupyter.widget-view+json": {
       "model_id": "d95d4ce595b5482f82e826059cc7e882",
       "version_major": 2,
       "version_minor": 0
      },
      "text/plain": [
       "VBox(children=(Label(value=''), HBox(children=(Figure(axes=[ColorAxis(orientation='vertical', scale=ColorScale…"
      ]
     },
     "metadata": {},
     "output_type": "display_data"
    }
   ],
   "source": [
    "myLabel = ipywidgets.Label()\n",
    "def on_selected(change):\n",
    "    if len(change['owner'].selected) == 1: # only selecting one bin at a time\n",
    "        i,j = change['owner'].selected[0]\n",
    "        v = hist2d[i,j]\n",
    "        myLabel.value = 'Total duration in log10(sec)='+str(v)\n",
    "        # couple of steps to update the scatter plot\n",
    "        long_min = long_edges[j]\n",
    "        long_max = long_edges[j+1]\n",
    "        lat_min = lat_edges[i]\n",
    "        lat_max = lat_edges[i+1]\n",
    "        region_mask = ( (ufos['latitude']>=lat_min) & (ufos['latitude']<=lat_max) & \\\n",
    "              (ufos['longitude']>=long_min) & (ufos['longitude']<=long_max) )\n",
    "        #scatters.x = ufos['date'][region_mask]\n",
    "        #scatters.y = ufos['duration_seconds'][region_mask]\n",
    "        dur, dur_edges = np.histogram(ufos['year'][region_mask], \n",
    "                                      weights=ufos['duration_seconds'][region_mask], bins=10)  \n",
    "        dur_centers = (dur_edges[:-1]+dur_edges[1:])/2 # fancy way to get bin centers for our histogram\n",
    "        hist_dur.x = dur_centers\n",
    "        hist_dur.y = dur\n",
    "\n",
    "# 2. scales\n",
    "col_sc = bqplot.ColorScale(scheme='RdPu', min=np.nanmin(hist2d), max=np.nanmax(hist2d))\n",
    "x_sc = bqplot.LinearScale()\n",
    "y_sc = bqplot.LinearScale()\n",
    "\n",
    "# 3. axis\n",
    "col_ax = bqplot.ColorAxis(scale=col_sc, orientation='vertical', side='right')\n",
    "x_ax = bqplot.Axis(scale=x_sc, label='Longitude')\n",
    "y_ax = bqplot.Axis(scale=y_sc, label='Latitude', orientation='vertical')\n",
    "\n",
    "# 4. marks\n",
    "heat_map = bqplot.GridHeatMap(color=hist2d, \n",
    "                             row=lat_centers, column=long_centers,\n",
    "                             scales={'color':col_sc, 'row':y_sc, 'column':x_sc},\n",
    "                             interactions = {'click':'select'},\n",
    "                             selected_style={'fill':'blue'})\n",
    "\n",
    "# 5. interactivity -- skip for now!\n",
    "heat_map.observe(on_selected,'selected')\n",
    "\n",
    "fig = bqplot.Figure(marks=[heat_map], axes=[col_ax, x_ax, y_ax])\n",
    "#fig\n",
    "#myDashboard = ipywidgets.VBox([myLabel,fig])\n",
    "fig.layout.min_width='500px'\n",
    "fig_dur.layout.min_width='500px'\n",
    "figures = ipywidgets.HBox([fig,fig_dur])\n",
    "myDashboard = ipywidgets.VBox([myLabel,figures])\n",
    "myDashboard"
   ]
  },
  {
   "cell_type": "markdown",
   "metadata": {},
   "source": [
    "So, this is much more reactive than what we had before, while still keeping a lot of the same transfer of information.  Arguably, this is an even *clearer* representation of what we are interested in.\n",
    "\n",
    "Bonus things to think about: \n",
    "* how would you keep the same time range across all plots\n",
    "* how would you plot multiple bar selections on the same set of axis?  How would you highlight that in the heatmap plot?"
   ]
  },
  {
   "cell_type": "markdown",
   "metadata": {},
   "source": [
    "### maybe hint for HW goes here..."
   ]
  },
  {
   "cell_type": "markdown",
   "metadata": {},
   "source": [
    "# This is probably as far as we will get today"
   ]
  },
  {
   "cell_type": "code",
   "execution_count": null,
   "metadata": {},
   "outputs": [],
   "source": []
  },
  {
   "cell_type": "markdown",
   "metadata": {},
   "source": [
    "## Quick homework hint!"
   ]
  },
  {
   "cell_type": "markdown",
   "metadata": {},
   "source": [
    "One thing you might want to try for the homework is a pivot table.  Here is an example dataframe that is similiar in \"shape\" to the homework data:"
   ]
  },
  {
   "cell_type": "code",
   "execution_count": 121,
   "metadata": {},
   "outputs": [
    {
     "data": {
      "text/html": [
       "<div>\n",
       "<style scoped>\n",
       "    .dataframe tbody tr th:only-of-type {\n",
       "        vertical-align: middle;\n",
       "    }\n",
       "\n",
       "    .dataframe tbody tr th {\n",
       "        vertical-align: top;\n",
       "    }\n",
       "\n",
       "    .dataframe thead th {\n",
       "        text-align: right;\n",
       "    }\n",
       "</style>\n",
       "<table border=\"1\" class=\"dataframe\">\n",
       "  <thead>\n",
       "    <tr style=\"text-align: right;\">\n",
       "      <th></th>\n",
       "      <th>A</th>\n",
       "      <th>B</th>\n",
       "      <th>C</th>\n",
       "      <th>D</th>\n",
       "      <th>E</th>\n",
       "    </tr>\n",
       "  </thead>\n",
       "  <tbody>\n",
       "    <tr>\n",
       "      <th>0</th>\n",
       "      <td>foo</td>\n",
       "      <td>one</td>\n",
       "      <td>small</td>\n",
       "      <td>1</td>\n",
       "      <td>2</td>\n",
       "    </tr>\n",
       "    <tr>\n",
       "      <th>1</th>\n",
       "      <td>foo</td>\n",
       "      <td>one</td>\n",
       "      <td>large</td>\n",
       "      <td>2</td>\n",
       "      <td>4</td>\n",
       "    </tr>\n",
       "    <tr>\n",
       "      <th>2</th>\n",
       "      <td>foo</td>\n",
       "      <td>one</td>\n",
       "      <td>large</td>\n",
       "      <td>2</td>\n",
       "      <td>5</td>\n",
       "    </tr>\n",
       "    <tr>\n",
       "      <th>3</th>\n",
       "      <td>foo</td>\n",
       "      <td>two</td>\n",
       "      <td>small</td>\n",
       "      <td>3</td>\n",
       "      <td>5</td>\n",
       "    </tr>\n",
       "    <tr>\n",
       "      <th>4</th>\n",
       "      <td>foo</td>\n",
       "      <td>two</td>\n",
       "      <td>small</td>\n",
       "      <td>3</td>\n",
       "      <td>6</td>\n",
       "    </tr>\n",
       "    <tr>\n",
       "      <th>5</th>\n",
       "      <td>bar</td>\n",
       "      <td>one</td>\n",
       "      <td>large</td>\n",
       "      <td>4</td>\n",
       "      <td>6</td>\n",
       "    </tr>\n",
       "    <tr>\n",
       "      <th>6</th>\n",
       "      <td>bar</td>\n",
       "      <td>one</td>\n",
       "      <td>small</td>\n",
       "      <td>5</td>\n",
       "      <td>8</td>\n",
       "    </tr>\n",
       "    <tr>\n",
       "      <th>7</th>\n",
       "      <td>bar</td>\n",
       "      <td>two</td>\n",
       "      <td>small</td>\n",
       "      <td>6</td>\n",
       "      <td>9</td>\n",
       "    </tr>\n",
       "    <tr>\n",
       "      <th>8</th>\n",
       "      <td>bar</td>\n",
       "      <td>two</td>\n",
       "      <td>large</td>\n",
       "      <td>7</td>\n",
       "      <td>9</td>\n",
       "    </tr>\n",
       "  </tbody>\n",
       "</table>\n",
       "</div>"
      ],
      "text/plain": [
       "     A    B      C  D  E\n",
       "0  foo  one  small  1  2\n",
       "1  foo  one  large  2  4\n",
       "2  foo  one  large  2  5\n",
       "3  foo  two  small  3  5\n",
       "4  foo  two  small  3  6\n",
       "5  bar  one  large  4  6\n",
       "6  bar  one  small  5  8\n",
       "7  bar  two  small  6  9\n",
       "8  bar  two  large  7  9"
      ]
     },
     "execution_count": 121,
     "metadata": {},
     "output_type": "execute_result"
    }
   ],
   "source": [
    "df = pd.DataFrame({\"A\": [\"foo\", \"foo\", \"foo\", \"foo\", \"foo\",\n",
    "                         \"bar\", \"bar\", \"bar\", \"bar\"],\n",
    "                   \"B\": [\"one\", \"one\", \"one\", \"two\", \"two\",\n",
    "                         \"one\", \"one\", \"two\", \"two\"],\n",
    "                   \"C\": [\"small\", \"large\", \"large\", \"small\",\n",
    "                         \"small\", \"large\", \"small\", \"small\",\n",
    "                         \"large\"],\n",
    "                   \"D\": [1, 2, 2, 3, 3, 4, 5, 6, 7],\n",
    "                   \"E\": [2, 4, 5, 5, 6, 6, 8, 9, 9]})\n",
    "df"
   ]
  },
  {
   "cell_type": "markdown",
   "metadata": {},
   "source": [
    "Let's say we want to sum all the values of \"D\" into bins of 'A' and 'C' into a table, we could do this with:"
   ]
  },
  {
   "cell_type": "code",
   "execution_count": 122,
   "metadata": {},
   "outputs": [],
   "source": [
    "table = pd.pivot_table(df, values='D', index=['A'],\n",
    "                    columns=['C'], aggfunc=np.sum, fill_value=0)"
   ]
  },
  {
   "cell_type": "code",
   "execution_count": 123,
   "metadata": {},
   "outputs": [
    {
     "data": {
      "text/html": [
       "<div>\n",
       "<style scoped>\n",
       "    .dataframe tbody tr th:only-of-type {\n",
       "        vertical-align: middle;\n",
       "    }\n",
       "\n",
       "    .dataframe tbody tr th {\n",
       "        vertical-align: top;\n",
       "    }\n",
       "\n",
       "    .dataframe thead th {\n",
       "        text-align: right;\n",
       "    }\n",
       "</style>\n",
       "<table border=\"1\" class=\"dataframe\">\n",
       "  <thead>\n",
       "    <tr style=\"text-align: right;\">\n",
       "      <th>C</th>\n",
       "      <th>large</th>\n",
       "      <th>small</th>\n",
       "    </tr>\n",
       "    <tr>\n",
       "      <th>A</th>\n",
       "      <th></th>\n",
       "      <th></th>\n",
       "    </tr>\n",
       "  </thead>\n",
       "  <tbody>\n",
       "    <tr>\n",
       "      <th>bar</th>\n",
       "      <td>11</td>\n",
       "      <td>11</td>\n",
       "    </tr>\n",
       "    <tr>\n",
       "      <th>foo</th>\n",
       "      <td>4</td>\n",
       "      <td>7</td>\n",
       "    </tr>\n",
       "  </tbody>\n",
       "</table>\n",
       "</div>"
      ],
      "text/plain": [
       "C    large  small\n",
       "A                \n",
       "bar     11     11\n",
       "foo      4      7"
      ]
     },
     "execution_count": 123,
     "metadata": {},
     "output_type": "execute_result"
    }
   ],
   "source": [
    "table"
   ]
  },
  {
   "cell_type": "code",
   "execution_count": null,
   "metadata": {},
   "outputs": [],
   "source": []
  },
  {
   "cell_type": "markdown",
   "metadata": {},
   "source": [
    "How to get the x/y labels for this table?"
   ]
  },
  {
   "cell_type": "code",
   "execution_count": 124,
   "metadata": {},
   "outputs": [
    {
     "data": {
      "text/plain": [
       "array(['bar', 'foo'], dtype='<U3')"
      ]
     },
     "execution_count": 124,
     "metadata": {},
     "output_type": "execute_result"
    }
   ],
   "source": [
    "table.index.values.astype('str')"
   ]
  },
  {
   "cell_type": "code",
   "execution_count": 125,
   "metadata": {},
   "outputs": [
    {
     "data": {
      "text/plain": [
       "array(['large', 'small'], dtype='<U5')"
      ]
     },
     "execution_count": 125,
     "metadata": {},
     "output_type": "execute_result"
    }
   ],
   "source": [
    "table.columns.values.astype('str')"
   ]
  },
  {
   "cell_type": "markdown",
   "metadata": {},
   "source": [
    "## Market Maps with bqplot\n",
    "\n",
    "As we will discuss shortly - maps and their projections can be misleading.  One way around this is to plot data on a \"MarketMap\" format.  `bqplot` has such a mark we can make use of!"
   ]
  },
  {
   "cell_type": "markdown",
   "metadata": {},
   "source": [
    "In theory, we can read this data in with `pandas.read_excel` function.  In practice, it can be very slow, so we'll use the saved CSV linked in today's page.\n",
    "\n",
    "We will look at a dataset about surgeries performed in the United States over one year:"
   ]
  },
  {
   "cell_type": "code",
   "execution_count": 126,
   "metadata": {},
   "outputs": [],
   "source": [
    "# IN THEORY:\n",
    "#!pip install xlrd # JPN, might have to run this\n",
    "\n",
    "# note: this is quering from the web!  How neat is that??\n",
    "#df = pd.read_excel('https://query.data.world/s/ivl45pdpubos6jpsii3djsjwm2pcjv', skiprows=5)\n",
    "# the above might take a while to load all the data"
   ]
  },
  {
   "cell_type": "code",
   "execution_count": 127,
   "metadata": {},
   "outputs": [
    {
     "ename": "FileNotFoundError",
     "evalue": "[Errno 2] No such file or directory: '/Users/jnaiman/Downloads/market_map_data.csv'",
     "output_type": "error",
     "traceback": [
      "\u001b[0;31m---------------------------------------------------------------------------\u001b[0m",
      "\u001b[0;31mFileNotFoundError\u001b[0m                         Traceback (most recent call last)",
      "Cell \u001b[0;32mIn [127], line 1\u001b[0m\n\u001b[0;32m----> 1\u001b[0m df \u001b[38;5;241m=\u001b[39m \u001b[43mpd\u001b[49m\u001b[38;5;241;43m.\u001b[39;49m\u001b[43mread_csv\u001b[49m\u001b[43m(\u001b[49m\u001b[38;5;124;43m'\u001b[39;49m\u001b[38;5;124;43m/Users/jnaiman/Downloads/market_map_data.csv\u001b[39;49m\u001b[38;5;124;43m'\u001b[39;49m\u001b[43m)\u001b[49m\n",
      "File \u001b[0;32m~/opt/anaconda3/envs/DataViz/lib/python3.8/site-packages/pandas/util/_decorators.py:211\u001b[0m, in \u001b[0;36mdeprecate_kwarg.<locals>._deprecate_kwarg.<locals>.wrapper\u001b[0;34m(*args, **kwargs)\u001b[0m\n\u001b[1;32m    209\u001b[0m     \u001b[38;5;28;01melse\u001b[39;00m:\n\u001b[1;32m    210\u001b[0m         kwargs[new_arg_name] \u001b[38;5;241m=\u001b[39m new_arg_value\n\u001b[0;32m--> 211\u001b[0m \u001b[38;5;28;01mreturn\u001b[39;00m \u001b[43mfunc\u001b[49m\u001b[43m(\u001b[49m\u001b[38;5;241;43m*\u001b[39;49m\u001b[43margs\u001b[49m\u001b[43m,\u001b[49m\u001b[43m \u001b[49m\u001b[38;5;241;43m*\u001b[39;49m\u001b[38;5;241;43m*\u001b[39;49m\u001b[43mkwargs\u001b[49m\u001b[43m)\u001b[49m\n",
      "File \u001b[0;32m~/opt/anaconda3/envs/DataViz/lib/python3.8/site-packages/pandas/util/_decorators.py:317\u001b[0m, in \u001b[0;36mdeprecate_nonkeyword_arguments.<locals>.decorate.<locals>.wrapper\u001b[0;34m(*args, **kwargs)\u001b[0m\n\u001b[1;32m    311\u001b[0m \u001b[38;5;28;01mif\u001b[39;00m \u001b[38;5;28mlen\u001b[39m(args) \u001b[38;5;241m>\u001b[39m num_allow_args:\n\u001b[1;32m    312\u001b[0m     warnings\u001b[38;5;241m.\u001b[39mwarn(\n\u001b[1;32m    313\u001b[0m         msg\u001b[38;5;241m.\u001b[39mformat(arguments\u001b[38;5;241m=\u001b[39marguments),\n\u001b[1;32m    314\u001b[0m         \u001b[38;5;167;01mFutureWarning\u001b[39;00m,\n\u001b[1;32m    315\u001b[0m         stacklevel\u001b[38;5;241m=\u001b[39mfind_stack_level(inspect\u001b[38;5;241m.\u001b[39mcurrentframe()),\n\u001b[1;32m    316\u001b[0m     )\n\u001b[0;32m--> 317\u001b[0m \u001b[38;5;28;01mreturn\u001b[39;00m \u001b[43mfunc\u001b[49m\u001b[43m(\u001b[49m\u001b[38;5;241;43m*\u001b[39;49m\u001b[43margs\u001b[49m\u001b[43m,\u001b[49m\u001b[43m \u001b[49m\u001b[38;5;241;43m*\u001b[39;49m\u001b[38;5;241;43m*\u001b[39;49m\u001b[43mkwargs\u001b[49m\u001b[43m)\u001b[49m\n",
      "File \u001b[0;32m~/opt/anaconda3/envs/DataViz/lib/python3.8/site-packages/pandas/io/parsers/readers.py:950\u001b[0m, in \u001b[0;36mread_csv\u001b[0;34m(filepath_or_buffer, sep, delimiter, header, names, index_col, usecols, squeeze, prefix, mangle_dupe_cols, dtype, engine, converters, true_values, false_values, skipinitialspace, skiprows, skipfooter, nrows, na_values, keep_default_na, na_filter, verbose, skip_blank_lines, parse_dates, infer_datetime_format, keep_date_col, date_parser, dayfirst, cache_dates, iterator, chunksize, compression, thousands, decimal, lineterminator, quotechar, quoting, doublequote, escapechar, comment, encoding, encoding_errors, dialect, error_bad_lines, warn_bad_lines, on_bad_lines, delim_whitespace, low_memory, memory_map, float_precision, storage_options)\u001b[0m\n\u001b[1;32m    935\u001b[0m kwds_defaults \u001b[38;5;241m=\u001b[39m _refine_defaults_read(\n\u001b[1;32m    936\u001b[0m     dialect,\n\u001b[1;32m    937\u001b[0m     delimiter,\n\u001b[0;32m   (...)\u001b[0m\n\u001b[1;32m    946\u001b[0m     defaults\u001b[38;5;241m=\u001b[39m{\u001b[38;5;124m\"\u001b[39m\u001b[38;5;124mdelimiter\u001b[39m\u001b[38;5;124m\"\u001b[39m: \u001b[38;5;124m\"\u001b[39m\u001b[38;5;124m,\u001b[39m\u001b[38;5;124m\"\u001b[39m},\n\u001b[1;32m    947\u001b[0m )\n\u001b[1;32m    948\u001b[0m kwds\u001b[38;5;241m.\u001b[39mupdate(kwds_defaults)\n\u001b[0;32m--> 950\u001b[0m \u001b[38;5;28;01mreturn\u001b[39;00m \u001b[43m_read\u001b[49m\u001b[43m(\u001b[49m\u001b[43mfilepath_or_buffer\u001b[49m\u001b[43m,\u001b[49m\u001b[43m \u001b[49m\u001b[43mkwds\u001b[49m\u001b[43m)\u001b[49m\n",
      "File \u001b[0;32m~/opt/anaconda3/envs/DataViz/lib/python3.8/site-packages/pandas/io/parsers/readers.py:605\u001b[0m, in \u001b[0;36m_read\u001b[0;34m(filepath_or_buffer, kwds)\u001b[0m\n\u001b[1;32m    602\u001b[0m _validate_names(kwds\u001b[38;5;241m.\u001b[39mget(\u001b[38;5;124m\"\u001b[39m\u001b[38;5;124mnames\u001b[39m\u001b[38;5;124m\"\u001b[39m, \u001b[38;5;28;01mNone\u001b[39;00m))\n\u001b[1;32m    604\u001b[0m \u001b[38;5;66;03m# Create the parser.\u001b[39;00m\n\u001b[0;32m--> 605\u001b[0m parser \u001b[38;5;241m=\u001b[39m \u001b[43mTextFileReader\u001b[49m\u001b[43m(\u001b[49m\u001b[43mfilepath_or_buffer\u001b[49m\u001b[43m,\u001b[49m\u001b[43m \u001b[49m\u001b[38;5;241;43m*\u001b[39;49m\u001b[38;5;241;43m*\u001b[39;49m\u001b[43mkwds\u001b[49m\u001b[43m)\u001b[49m\n\u001b[1;32m    607\u001b[0m \u001b[38;5;28;01mif\u001b[39;00m chunksize \u001b[38;5;129;01mor\u001b[39;00m iterator:\n\u001b[1;32m    608\u001b[0m     \u001b[38;5;28;01mreturn\u001b[39;00m parser\n",
      "File \u001b[0;32m~/opt/anaconda3/envs/DataViz/lib/python3.8/site-packages/pandas/io/parsers/readers.py:1442\u001b[0m, in \u001b[0;36mTextFileReader.__init__\u001b[0;34m(self, f, engine, **kwds)\u001b[0m\n\u001b[1;32m   1439\u001b[0m     \u001b[38;5;28mself\u001b[39m\u001b[38;5;241m.\u001b[39moptions[\u001b[38;5;124m\"\u001b[39m\u001b[38;5;124mhas_index_names\u001b[39m\u001b[38;5;124m\"\u001b[39m] \u001b[38;5;241m=\u001b[39m kwds[\u001b[38;5;124m\"\u001b[39m\u001b[38;5;124mhas_index_names\u001b[39m\u001b[38;5;124m\"\u001b[39m]\n\u001b[1;32m   1441\u001b[0m \u001b[38;5;28mself\u001b[39m\u001b[38;5;241m.\u001b[39mhandles: IOHandles \u001b[38;5;241m|\u001b[39m \u001b[38;5;28;01mNone\u001b[39;00m \u001b[38;5;241m=\u001b[39m \u001b[38;5;28;01mNone\u001b[39;00m\n\u001b[0;32m-> 1442\u001b[0m \u001b[38;5;28mself\u001b[39m\u001b[38;5;241m.\u001b[39m_engine \u001b[38;5;241m=\u001b[39m \u001b[38;5;28;43mself\u001b[39;49m\u001b[38;5;241;43m.\u001b[39;49m\u001b[43m_make_engine\u001b[49m\u001b[43m(\u001b[49m\u001b[43mf\u001b[49m\u001b[43m,\u001b[49m\u001b[43m \u001b[49m\u001b[38;5;28;43mself\u001b[39;49m\u001b[38;5;241;43m.\u001b[39;49m\u001b[43mengine\u001b[49m\u001b[43m)\u001b[49m\n",
      "File \u001b[0;32m~/opt/anaconda3/envs/DataViz/lib/python3.8/site-packages/pandas/io/parsers/readers.py:1729\u001b[0m, in \u001b[0;36mTextFileReader._make_engine\u001b[0;34m(self, f, engine)\u001b[0m\n\u001b[1;32m   1727\u001b[0m     is_text \u001b[38;5;241m=\u001b[39m \u001b[38;5;28;01mFalse\u001b[39;00m\n\u001b[1;32m   1728\u001b[0m     mode \u001b[38;5;241m=\u001b[39m \u001b[38;5;124m\"\u001b[39m\u001b[38;5;124mrb\u001b[39m\u001b[38;5;124m\"\u001b[39m\n\u001b[0;32m-> 1729\u001b[0m \u001b[38;5;28mself\u001b[39m\u001b[38;5;241m.\u001b[39mhandles \u001b[38;5;241m=\u001b[39m \u001b[43mget_handle\u001b[49m\u001b[43m(\u001b[49m\n\u001b[1;32m   1730\u001b[0m \u001b[43m    \u001b[49m\u001b[43mf\u001b[49m\u001b[43m,\u001b[49m\n\u001b[1;32m   1731\u001b[0m \u001b[43m    \u001b[49m\u001b[43mmode\u001b[49m\u001b[43m,\u001b[49m\n\u001b[1;32m   1732\u001b[0m \u001b[43m    \u001b[49m\u001b[43mencoding\u001b[49m\u001b[38;5;241;43m=\u001b[39;49m\u001b[38;5;28;43mself\u001b[39;49m\u001b[38;5;241;43m.\u001b[39;49m\u001b[43moptions\u001b[49m\u001b[38;5;241;43m.\u001b[39;49m\u001b[43mget\u001b[49m\u001b[43m(\u001b[49m\u001b[38;5;124;43m\"\u001b[39;49m\u001b[38;5;124;43mencoding\u001b[39;49m\u001b[38;5;124;43m\"\u001b[39;49m\u001b[43m,\u001b[49m\u001b[43m \u001b[49m\u001b[38;5;28;43;01mNone\u001b[39;49;00m\u001b[43m)\u001b[49m\u001b[43m,\u001b[49m\n\u001b[1;32m   1733\u001b[0m \u001b[43m    \u001b[49m\u001b[43mcompression\u001b[49m\u001b[38;5;241;43m=\u001b[39;49m\u001b[38;5;28;43mself\u001b[39;49m\u001b[38;5;241;43m.\u001b[39;49m\u001b[43moptions\u001b[49m\u001b[38;5;241;43m.\u001b[39;49m\u001b[43mget\u001b[49m\u001b[43m(\u001b[49m\u001b[38;5;124;43m\"\u001b[39;49m\u001b[38;5;124;43mcompression\u001b[39;49m\u001b[38;5;124;43m\"\u001b[39;49m\u001b[43m,\u001b[49m\u001b[43m \u001b[49m\u001b[38;5;28;43;01mNone\u001b[39;49;00m\u001b[43m)\u001b[49m\u001b[43m,\u001b[49m\n\u001b[1;32m   1734\u001b[0m \u001b[43m    \u001b[49m\u001b[43mmemory_map\u001b[49m\u001b[38;5;241;43m=\u001b[39;49m\u001b[38;5;28;43mself\u001b[39;49m\u001b[38;5;241;43m.\u001b[39;49m\u001b[43moptions\u001b[49m\u001b[38;5;241;43m.\u001b[39;49m\u001b[43mget\u001b[49m\u001b[43m(\u001b[49m\u001b[38;5;124;43m\"\u001b[39;49m\u001b[38;5;124;43mmemory_map\u001b[39;49m\u001b[38;5;124;43m\"\u001b[39;49m\u001b[43m,\u001b[49m\u001b[43m \u001b[49m\u001b[38;5;28;43;01mFalse\u001b[39;49;00m\u001b[43m)\u001b[49m\u001b[43m,\u001b[49m\n\u001b[1;32m   1735\u001b[0m \u001b[43m    \u001b[49m\u001b[43mis_text\u001b[49m\u001b[38;5;241;43m=\u001b[39;49m\u001b[43mis_text\u001b[49m\u001b[43m,\u001b[49m\n\u001b[1;32m   1736\u001b[0m \u001b[43m    \u001b[49m\u001b[43merrors\u001b[49m\u001b[38;5;241;43m=\u001b[39;49m\u001b[38;5;28;43mself\u001b[39;49m\u001b[38;5;241;43m.\u001b[39;49m\u001b[43moptions\u001b[49m\u001b[38;5;241;43m.\u001b[39;49m\u001b[43mget\u001b[49m\u001b[43m(\u001b[49m\u001b[38;5;124;43m\"\u001b[39;49m\u001b[38;5;124;43mencoding_errors\u001b[39;49m\u001b[38;5;124;43m\"\u001b[39;49m\u001b[43m,\u001b[49m\u001b[43m \u001b[49m\u001b[38;5;124;43m\"\u001b[39;49m\u001b[38;5;124;43mstrict\u001b[39;49m\u001b[38;5;124;43m\"\u001b[39;49m\u001b[43m)\u001b[49m\u001b[43m,\u001b[49m\n\u001b[1;32m   1737\u001b[0m \u001b[43m    \u001b[49m\u001b[43mstorage_options\u001b[49m\u001b[38;5;241;43m=\u001b[39;49m\u001b[38;5;28;43mself\u001b[39;49m\u001b[38;5;241;43m.\u001b[39;49m\u001b[43moptions\u001b[49m\u001b[38;5;241;43m.\u001b[39;49m\u001b[43mget\u001b[49m\u001b[43m(\u001b[49m\u001b[38;5;124;43m\"\u001b[39;49m\u001b[38;5;124;43mstorage_options\u001b[39;49m\u001b[38;5;124;43m\"\u001b[39;49m\u001b[43m,\u001b[49m\u001b[43m \u001b[49m\u001b[38;5;28;43;01mNone\u001b[39;49;00m\u001b[43m)\u001b[49m\u001b[43m,\u001b[49m\n\u001b[1;32m   1738\u001b[0m \u001b[43m\u001b[49m\u001b[43m)\u001b[49m\n\u001b[1;32m   1739\u001b[0m \u001b[38;5;28;01massert\u001b[39;00m \u001b[38;5;28mself\u001b[39m\u001b[38;5;241m.\u001b[39mhandles \u001b[38;5;129;01mis\u001b[39;00m \u001b[38;5;129;01mnot\u001b[39;00m \u001b[38;5;28;01mNone\u001b[39;00m\n\u001b[1;32m   1740\u001b[0m f \u001b[38;5;241m=\u001b[39m \u001b[38;5;28mself\u001b[39m\u001b[38;5;241m.\u001b[39mhandles\u001b[38;5;241m.\u001b[39mhandle\n",
      "File \u001b[0;32m~/opt/anaconda3/envs/DataViz/lib/python3.8/site-packages/pandas/io/common.py:857\u001b[0m, in \u001b[0;36mget_handle\u001b[0;34m(path_or_buf, mode, encoding, compression, memory_map, is_text, errors, storage_options)\u001b[0m\n\u001b[1;32m    852\u001b[0m \u001b[38;5;28;01melif\u001b[39;00m \u001b[38;5;28misinstance\u001b[39m(handle, \u001b[38;5;28mstr\u001b[39m):\n\u001b[1;32m    853\u001b[0m     \u001b[38;5;66;03m# Check whether the filename is to be opened in binary mode.\u001b[39;00m\n\u001b[1;32m    854\u001b[0m     \u001b[38;5;66;03m# Binary mode does not support 'encoding' and 'newline'.\u001b[39;00m\n\u001b[1;32m    855\u001b[0m     \u001b[38;5;28;01mif\u001b[39;00m ioargs\u001b[38;5;241m.\u001b[39mencoding \u001b[38;5;129;01mand\u001b[39;00m \u001b[38;5;124m\"\u001b[39m\u001b[38;5;124mb\u001b[39m\u001b[38;5;124m\"\u001b[39m \u001b[38;5;129;01mnot\u001b[39;00m \u001b[38;5;129;01min\u001b[39;00m ioargs\u001b[38;5;241m.\u001b[39mmode:\n\u001b[1;32m    856\u001b[0m         \u001b[38;5;66;03m# Encoding\u001b[39;00m\n\u001b[0;32m--> 857\u001b[0m         handle \u001b[38;5;241m=\u001b[39m \u001b[38;5;28;43mopen\u001b[39;49m\u001b[43m(\u001b[49m\n\u001b[1;32m    858\u001b[0m \u001b[43m            \u001b[49m\u001b[43mhandle\u001b[49m\u001b[43m,\u001b[49m\n\u001b[1;32m    859\u001b[0m \u001b[43m            \u001b[49m\u001b[43mioargs\u001b[49m\u001b[38;5;241;43m.\u001b[39;49m\u001b[43mmode\u001b[49m\u001b[43m,\u001b[49m\n\u001b[1;32m    860\u001b[0m \u001b[43m            \u001b[49m\u001b[43mencoding\u001b[49m\u001b[38;5;241;43m=\u001b[39;49m\u001b[43mioargs\u001b[49m\u001b[38;5;241;43m.\u001b[39;49m\u001b[43mencoding\u001b[49m\u001b[43m,\u001b[49m\n\u001b[1;32m    861\u001b[0m \u001b[43m            \u001b[49m\u001b[43merrors\u001b[49m\u001b[38;5;241;43m=\u001b[39;49m\u001b[43merrors\u001b[49m\u001b[43m,\u001b[49m\n\u001b[1;32m    862\u001b[0m \u001b[43m            \u001b[49m\u001b[43mnewline\u001b[49m\u001b[38;5;241;43m=\u001b[39;49m\u001b[38;5;124;43m\"\u001b[39;49m\u001b[38;5;124;43m\"\u001b[39;49m\u001b[43m,\u001b[49m\n\u001b[1;32m    863\u001b[0m \u001b[43m        \u001b[49m\u001b[43m)\u001b[49m\n\u001b[1;32m    864\u001b[0m     \u001b[38;5;28;01melse\u001b[39;00m:\n\u001b[1;32m    865\u001b[0m         \u001b[38;5;66;03m# Binary mode\u001b[39;00m\n\u001b[1;32m    866\u001b[0m         handle \u001b[38;5;241m=\u001b[39m \u001b[38;5;28mopen\u001b[39m(handle, ioargs\u001b[38;5;241m.\u001b[39mmode)\n",
      "\u001b[0;31mFileNotFoundError\u001b[0m: [Errno 2] No such file or directory: '/Users/jnaiman/Downloads/market_map_data.csv'"
     ]
    }
   ],
   "source": [
    "df = pd.read_csv('/Users/jnaiman/Downloads/market_map_data.csv')"
   ]
  },
  {
   "cell_type": "markdown",
   "metadata": {},
   "source": [
    "Let's take a look at the top of this dataset:"
   ]
  },
  {
   "cell_type": "code",
   "execution_count": null,
   "metadata": {},
   "outputs": [],
   "source": [
    "df.head()"
   ]
  },
  {
   "cell_type": "markdown",
   "metadata": {},
   "source": [
    "Let's also use some useful pandas functions, for example we can check what types of data we are dealing with:"
   ]
  },
  {
   "cell_type": "code",
   "execution_count": null,
   "metadata": {},
   "outputs": [],
   "source": [
    "df.dtypes"
   ]
  },
  {
   "cell_type": "markdown",
   "metadata": {},
   "source": [
    "Let's also look at some summary data, recall that while this will calculate the summary stats for all numerical columns, it won't always make sense:"
   ]
  },
  {
   "cell_type": "code",
   "execution_count": null,
   "metadata": {},
   "outputs": [],
   "source": [
    "df.describe()"
   ]
  },
  {
   "cell_type": "markdown",
   "metadata": {},
   "source": [
    "For example, things like the \"mean zipcode\" are meaningless numbers."
   ]
  },
  {
   "cell_type": "markdown",
   "metadata": {},
   "source": [
    "Let's explore our data further: for example, lets look at how many separate types of surgery are represented in this dataset:"
   ]
  },
  {
   "cell_type": "code",
   "execution_count": null,
   "metadata": {},
   "outputs": [],
   "source": [
    "df[\"DRG Definition\"].unique().size"
   ]
  },
  {
   "cell_type": "markdown",
   "metadata": {},
   "source": [
    "What about unique hospital (provider) names?"
   ]
  },
  {
   "cell_type": "code",
   "execution_count": null,
   "metadata": {},
   "outputs": [],
   "source": [
    "df[\"Provider Name\"].unique().size"
   ]
  },
  {
   "cell_type": "markdown",
   "metadata": {},
   "source": [
    "How many states are represented?"
   ]
  },
  {
   "cell_type": "code",
   "execution_count": null,
   "metadata": {},
   "outputs": [],
   "source": [
    "df[\"Provider State\"].unique().size"
   ]
  },
  {
   "cell_type": "markdown",
   "metadata": {},
   "source": [
    "How are these states coded?"
   ]
  },
  {
   "cell_type": "code",
   "execution_count": null,
   "metadata": {},
   "outputs": [],
   "source": [
    "df[\"Provider State\"].unique()"
   ]
  },
  {
   "cell_type": "markdown",
   "metadata": {},
   "source": [
    "Lets figure out  what the most common surgeries are via how many many folks are discharged after each type of surgery:"
   ]
  },
  {
   "cell_type": "code",
   "execution_count": null,
   "metadata": {},
   "outputs": [],
   "source": [
    "most_common = df.groupby(\"DRG Definition\")[\"Total Discharges\"].sum()\n",
    "most_common"
   ]
  },
  {
   "cell_type": "markdown",
   "metadata": {},
   "source": [
    "... but lets sort by the largest on top:"
   ]
  },
  {
   "cell_type": "code",
   "execution_count": null,
   "metadata": {},
   "outputs": [],
   "source": [
    "most_common = df.groupby(\"DRG Definition\")[\"Total Discharges\"].sum().sort_values(ascending=False)\n",
    "most_common"
   ]
  },
  {
   "cell_type": "markdown",
   "metadata": {},
   "source": [
    "Lets look at only the top 5, for fun:"
   ]
  },
  {
   "cell_type": "code",
   "execution_count": null,
   "metadata": {},
   "outputs": [],
   "source": [
    "most_common[:5]"
   ]
  },
  {
   "cell_type": "markdown",
   "metadata": {},
   "source": [
    "... or we can only look at the names of the top 5:"
   ]
  },
  {
   "cell_type": "code",
   "execution_count": null,
   "metadata": {},
   "outputs": [],
   "source": [
    "most_common[:5].index.values"
   ]
  },
  {
   "cell_type": "markdown",
   "metadata": {},
   "source": [
    "### Cleaning the dataset for the MarketMap plot\n",
    "\n",
    "Here we are going to practice doing some fancy things to clean this data.  This will be good practice for when you run into other datasets \"in the wild\":"
   ]
  },
  {
   "cell_type": "markdown",
   "metadata": {},
   "source": [
    "Let's first create a little table of total discharges for each type of surgery & state:"
   ]
  },
  {
   "cell_type": "code",
   "execution_count": null,
   "metadata": {},
   "outputs": [],
   "source": [
    "total_discharges = df.groupby([\"DRG Definition\", \"Provider State\"])[\"Total Discharges\"].sum()\n",
    "total_discharges"
   ]
  },
  {
   "cell_type": "markdown",
   "metadata": {},
   "source": [
    "The above is not intuative, lets prettify it:"
   ]
  },
  {
   "cell_type": "code",
   "execution_count": null,
   "metadata": {},
   "outputs": [],
   "source": [
    "total_discharges = df.groupby([\"DRG Definition\", \"Provider State\"])[\"Total Discharges\"].sum().unstack()\n",
    "total_discharges # note we went from a list back into rows/columns"
   ]
  },
  {
   "cell_type": "markdown",
   "metadata": {},
   "source": [
    "#### Aside: lets quick check out what are the most frequent surgeries"
   ]
  },
  {
   "cell_type": "code",
   "execution_count": null,
   "metadata": {},
   "outputs": [],
   "source": [
    "# for our map, we are going to want to \n",
    "# normalize the discharges or each surgery \n",
    "# for each \n",
    "# state by the total discharges across all \n",
    "# states for a particular type of surger\n",
    "#  lets add this to our total_discharges DF\n",
    "total_discharges[\"Total\"] = total_discharges.sum(axis = 1)\n",
    "total_discharges[\"Total\"].head() # just look at the first few"
   ]
  },
  {
   "cell_type": "code",
   "execution_count": null,
   "metadata": {},
   "outputs": [],
   "source": [
    "# finally, lets check out the most often\n",
    "#  performed surgery across all states\n",
    "\n",
    "# we can do this by sorting our DF by this total we just\n",
    "# calculated:\n",
    "total_discharges.sort_values(by = \"Total\", \n",
    "                             ascending=False, \n",
    "                             inplace = True)\n",
    "\n",
    "# now lets just look at the first few of our \n",
    "#  sorted array\n",
    "total_discharges.head()\n",
    "\n",
    "# so, from this we see that joint replacement\n",
    "#  or reattachment of a lower extremeity is \n",
    "#  the most likely surgery (in number of discharges)\n",
    "# followed by surgeries for sepsis and then heart failure"
   ]
  },
  {
   "cell_type": "code",
   "execution_count": null,
   "metadata": {},
   "outputs": [],
   "source": [
    "# neat.  We won't need these for plotting, so we can remove our\n",
    "# total column we just calculated\n",
    "del total_discharges[\"Total\"]\n",
    "total_discharges.head()\n",
    "# now we see that we are back to just states & surgeries\n",
    "#  *but* our sorting is still by the total that we \n",
    "# previously calculated.\n",
    "# spiffy!"
   ]
  },
  {
   "cell_type": "markdown",
   "metadata": {},
   "source": [
    "#### End aside!"
   ]
  },
  {
   "cell_type": "markdown",
   "metadata": {},
   "source": [
    "Now, we have to explicitly import market map, for example if we try:"
   ]
  },
  {
   "cell_type": "code",
   "execution_count": null,
   "metadata": {},
   "outputs": [],
   "source": [
    "bqplot.market_map"
   ]
  },
  {
   "cell_type": "markdown",
   "metadata": {},
   "source": [
    "We get an error.  By default bqplot does not import all packages, we have to explicitely import market_map:"
   ]
  },
  {
   "cell_type": "code",
   "execution_count": null,
   "metadata": {},
   "outputs": [],
   "source": [
    "import bqplot.market_map # for access to market_map"
   ]
  },
  {
   "cell_type": "markdown",
   "metadata": {},
   "source": [
    "Now we'll do our usual `bqplot` thing with scales, axes and marks, but with our new `market_map` mark:"
   ]
  },
  {
   "cell_type": "code",
   "execution_count": null,
   "metadata": {},
   "outputs": [],
   "source": [
    "# (1) scales\n",
    "x_sc, y_sc = bqplot.OrdinalScale(), bqplot.OrdinalScale() # note, just a different way to call things in Python\n",
    "c_sc = bqplot.ColorScale(scheme=\"Blues\")"
   ]
  },
  {
   "cell_type": "markdown",
   "metadata": {},
   "source": [
    "We only need a color axis:"
   ]
  },
  {
   "cell_type": "code",
   "execution_count": null,
   "metadata": {},
   "outputs": [],
   "source": [
    "c_ax = bqplot.ColorAxis(scale = c_sc, orientation = 'vertical')"
   ]
  },
  {
   "cell_type": "markdown",
   "metadata": {},
   "source": [
    "What should we plot in color?  Let's take a look at the total discharges for the most popular surgical procedure (the 0th index):"
   ]
  },
  {
   "cell_type": "code",
   "execution_count": null,
   "metadata": {},
   "outputs": [],
   "source": [
    "total_discharges.iloc[0].values, total_discharges.columns.values"
   ]
  },
  {
   "cell_type": "code",
   "execution_count": null,
   "metadata": {},
   "outputs": [],
   "source": [
    "total_discharges.iloc[0].name # most popular surgery"
   ]
  },
  {
   "cell_type": "code",
   "execution_count": null,
   "metadata": {},
   "outputs": [],
   "source": [
    "total_discharges.iloc[1].name, total_discharges.iloc[1].values # the 2nd most popular"
   ]
  },
  {
   "cell_type": "markdown",
   "metadata": {},
   "source": [
    "Let's use MarketMap to plot the most popular surgery number by state:"
   ]
  },
  {
   "cell_type": "code",
   "execution_count": null,
   "metadata": {},
   "outputs": [],
   "source": [
    "# (3) Marks... & fig?\n",
    "mmap = bqplot.market_map.MarketMap(color = total_discharges.iloc[0].values, \n",
    "                                  names = total_discharges.columns.values,\n",
    "                                  scales={'color':c_sc}, \n",
    "                                   axes=[c_ax])"
   ]
  },
  {
   "cell_type": "markdown",
   "metadata": {},
   "source": [
    "Let's show our map:"
   ]
  },
  {
   "cell_type": "code",
   "execution_count": null,
   "metadata": {},
   "outputs": [],
   "source": [
    "mmap"
   ]
  },
  {
   "cell_type": "markdown",
   "metadata": {},
   "source": [
    "A few things to note: you'll see that I didn't do the last process of making a figure!  This is because MarketMap is a special kind of `bqplot` that makes its own self contained figure."
   ]
  },
  {
   "cell_type": "markdown",
   "metadata": {},
   "source": [
    "Ok, so far so good, but again, we don't have any interactivity!  Let's add some:"
   ]
  },
  {
   "cell_type": "code",
   "execution_count": null,
   "metadata": {},
   "outputs": [],
   "source": [
    "# (1) scales\n",
    "x_sc, y_sc = bqplot.OrdinalScale(), bqplot.OrdinalScale() # note, just a different way to call things in Python\n",
    "c_sc = bqplot.ColorScale(scheme=\"Blues\")\n",
    "# (2) axes\n",
    "c_ax = bqplot.ColorAxis(scale = c_sc, orientation = 'vertical')\n",
    "\n",
    "# (3/5) Marks/fig\n",
    "mmap = bqplot.market_map.MarketMap(color = total_discharges.iloc[0].values, \n",
    "                                  names = total_discharges.columns.values,\n",
    "                                  scales={'color':c_sc}, \n",
    "                                   axes=[c_ax])\n",
    "\n",
    "# (4) interactivity\n",
    "def show_data(change):\n",
    "    print(change)\n",
    "    \n",
    "mmap.observe(show_data, 'selected')\n",
    "\n",
    "mmap"
   ]
  },
  {
   "cell_type": "markdown",
   "metadata": {},
   "source": [
    "So we see while this is a new kind of `bqplot` object, it has all the \"changes\" we've become accustomed to.  \n",
    "\n",
    "Let's build up our interactivity:"
   ]
  },
  {
   "cell_type": "code",
   "execution_count": null,
   "metadata": {},
   "outputs": [],
   "source": [
    "# (1) scales\n",
    "x_sc, y_sc = bqplot.OrdinalScale(), bqplot.OrdinalScale() # note, just a different way to call things in Python\n",
    "c_sc = bqplot.ColorScale(scheme=\"Blues\")\n",
    "# (2) axes\n",
    "c_ax = bqplot.ColorAxis(scale = c_sc, orientation = 'vertical')\n",
    "\n",
    "# (3/5) Marks/fig\n",
    "mmap = bqplot.market_map.MarketMap(color = total_discharges.iloc[0].values, \n",
    "                                  names = total_discharges.columns.values,\n",
    "                                  scales={'color':c_sc}, \n",
    "                                   axes=[c_ax])\n",
    "\n",
    "# (4) interactivity\n",
    "def show_data(change):\n",
    "    print(change['owner'].selected)\n",
    "    \n",
    "mmap.observe(show_data, 'selected')\n",
    "\n",
    "mmap"
   ]
  },
  {
   "cell_type": "markdown",
   "metadata": {},
   "source": [
    "One thing we might want to do is sum up all of the discharges for all of the states selected.  How do we map states and names?  Let's print out a few more things:"
   ]
  },
  {
   "cell_type": "code",
   "execution_count": null,
   "metadata": {},
   "outputs": [],
   "source": [
    "# (1) scales\n",
    "x_sc, y_sc = bqplot.OrdinalScale(), bqplot.OrdinalScale() # note, just a different way to call things in Python\n",
    "c_sc = bqplot.ColorScale(scheme=\"Blues\")\n",
    "# (2) axes\n",
    "c_ax = bqplot.ColorAxis(scale = c_sc, orientation = 'vertical')\n",
    "\n",
    "# (3/5) Marks/fig\n",
    "mmap = bqplot.market_map.MarketMap(color = total_discharges.iloc[0].values, \n",
    "                                  names = total_discharges.columns.values,\n",
    "                                  scales={'color':c_sc}, \n",
    "                                   axes=[c_ax])\n",
    "\n",
    "# (4) interactivity\n",
    "def show_data(change):\n",
    "    print(change['owner'].selected)\n",
    "    print(change['owner'].color)\n",
    "    print(change['owner'].names)\n",
    "    \n",
    "mmap.observe(show_data, 'selected')\n",
    "\n",
    "mmap"
   ]
  },
  {
   "cell_type": "markdown",
   "metadata": {},
   "source": [
    "From the above we see we get the entire list of names *and* total discharges each time we click!  So we can use these:"
   ]
  },
  {
   "cell_type": "code",
   "execution_count": null,
   "metadata": {},
   "outputs": [],
   "source": [
    "# (1) scales\n",
    "x_sc, y_sc = bqplot.OrdinalScale(), bqplot.OrdinalScale() # note, just a different way to call things in Python\n",
    "c_sc = bqplot.ColorScale(scheme=\"Blues\")\n",
    "# (2) axes\n",
    "c_ax = bqplot.ColorAxis(scale = c_sc, orientation = 'vertical')\n",
    "\n",
    "# (3/5) Marks/fig\n",
    "mmap = bqplot.market_map.MarketMap(color = total_discharges.iloc[0].values, \n",
    "                                  names = total_discharges.columns.values,\n",
    "                                  scales={'color':c_sc}, \n",
    "                                   axes=[c_ax])\n",
    "\n",
    "# (4) interactivity\n",
    "myLabel = ipywidgets.Label() # show total number of discharges\n",
    "def show_data(change):\n",
    "    v = 0 # sum up discharges\n",
    "    for s in change['owner'].selected: # for all selected states\n",
    "        #print(s)\n",
    "        discharges_in_state = change['owner'].color[change['owner'].names == s] # color map value for this state\n",
    "        v += discharges_in_state # add it up\n",
    "    myLabel.value = 'Summed discharges for ' + total_discharges.iloc[0].name + ' = ' + str(int(v))\n",
    "    # the middle part just reminds us what name we are using\n",
    "    \n",
    "mmap.observe(show_data, 'selected')\n",
    "\n",
    "myDashboard = ipywidgets.VBox([myLabel, mmap])\n",
    "myDashboard"
   ]
  },
  {
   "cell_type": "markdown",
   "metadata": {},
   "source": [
    "So, MarketMap is a nice way to display map values without having to deal with any projection stuff."
   ]
  },
  {
   "cell_type": "code",
   "execution_count": null,
   "metadata": {},
   "outputs": [],
   "source": []
  }
 ],
 "metadata": {
  "kernelspec": {
   "display_name": "Python 3 (ipykernel)",
   "language": "python",
   "name": "python3"
  },
  "language_info": {
   "codemirror_mode": {
    "name": "ipython",
    "version": 3
   },
   "file_extension": ".py",
   "mimetype": "text/x-python",
   "name": "python",
   "nbconvert_exporter": "python",
   "pygments_lexer": "ipython3",
   "version": "3.8.13"
  }
 },
 "nbformat": 4,
 "nbformat_minor": 4
}
