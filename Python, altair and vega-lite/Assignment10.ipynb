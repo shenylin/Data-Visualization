{
 "cells": [
  {
   "cell_type": "markdown",
   "id": "respective-store",
   "metadata": {},
   "source": [
    "# Assignment 10"
   ]
  },
  {
   "cell_type": "markdown",
   "id": "78f9b131",
   "metadata": {},
   "source": [
    "## Homework 10 group 23\n",
    "Dhruvi Bhagat,  Powell Hung, Shao-Ren Chen, Sheny Lin"
   ]
  },
  {
   "cell_type": "code",
   "execution_count": 1,
   "id": "26065fe0",
   "metadata": {},
   "outputs": [],
   "source": [
    "import altair as alt"
   ]
  },
  {
   "cell_type": "markdown",
   "id": "219e6e53",
   "metadata": {},
   "source": [
    "## Visualization 1: Histogram"
   ]
  },
  {
   "cell_type": "code",
   "execution_count": 2,
   "id": "e56dcf5f",
   "metadata": {
    "scrolled": true
   },
   "outputs": [
    {
     "data": {
      "text/html": [
       "\n",
       "<div id=\"altair-viz-8be371d0183f4eccab14f824b44676a1\"></div>\n",
       "<script type=\"text/javascript\">\n",
       "  var VEGA_DEBUG = (typeof VEGA_DEBUG == \"undefined\") ? {} : VEGA_DEBUG;\n",
       "  (function(spec, embedOpt){\n",
       "    let outputDiv = document.currentScript.previousElementSibling;\n",
       "    if (outputDiv.id !== \"altair-viz-8be371d0183f4eccab14f824b44676a1\") {\n",
       "      outputDiv = document.getElementById(\"altair-viz-8be371d0183f4eccab14f824b44676a1\");\n",
       "    }\n",
       "    const paths = {\n",
       "      \"vega\": \"https://cdn.jsdelivr.net/npm//vega@5?noext\",\n",
       "      \"vega-lib\": \"https://cdn.jsdelivr.net/npm//vega-lib?noext\",\n",
       "      \"vega-lite\": \"https://cdn.jsdelivr.net/npm//vega-lite@4.17.0?noext\",\n",
       "      \"vega-embed\": \"https://cdn.jsdelivr.net/npm//vega-embed@6?noext\",\n",
       "    };\n",
       "\n",
       "    function maybeLoadScript(lib, version) {\n",
       "      var key = `${lib.replace(\"-\", \"\")}_version`;\n",
       "      return (VEGA_DEBUG[key] == version) ?\n",
       "        Promise.resolve(paths[lib]) :\n",
       "        new Promise(function(resolve, reject) {\n",
       "          var s = document.createElement('script');\n",
       "          document.getElementsByTagName(\"head\")[0].appendChild(s);\n",
       "          s.async = true;\n",
       "          s.onload = () => {\n",
       "            VEGA_DEBUG[key] = version;\n",
       "            return resolve(paths[lib]);\n",
       "          };\n",
       "          s.onerror = () => reject(`Error loading script: ${paths[lib]}`);\n",
       "          s.src = paths[lib];\n",
       "        });\n",
       "    }\n",
       "\n",
       "    function showError(err) {\n",
       "      outputDiv.innerHTML = `<div class=\"error\" style=\"color:red;\">${err}</div>`;\n",
       "      throw err;\n",
       "    }\n",
       "\n",
       "    function displayChart(vegaEmbed) {\n",
       "      vegaEmbed(outputDiv, spec, embedOpt)\n",
       "        .catch(err => showError(`Javascript Error: ${err.message}<br>This usually means there's a typo in your chart specification. See the javascript console for the full traceback.`));\n",
       "    }\n",
       "\n",
       "    if(typeof define === \"function\" && define.amd) {\n",
       "      requirejs.config({paths});\n",
       "      require([\"vega-embed\"], displayChart, err => showError(`Error loading script: ${err.message}`));\n",
       "    } else {\n",
       "      maybeLoadScript(\"vega\", \"5\")\n",
       "        .then(() => maybeLoadScript(\"vega-lite\", \"4.17.0\"))\n",
       "        .then(() => maybeLoadScript(\"vega-embed\", \"6\"))\n",
       "        .catch(showError)\n",
       "        .then(() => displayChart(vegaEmbed));\n",
       "    }\n",
       "  })({\"config\": {\"view\": {\"continuousWidth\": 400, \"continuousHeight\": 300}}, \"layer\": [{\"mark\": {\"type\": \"bar\", \"tooltip\": true}, \"encoding\": {\"x\": {\"field\": \"Year Constructed\", \"type\": \"ordinal\"}, \"y\": {\"aggregate\": \"max\", \"field\": \"Total Floors\", \"type\": \"quantitative\"}}}, {\"mark\": {\"type\": \"bar\", \"color\": \"red\", \"opacity\": 0.5, \"tooltip\": true}, \"encoding\": {\"x\": {\"field\": \"Year Constructed\", \"type\": \"nominal\"}, \"y\": {\"aggregate\": \"min\", \"field\": \"Total Floors\", \"type\": \"quantitative\"}}}], \"data\": {\"url\": \"https://raw.githubusercontent.com/UIUC-iSchool-DataViz/is445_bcubcg_fall2022/main/data/building_inventory.csv\"}, \"height\": 1000, \"width\": 2000, \"$schema\": \"https://vega.github.io/schema/vega-lite/v4.17.0.json\"}, {\"mode\": \"vega-lite\"});\n",
       "</script>"
      ],
      "text/plain": [
       "alt.LayerChart(...)"
      ]
     },
     "execution_count": 2,
     "metadata": {},
     "output_type": "execute_result"
    }
   ],
   "source": [
    "chart = alt.Chart.from_dict({\n",
    "    \"data\": {\"url\": \"https://raw.githubusercontent.com/UIUC-iSchool-DataViz/is445_bcubcg_fall2022/main/data/building_inventory.csv\"\n",
    "                                    },\n",
    "    \"height\": 1000,\n",
    "    \"width\": 2000,\n",
    "    \"layer\":[{\"mark\": {\"type\": \"bar\", \"tooltip\": True},\n",
    "             \"encoding\": {\"x\": {\"field\": \"Year Constructed\", \"type\": \"ordinal\"},\n",
    "                 \"y\": {\"aggregate\": \"max\", \"field\":\"Total Floors\", \"type\": \"quantitative\"}}},\n",
    "             {\"mark\": {\"type\": \"bar\", \"tooltip\": True, \"color\": \"red\", \"opacity\": 0.5},\n",
    "             \"encoding\": {\"x\": {\"field\": \"Year Constructed\", \"type\": \"nominal\"},\n",
    "                 \"y\": {\"aggregate\": \"min\", \"field\":\"Total Floors\", \"type\": \"quantitative\"}\n",
    "                }}]})\n",
    "chart"
   ]
  },
  {
   "cell_type": "code",
   "execution_count": 3,
   "id": "6cb3c2d4",
   "metadata": {},
   "outputs": [],
   "source": [
    "myJekyllDir = '/Users/chenghsuanlin/online_cv_public/assets/json/'"
   ]
  },
  {
   "cell_type": "code",
   "execution_count": 4,
   "id": "34f44e60",
   "metadata": {},
   "outputs": [],
   "source": [
    "chart.save(myJekyllDir+'Viz1.json')"
   ]
  },
  {
   "cell_type": "markdown",
   "id": "1ab229a8",
   "metadata": {},
   "source": [
    "### Write-up\n",
    "The visualization 1 is created to demonstrate the maximum and minimum floors of each constructed year in building dataset. In the chart, I encode the 'Year Constructed' as ordinal data type since year is discrete ordered number and encode 'Total Floors' as quantitative data type. As for other design choice, I use blue for the maximum total floors and red for the minimum total floors."
   ]
  },
  {
   "cell_type": "markdown",
   "id": "cf758ecf",
   "metadata": {},
   "source": [
    "## Visualization 2: Dashboard"
   ]
  },
  {
   "cell_type": "code",
   "execution_count": 5,
   "id": "7d1d2cc8",
   "metadata": {},
   "outputs": [],
   "source": [
    "brush = alt.selection_interval(encodings=['x','y'])"
   ]
  },
  {
   "cell_type": "code",
   "execution_count": 6,
   "id": "ddf9e1d2",
   "metadata": {},
   "outputs": [
    {
     "data": {
      "text/html": [
       "\n",
       "<div id=\"altair-viz-2676b48de1d746f59c64e72fb44684b2\"></div>\n",
       "<script type=\"text/javascript\">\n",
       "  var VEGA_DEBUG = (typeof VEGA_DEBUG == \"undefined\") ? {} : VEGA_DEBUG;\n",
       "  (function(spec, embedOpt){\n",
       "    let outputDiv = document.currentScript.previousElementSibling;\n",
       "    if (outputDiv.id !== \"altair-viz-2676b48de1d746f59c64e72fb44684b2\") {\n",
       "      outputDiv = document.getElementById(\"altair-viz-2676b48de1d746f59c64e72fb44684b2\");\n",
       "    }\n",
       "    const paths = {\n",
       "      \"vega\": \"https://cdn.jsdelivr.net/npm//vega@5?noext\",\n",
       "      \"vega-lib\": \"https://cdn.jsdelivr.net/npm//vega-lib?noext\",\n",
       "      \"vega-lite\": \"https://cdn.jsdelivr.net/npm//vega-lite@4.17.0?noext\",\n",
       "      \"vega-embed\": \"https://cdn.jsdelivr.net/npm//vega-embed@6?noext\",\n",
       "    };\n",
       "\n",
       "    function maybeLoadScript(lib, version) {\n",
       "      var key = `${lib.replace(\"-\", \"\")}_version`;\n",
       "      return (VEGA_DEBUG[key] == version) ?\n",
       "        Promise.resolve(paths[lib]) :\n",
       "        new Promise(function(resolve, reject) {\n",
       "          var s = document.createElement('script');\n",
       "          document.getElementsByTagName(\"head\")[0].appendChild(s);\n",
       "          s.async = true;\n",
       "          s.onload = () => {\n",
       "            VEGA_DEBUG[key] = version;\n",
       "            return resolve(paths[lib]);\n",
       "          };\n",
       "          s.onerror = () => reject(`Error loading script: ${paths[lib]}`);\n",
       "          s.src = paths[lib];\n",
       "        });\n",
       "    }\n",
       "\n",
       "    function showError(err) {\n",
       "      outputDiv.innerHTML = `<div class=\"error\" style=\"color:red;\">${err}</div>`;\n",
       "      throw err;\n",
       "    }\n",
       "\n",
       "    function displayChart(vegaEmbed) {\n",
       "      vegaEmbed(outputDiv, spec, embedOpt)\n",
       "        .catch(err => showError(`Javascript Error: ${err.message}<br>This usually means there's a typo in your chart specification. See the javascript console for the full traceback.`));\n",
       "    }\n",
       "\n",
       "    if(typeof define === \"function\" && define.amd) {\n",
       "      requirejs.config({paths});\n",
       "      require([\"vega-embed\"], displayChart, err => showError(`Error loading script: ${err.message}`));\n",
       "    } else {\n",
       "      maybeLoadScript(\"vega\", \"5\")\n",
       "        .then(() => maybeLoadScript(\"vega-lite\", \"4.17.0\"))\n",
       "        .then(() => maybeLoadScript(\"vega-embed\", \"6\"))\n",
       "        .catch(showError)\n",
       "        .then(() => displayChart(vegaEmbed));\n",
       "    }\n",
       "  })({\"config\": {\"view\": {\"continuousWidth\": 400, \"continuousHeight\": 300}}, \"data\": {\"url\": \"https://raw.githubusercontent.com/UIUC-iSchool-DataViz/is445_bcubcg_fall2022/main/data/building_inventory.csv\"}, \"mark\": \"rect\", \"encoding\": {\"color\": {\"aggregate\": \"count\", \"type\": \"quantitative\"}, \"x\": {\"bin\": true, \"field\": \"Square Footage\", \"type\": \"quantitative\"}, \"y\": {\"field\": \"Agency Name\", \"type\": \"nominal\"}}, \"height\": 800, \"selection\": {\"selector001\": {\"type\": \"interval\", \"encodings\": [\"x\", \"y\"]}}, \"width\": 300, \"$schema\": \"https://vega.github.io/schema/vega-lite/v4.17.0.json\"}, {\"mode\": \"vega-lite\"});\n",
       "</script>"
      ],
      "text/plain": [
       "alt.Chart(...)"
      ]
     },
     "execution_count": 6,
     "metadata": {},
     "output_type": "execute_result"
    }
   ],
   "source": [
    "rect = alt.Chart.from_dict({\n",
    "  \"data\":{\"url\":\"https://raw.githubusercontent.com/UIUC-iSchool-DataViz/is445_bcubcg_fall2022/main/data/building_inventory.csv\"},\n",
    "  \"mark\":\"rect\",\n",
    "  \"height\":800,\n",
    "  \"width\":300,\n",
    "  \"encoding\":{\n",
    "    \"x\":{\"bin\":True, \"field\":\"Square Footage\",\"type\":\"quantitative\"},\n",
    "    \"y\":{\"field\":\"Agency Name\", \"type\":\"nominal\"},\n",
    "    \"color\":{\"aggregate\":\"count\", \"type\":\"quantitative\"} \n",
    "            #// count numbers of rows with State/Student_teacher_ratio combinations\n",
    "  }#// end of encodings\n",
    "}).add_selection(\n",
    "    brush\n",
    ")\n",
    "rect"
   ]
  },
  {
   "cell_type": "code",
   "execution_count": 7,
   "id": "e9d3fafd",
   "metadata": {},
   "outputs": [],
   "source": [
    "hist = alt.Chart.from_dict({\n",
    "  \"data\": {\"url\": \"https://raw.githubusercontent.com/UIUC-iSchool-DataViz/is445_bcubcg_fall2022/main/data/building_inventory.csv\"\n",
    "  },\n",
    "  \"mark\": \"bar\",\n",
    "  \"height\": 800,\n",
    "  \"width\": 1000,\n",
    "  \"encoding\": {\n",
    "    \"x\": {\"field\": \"Year Acquired\", \"type\": \"ordinal\"},\n",
    "    \"y\": {\"field\": \"Square Footage\", \"type\": \"quantitative\"}\n",
    "  }\n",
    "}).transform_filter(\n",
    "    brush\n",
    ")\n",
    "#hist"
   ]
  },
  {
   "cell_type": "code",
   "execution_count": 8,
   "id": "27116c70",
   "metadata": {},
   "outputs": [],
   "source": [
    "dashboard = rect | hist"
   ]
  },
  {
   "cell_type": "code",
   "execution_count": 9,
   "id": "bbb92972",
   "metadata": {},
   "outputs": [
    {
     "data": {
      "text/html": [
       "\n",
       "<div id=\"altair-viz-38da699d2f074009aecb44ef8a6d420d\"></div>\n",
       "<script type=\"text/javascript\">\n",
       "  var VEGA_DEBUG = (typeof VEGA_DEBUG == \"undefined\") ? {} : VEGA_DEBUG;\n",
       "  (function(spec, embedOpt){\n",
       "    let outputDiv = document.currentScript.previousElementSibling;\n",
       "    if (outputDiv.id !== \"altair-viz-38da699d2f074009aecb44ef8a6d420d\") {\n",
       "      outputDiv = document.getElementById(\"altair-viz-38da699d2f074009aecb44ef8a6d420d\");\n",
       "    }\n",
       "    const paths = {\n",
       "      \"vega\": \"https://cdn.jsdelivr.net/npm//vega@5?noext\",\n",
       "      \"vega-lib\": \"https://cdn.jsdelivr.net/npm//vega-lib?noext\",\n",
       "      \"vega-lite\": \"https://cdn.jsdelivr.net/npm//vega-lite@4.17.0?noext\",\n",
       "      \"vega-embed\": \"https://cdn.jsdelivr.net/npm//vega-embed@6?noext\",\n",
       "    };\n",
       "\n",
       "    function maybeLoadScript(lib, version) {\n",
       "      var key = `${lib.replace(\"-\", \"\")}_version`;\n",
       "      return (VEGA_DEBUG[key] == version) ?\n",
       "        Promise.resolve(paths[lib]) :\n",
       "        new Promise(function(resolve, reject) {\n",
       "          var s = document.createElement('script');\n",
       "          document.getElementsByTagName(\"head\")[0].appendChild(s);\n",
       "          s.async = true;\n",
       "          s.onload = () => {\n",
       "            VEGA_DEBUG[key] = version;\n",
       "            return resolve(paths[lib]);\n",
       "          };\n",
       "          s.onerror = () => reject(`Error loading script: ${paths[lib]}`);\n",
       "          s.src = paths[lib];\n",
       "        });\n",
       "    }\n",
       "\n",
       "    function showError(err) {\n",
       "      outputDiv.innerHTML = `<div class=\"error\" style=\"color:red;\">${err}</div>`;\n",
       "      throw err;\n",
       "    }\n",
       "\n",
       "    function displayChart(vegaEmbed) {\n",
       "      vegaEmbed(outputDiv, spec, embedOpt)\n",
       "        .catch(err => showError(`Javascript Error: ${err.message}<br>This usually means there's a typo in your chart specification. See the javascript console for the full traceback.`));\n",
       "    }\n",
       "\n",
       "    if(typeof define === \"function\" && define.amd) {\n",
       "      requirejs.config({paths});\n",
       "      require([\"vega-embed\"], displayChart, err => showError(`Error loading script: ${err.message}`));\n",
       "    } else {\n",
       "      maybeLoadScript(\"vega\", \"5\")\n",
       "        .then(() => maybeLoadScript(\"vega-lite\", \"4.17.0\"))\n",
       "        .then(() => maybeLoadScript(\"vega-embed\", \"6\"))\n",
       "        .catch(showError)\n",
       "        .then(() => displayChart(vegaEmbed));\n",
       "    }\n",
       "  })({\"config\": {\"view\": {\"continuousWidth\": 400, \"continuousHeight\": 300}}, \"hconcat\": [{\"data\": {\"url\": \"https://raw.githubusercontent.com/UIUC-iSchool-DataViz/is445_bcubcg_fall2022/main/data/building_inventory.csv\"}, \"mark\": \"rect\", \"encoding\": {\"color\": {\"aggregate\": \"count\", \"type\": \"quantitative\"}, \"x\": {\"bin\": true, \"field\": \"Square Footage\", \"type\": \"quantitative\"}, \"y\": {\"field\": \"Agency Name\", \"type\": \"nominal\"}}, \"height\": 800, \"selection\": {\"selector001\": {\"type\": \"interval\", \"encodings\": [\"x\", \"y\"]}}, \"width\": 300}, {\"data\": {\"url\": \"https://raw.githubusercontent.com/UIUC-iSchool-DataViz/is445_bcubcg_fall2022/main/data/building_inventory.csv\"}, \"mark\": \"bar\", \"encoding\": {\"x\": {\"field\": \"Year Acquired\", \"type\": \"ordinal\"}, \"y\": {\"field\": \"Square Footage\", \"type\": \"quantitative\"}}, \"height\": 800, \"transform\": [{\"filter\": {\"selection\": \"selector001\"}}], \"width\": 1000}], \"$schema\": \"https://vega.github.io/schema/vega-lite/v4.17.0.json\"}, {\"mode\": \"vega-lite\"});\n",
       "</script>"
      ],
      "text/plain": [
       "alt.HConcatChart(...)"
      ]
     },
     "execution_count": 9,
     "metadata": {},
     "output_type": "execute_result"
    }
   ],
   "source": [
    "dashboard"
   ]
  },
  {
   "cell_type": "code",
   "execution_count": 10,
   "id": "8b752126",
   "metadata": {},
   "outputs": [],
   "source": [
    "myJekyllDir = '/Users/chenghsuanlin/online_cv_public/assets/json/'"
   ]
  },
  {
   "cell_type": "code",
   "execution_count": 11,
   "id": "e0d17367",
   "metadata": {},
   "outputs": [],
   "source": [
    "dashboard.save(myJekyllDir+'Viz2.json')"
   ]
  },
  {
   "cell_type": "markdown",
   "id": "f40c843d",
   "metadata": {},
   "source": [
    "### Write-up\n",
    "\n",
    "The visualization 2 was created to describe the relationship of \"Agency Name\" and \"square footage\" as well as \"year acquired\" and \"square footage\" of the buildings. This visualization is a dashboard with a heatmap on the left and a bar plot on the right.\n",
    "As for design choices, \"square footage\" is a quantitative value, \"Agency Name\" is a discrete unordered category, and the \"year acquired\" is a discrete ordered quantity which makes it ordinal. I change the encoding of “year acquired“ from quantitative to ordinal to make it work with Altair. The color choices in this visualization is by default and if you make a selection on the heatmap, the bar plot will transform. Therefore, we can see the relationship of the agency, the square footage, and the year acquired of the buildings."
   ]
  }
 ],
 "metadata": {
  "kernelspec": {
   "display_name": "Python 3 (ipykernel)",
   "language": "python",
   "name": "python3"
  },
  "language_info": {
   "codemirror_mode": {
    "name": "ipython",
    "version": 3
   },
   "file_extension": ".py",
   "mimetype": "text/x-python",
   "name": "python",
   "nbconvert_exporter": "python",
   "pygments_lexer": "ipython3",
   "version": "3.8.13"
  }
 },
 "nbformat": 4,
 "nbformat_minor": 5
}
